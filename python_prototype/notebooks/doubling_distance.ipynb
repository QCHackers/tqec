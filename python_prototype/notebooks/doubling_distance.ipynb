{
 "cells": [
  {
   "cell_type": "markdown",
   "metadata": {},
   "source": [
    "# Illustration of the doubling-distance code\n",
    "This notebook aims at illustrating how a doubling distance code like \n",
    "\n",
    "![image.png](./doubling_distance.png)\n",
    "\n",
    "can be implemented using the template approach."
   ]
  },
  {
   "cell_type": "markdown",
   "metadata": {},
   "source": [
    "## 1. Define the building blocks"
   ]
  },
  {
   "cell_type": "code",
   "execution_count": 2,
   "metadata": {},
   "outputs": [],
   "source": [
    "import numpy\n",
    "from tqec.templates.scalable.rectangle import ScalableRectangle\n",
    "from tqec.templates.fixed.base import FixedRaw\n",
    "from tqec.templates.scalable.square import ScalableAlternatingSquare\n",
    "from tqec.templates.fixed.square import FixedAlternatingSquare\n",
    "from tqec.templates.base import TemplateWithIndices\n",
    "\n",
    "\n",
    "left_white_scalable_rectangle = TemplateWithIndices(\n",
    "    ScalableRectangle(1, 4), [1, 0]\n",
    ")  # 2, 9, 19\n",
    "right_white_scalable_rectangle = TemplateWithIndices(\n",
    "    ScalableRectangle(1, 4), [0, 1]\n",
    ")  # 4, 13, 23\n",
    "top_white_scalable_rectangle = TemplateWithIndices(ScalableRectangle(4, 1), [1, 0])  # 8\n",
    "top_black_scalable_rectangle = TemplateWithIndices(ScalableRectangle(4, 1), [0, 1])  # 1\n",
    "bottom_black_scalable_rectangle = TemplateWithIndices(\n",
    "    ScalableRectangle(4, 1), [1, 0]\n",
    ")  # 24, 26\n",
    "scalable_square = TemplateWithIndices(\n",
    "    ScalableAlternatingSquare(4), [1, 1]\n",
    ")  # 3, 10, 20, 22\n",
    "fixed_square = TemplateWithIndices(FixedAlternatingSquare(2), [1, 1])  # 16\n",
    "horizontal_scalable_rectangle = TemplateWithIndices(\n",
    "    ScalableRectangle(4, 2), [1, 1]\n",
    ")  # 6, 15, 17\n",
    "vertical_scalable_rectangle = TemplateWithIndices(\n",
    "    ScalableRectangle(2, 4), [1, 1]\n",
    ")  # 11, 21\n",
    "left_fixed_square = TemplateWithIndices(FixedRaw([[0]]), [1])\n",
    "right_fixed_square = TemplateWithIndices(FixedRaw([[0]]), [1])\n",
    "bottom_fixed_square = TemplateWithIndices(FixedRaw([[0]]), [1])\n",
    "# Specific cases:\n",
    "# - the corner numbered 7\n",
    "corner = TemplateWithIndices(FixedRaw([[0]]), [7])\n",
    "\n",
    "\n",
    "# - the square numbered 12 that has a specific top-right plaquette\n",
    "class SpecificScalableAlternatingSquare(ScalableAlternatingSquare):\n",
    "    def instanciate(\n",
    "        self, x_plaquette: int, z_plaquette: int, special_plaquette: int, *_: int\n",
    "    ) -> numpy.ndarray:\n",
    "        arr = super().instanciate(x_plaquette, z_plaquette, *_)\n",
    "        arr[0, -1] = special_plaquette\n",
    "        return arr\n",
    "\n",
    "\n",
    "top_right_specific_square = TemplateWithIndices(\n",
    "    SpecificScalableAlternatingSquare(4), [1, 1, 1]\n",
    ")"
   ]
  },
  {
   "cell_type": "code",
   "execution_count": 3,
   "metadata": {},
   "outputs": [],
   "source": [
    "templates = [\n",
    "    # 0\n",
    "    top_black_scalable_rectangle,\n",
    "    left_white_scalable_rectangle,\n",
    "    scalable_square,\n",
    "    right_white_scalable_rectangle,\n",
    "    left_fixed_square,\n",
    "    # 5\n",
    "    horizontal_scalable_rectangle,\n",
    "    corner,\n",
    "    top_white_scalable_rectangle,\n",
    "    left_white_scalable_rectangle,\n",
    "    scalable_square,\n",
    "    # 10\n",
    "    vertical_scalable_rectangle,\n",
    "    top_right_specific_square,\n",
    "    right_white_scalable_rectangle,\n",
    "    left_fixed_square,\n",
    "    horizontal_scalable_rectangle,\n",
    "    # 15\n",
    "    fixed_square,\n",
    "    horizontal_scalable_rectangle,\n",
    "    right_fixed_square,\n",
    "    left_white_scalable_rectangle,\n",
    "    scalable_square,\n",
    "    # 20\n",
    "    vertical_scalable_rectangle,\n",
    "    scalable_square,\n",
    "    right_white_scalable_rectangle,\n",
    "    bottom_black_scalable_rectangle,\n",
    "    bottom_fixed_square,\n",
    "    # 25\n",
    "    bottom_black_scalable_rectangle,\n",
    "]\n",
    "assert len(templates) == 26"
   ]
  },
  {
   "cell_type": "code",
   "execution_count": 4,
   "metadata": {},
   "outputs": [],
   "source": [
    "from tqec.enums import ABOVE_OF, BELOW_OF, LEFT_OF, RIGHT_OF, CornerPositionEnum\n",
    "\n",
    "relations = [\n",
    "    (0, ABOVE_OF, 2),\n",
    "    (1, LEFT_OF, 2),\n",
    "    (3, RIGHT_OF, 2),\n",
    "    (4, BELOW_OF, 1),\n",
    "    (5, BELOW_OF, 2),\n",
    "    (9, BELOW_OF, 5),\n",
    "    (8, LEFT_OF, 9),\n",
    "    (10, RIGHT_OF, 9),\n",
    "    (11, RIGHT_OF, 10),\n",
    "    (12, RIGHT_OF, 11),\n",
    "    (7, ABOVE_OF, 11),\n",
    "    (13, BELOW_OF, 8),\n",
    "    (14, BELOW_OF, 9),\n",
    "    (15, BELOW_OF, 10),\n",
    "    (16, BELOW_OF, 11),\n",
    "    (19, BELOW_OF, 14),\n",
    "    (18, LEFT_OF, 19),\n",
    "    (20, RIGHT_OF, 19),\n",
    "    (21, RIGHT_OF, 20),\n",
    "    (22, RIGHT_OF, 21),\n",
    "    (17, ABOVE_OF, 22),\n",
    "    (23, BELOW_OF, 19),\n",
    "    (24, RIGHT_OF, 23),\n",
    "    (25, BELOW_OF, 21),\n",
    "]\n",
    "corner_relations = [\n",
    "    ((6, CornerPositionEnum.LOWER_LEFT), (CornerPositionEnum.UPPER_RIGHT, 9)),\n",
    "]"
   ]
  },
  {
   "cell_type": "code",
   "execution_count": 5,
   "metadata": {},
   "outputs": [],
   "source": [
    "from tqec.templates.orchestrator import TemplateOrchestrator\n",
    "\n",
    "\n",
    "doubling_template = TemplateOrchestrator(templates)\n",
    "for start, reldir, end in relations:\n",
    "    doubling_template.add_relation(start, reldir, end)\n",
    "    \n",
    "for (start, start_corner), (end_corner, end) in corner_relations:\n",
    "    doubling_template.add_corner_relation((start, start_corner), (end, end_corner))"
   ]
  },
  {
   "cell_type": "code",
   "execution_count": 6,
   "metadata": {},
   "outputs": [
    {
     "name": "stdout",
     "output_type": "stream",
     "text": [
      "  .  .  1  .  1  .  .  .  .  .  .  .\n",
      "  1  1  1  1  1  .  .  .  .  .  .  .\n",
      "  .  1  1  1  1  1  .  .  .  .  .  .\n",
      "  1  1  1  1  1  .  .  .  .  .  .  .\n",
      "  .  1  1  1  1  1  .  .  .  .  .  .\n",
      "  1  1  1  1  1  .  .  .  .  .  .  .\n",
      "  .  1  1  1  1  7  .  1  .  1  .  .\n",
      "  1  1  1  1  1  1  1  1  1  1  1  .\n",
      "  .  1  1  1  1  1  1  1  1  1  1  1\n",
      "  1  1  1  1  1  1  1  1  1  1  1  .\n",
      "  .  1  1  1  1  1  1  1  1  1  1  1\n",
      "  1  1  1  1  1  1  1  1  1  1  1  .\n",
      "  .  1  1  1  1  1  1  1  1  1  1  1\n",
      "  1  1  1  1  1  1  1  1  1  1  1  .\n",
      "  .  1  1  1  1  1  1  1  1  1  1  1\n",
      "  1  1  1  1  1  1  1  1  1  1  1  .\n",
      "  .  1  1  1  1  1  1  1  1  1  1  1\n",
      "  .  1  .  1  .  1  .  1  .  1  .  .\n"
     ]
    }
   ],
   "source": [
    "from tqec.display import display\n",
    "display(doubling_template)"
   ]
  },
  {
   "cell_type": "code",
   "execution_count": 7,
   "metadata": {},
   "outputs": [
    {
     "name": "stdout",
     "output_type": "stream",
     "text": [
      "  .  .  1  .  1  .  1  .  .  .  .  .  .  .  .  .\n",
      "  1  1  1  1  1  1  1  .  .  .  .  .  .  .  .  .\n",
      "  .  1  1  1  1  1  1  1  .  .  .  .  .  .  .  .\n",
      "  1  1  1  1  1  1  1  .  .  .  .  .  .  .  .  .\n",
      "  .  1  1  1  1  1  1  1  .  .  .  .  .  .  .  .\n",
      "  1  1  1  1  1  1  1  .  .  .  .  .  .  .  .  .\n",
      "  .  1  1  1  1  1  1  1  .  .  .  .  .  .  .  .\n",
      "  1  1  1  1  1  1  1  .  .  .  .  .  .  .  .  .\n",
      "  .  1  1  1  1  1  1  7  .  1  .  1  .  1  .  .\n",
      "  1  1  1  1  1  1  1  1  1  1  1  1  1  1  1  .\n",
      "  .  1  1  1  1  1  1  1  1  1  1  1  1  1  1  1\n",
      "  1  1  1  1  1  1  1  1  1  1  1  1  1  1  1  .\n",
      "  .  1  1  1  1  1  1  1  1  1  1  1  1  1  1  1\n",
      "  1  1  1  1  1  1  1  1  1  1  1  1  1  1  1  .\n",
      "  .  1  1  1  1  1  1  1  1  1  1  1  1  1  1  1\n",
      "  1  1  1  1  1  1  1  1  1  1  1  1  1  1  1  .\n",
      "  .  1  1  1  1  1  1  1  1  1  1  1  1  1  1  1\n",
      "  1  1  1  1  1  1  1  1  1  1  1  1  1  1  1  .\n",
      "  .  1  1  1  1  1  1  1  1  1  1  1  1  1  1  1\n",
      "  1  1  1  1  1  1  1  1  1  1  1  1  1  1  1  .\n",
      "  .  1  1  1  1  1  1  1  1  1  1  1  1  1  1  1\n",
      "  1  1  1  1  1  1  1  1  1  1  1  1  1  1  1  .\n",
      "  .  1  1  1  1  1  1  1  1  1  1  1  1  1  1  1\n",
      "  .  1  .  1  .  1  .  1  .  1  .  1  .  1  .  .\n"
     ]
    }
   ],
   "source": [
    "display(doubling_template.scale_to(6))"
   ]
  }
 ],
 "metadata": {
  "kernelspec": {
   "display_name": "qec",
   "language": "python",
   "name": "python3"
  },
  "language_info": {
   "codemirror_mode": {
    "name": "ipython",
    "version": 3
   },
   "file_extension": ".py",
   "mimetype": "text/x-python",
   "name": "python",
   "nbconvert_exporter": "python",
   "pygments_lexer": "ipython3",
   "version": "3.12.0"
  }
 },
 "nbformat": 4,
 "nbformat_minor": 2
}
