{
 "cells": [
  {
   "cell_type": "markdown",
   "metadata": {},
   "source": [
    "# Example to generate a corner\n",
    "\n",
    "This notebook aims at showing how to generate a corner using the template approach."
   ]
  },
  {
   "cell_type": "code",
   "execution_count": 1,
   "metadata": {
    "vscode": {
     "languageId": "shellscript"
    }
   },
   "outputs": [
    {
     "name": "stdout",
     "output_type": "stream",
     "text": [
      "Obtaining file:///home/suau/qraftware/projects/tqec/python_prototype\n",
      "  Preparing metadata (setup.py) ... \u001b[?25ldone\n",
      "\u001b[?25hRequirement already satisfied: numpy in /home/suau/miniconda3/envs/qec/lib/python3.12/site-packages (from tqec==0.0.1) (1.26.1)\n",
      "Requirement already satisfied: networkx in /home/suau/miniconda3/envs/qec/lib/python3.12/site-packages (from tqec==0.0.1) (3.2.1)\n",
      "Requirement already satisfied: sympy in /home/suau/miniconda3/envs/qec/lib/python3.12/site-packages (from tqec==0.0.1) (1.12)\n",
      "Requirement already satisfied: mpmath>=0.19 in /home/suau/miniconda3/envs/qec/lib/python3.12/site-packages (from sympy->tqec==0.0.1) (1.3.0)\n",
      "Installing collected packages: tqec\n",
      "  Running setup.py develop for tqec\n",
      "Successfully installed tqec-0.0.1\n"
     ]
    }
   ],
   "source": [
    "# Install the tqec package locally\n",
    "!python -m pip install -e ../"
   ]
  },
  {
   "cell_type": "code",
   "execution_count": 2,
   "metadata": {},
   "outputs": [
    {
     "name": "stdout",
     "output_type": "stream",
     "text": [
      "Corner size: (12, 12)\n",
      "  .  .  1  .  1  .  .  .  .  .  .  .\n",
      "  2  3  4  3  4  .  .  .  .  .  .  .\n",
      "  .  4  3  4  3  5  .  .  .  .  .  .\n",
      "  2  3  4  3  4  .  .  .  .  .  .  .\n",
      "  .  4  3  4  3  5  .  .  .  .  .  .\n",
      "  2  3  4  3  4  .  .  .  .  .  .  .\n",
      "  .  4  3  4  3  6  .  7  .  7  .  .\n",
      "  2  4  3  4  8  9  8  9  8  9  8 10\n",
      "  .  3  4  8  9  8  9  8  9  8  9  .\n",
      "  2  4  8  9  8  9  8  9  8  9  8 10\n",
      "  . 11  9  8  9  8  9  8  9  8  9  .\n",
      "  .  . 12  . 12  . 12  . 12  . 12  .\n"
     ]
    }
   ],
   "source": [
    "from tqec.constructions.corner import ScalableCorner\n",
    "from tqec.display import display\n",
    "\n",
    "# Corner made of distance 5 (i.e., 4 plaquettes, i.e., dim=4 in the line below) surface codes\n",
    "corner = ScalableCorner(4)\n",
    "print(f\"Corner size: {corner.shape}\")\n",
    "display(corner)"
   ]
  },
  {
   "cell_type": "code",
   "execution_count": 3,
   "metadata": {},
   "outputs": [
    {
     "name": "stdout",
     "output_type": "stream",
     "text": [
      "Corner size: (16, 16)\n",
      "  .  .  1  .  1  .  1  .  .  .  .  .  .  .  .  .\n",
      "  2  3  4  3  4  3  4  .  .  .  .  .  .  .  .  .\n",
      "  .  4  3  4  3  4  3  5  .  .  .  .  .  .  .  .\n",
      "  2  3  4  3  4  3  4  .  .  .  .  .  .  .  .  .\n",
      "  .  4  3  4  3  4  3  5  .  .  .  .  .  .  .  .\n",
      "  2  3  4  3  4  3  4  .  .  .  .  .  .  .  .  .\n",
      "  .  4  3  4  3  4  3  5  .  .  .  .  .  .  .  .\n",
      "  2  3  4  3  4  3  4  .  .  .  .  .  .  .  .  .\n",
      "  .  4  3  4  3  4  3  6  .  7  .  7  .  7  .  .\n",
      "  2  4  3  4  3  4  8  9  8  9  8  9  8  9  8 10\n",
      "  .  3  4  3  4  8  9  8  9  8  9  8  9  8  9  .\n",
      "  2  4  3  4  8  9  8  9  8  9  8  9  8  9  8 10\n",
      "  .  3  4  8  9  8  9  8  9  8  9  8  9  8  9  .\n",
      "  2  4  8  9  8  9  8  9  8  9  8  9  8  9  8 10\n",
      "  . 11  9  8  9  8  9  8  9  8  9  8  9  8  9  .\n",
      "  .  . 12  . 12  . 12  . 12  . 12  . 12  . 12  .\n"
     ]
    }
   ],
   "source": [
    "# Corner made of distance 7 (i.e., 6 plaquettes, i.e., k=6 in the line below) surface codes\n",
    "# This changes corner inplace\n",
    "corner.scale_to(6)\n",
    "print(f\"Corner size: {corner.shape}\")\n",
    "display(corner)"
   ]
  },
  {
   "cell_type": "code",
   "execution_count": 4,
   "metadata": {},
   "outputs": [
    {
     "name": "stdout",
     "output_type": "stream",
     "text": [
      "Corner size: (44, 44)\n",
      "  .  .  1  .  1  .  1  .  1  .  1  .  1  .  1  .  1  .  1  .  1  .  .  .  .  .  .  .  .  .  .  .  .  .  .  .  .  .  .  .  .  .  .  .\n",
      "  2  3  4  3  4  3  4  3  4  3  4  3  4  3  4  3  4  3  4  3  4  .  .  .  .  .  .  .  .  .  .  .  .  .  .  .  .  .  .  .  .  .  .  .\n",
      "  .  4  3  4  3  4  3  4  3  4  3  4  3  4  3  4  3  4  3  4  3  5  .  .  .  .  .  .  .  .  .  .  .  .  .  .  .  .  .  .  .  .  .  .\n",
      "  2  3  4  3  4  3  4  3  4  3  4  3  4  3  4  3  4  3  4  3  4  .  .  .  .  .  .  .  .  .  .  .  .  .  .  .  .  .  .  .  .  .  .  .\n",
      "  .  4  3  4  3  4  3  4  3  4  3  4  3  4  3  4  3  4  3  4  3  5  .  .  .  .  .  .  .  .  .  .  .  .  .  .  .  .  .  .  .  .  .  .\n",
      "  2  3  4  3  4  3  4  3  4  3  4  3  4  3  4  3  4  3  4  3  4  .  .  .  .  .  .  .  .  .  .  .  .  .  .  .  .  .  .  .  .  .  .  .\n",
      "  .  4  3  4  3  4  3  4  3  4  3  4  3  4  3  4  3  4  3  4  3  5  .  .  .  .  .  .  .  .  .  .  .  .  .  .  .  .  .  .  .  .  .  .\n",
      "  2  3  4  3  4  3  4  3  4  3  4  3  4  3  4  3  4  3  4  3  4  .  .  .  .  .  .  .  .  .  .  .  .  .  .  .  .  .  .  .  .  .  .  .\n",
      "  .  4  3  4  3  4  3  4  3  4  3  4  3  4  3  4  3  4  3  4  3  5  .  .  .  .  .  .  .  .  .  .  .  .  .  .  .  .  .  .  .  .  .  .\n",
      "  2  3  4  3  4  3  4  3  4  3  4  3  4  3  4  3  4  3  4  3  4  .  .  .  .  .  .  .  .  .  .  .  .  .  .  .  .  .  .  .  .  .  .  .\n",
      "  .  4  3  4  3  4  3  4  3  4  3  4  3  4  3  4  3  4  3  4  3  5  .  .  .  .  .  .  .  .  .  .  .  .  .  .  .  .  .  .  .  .  .  .\n",
      "  2  3  4  3  4  3  4  3  4  3  4  3  4  3  4  3  4  3  4  3  4  .  .  .  .  .  .  .  .  .  .  .  .  .  .  .  .  .  .  .  .  .  .  .\n",
      "  .  4  3  4  3  4  3  4  3  4  3  4  3  4  3  4  3  4  3  4  3  5  .  .  .  .  .  .  .  .  .  .  .  .  .  .  .  .  .  .  .  .  .  .\n",
      "  2  3  4  3  4  3  4  3  4  3  4  3  4  3  4  3  4  3  4  3  4  .  .  .  .  .  .  .  .  .  .  .  .  .  .  .  .  .  .  .  .  .  .  .\n",
      "  .  4  3  4  3  4  3  4  3  4  3  4  3  4  3  4  3  4  3  4  3  5  .  .  .  .  .  .  .  .  .  .  .  .  .  .  .  .  .  .  .  .  .  .\n",
      "  2  3  4  3  4  3  4  3  4  3  4  3  4  3  4  3  4  3  4  3  4  .  .  .  .  .  .  .  .  .  .  .  .  .  .  .  .  .  .  .  .  .  .  .\n",
      "  .  4  3  4  3  4  3  4  3  4  3  4  3  4  3  4  3  4  3  4  3  5  .  .  .  .  .  .  .  .  .  .  .  .  .  .  .  .  .  .  .  .  .  .\n",
      "  2  3  4  3  4  3  4  3  4  3  4  3  4  3  4  3  4  3  4  3  4  .  .  .  .  .  .  .  .  .  .  .  .  .  .  .  .  .  .  .  .  .  .  .\n",
      "  .  4  3  4  3  4  3  4  3  4  3  4  3  4  3  4  3  4  3  4  3  5  .  .  .  .  .  .  .  .  .  .  .  .  .  .  .  .  .  .  .  .  .  .\n",
      "  2  3  4  3  4  3  4  3  4  3  4  3  4  3  4  3  4  3  4  3  4  .  .  .  .  .  .  .  .  .  .  .  .  .  .  .  .  .  .  .  .  .  .  .\n",
      "  .  4  3  4  3  4  3  4  3  4  3  4  3  4  3  4  3  4  3  4  3  5  .  .  .  .  .  .  .  .  .  .  .  .  .  .  .  .  .  .  .  .  .  .\n",
      "  2  3  4  3  4  3  4  3  4  3  4  3  4  3  4  3  4  3  4  3  4  .  .  .  .  .  .  .  .  .  .  .  .  .  .  .  .  .  .  .  .  .  .  .\n",
      "  .  4  3  4  3  4  3  4  3  4  3  4  3  4  3  4  3  4  3  4  3  6  .  7  .  7  .  7  .  7  .  7  .  7  .  7  .  7  .  7  .  7  .  .\n",
      "  2  4  3  4  3  4  3  4  3  4  3  4  3  4  3  4  3  4  3  4  8  9  8  9  8  9  8  9  8  9  8  9  8  9  8  9  8  9  8  9  8  9  8 10\n",
      "  .  3  4  3  4  3  4  3  4  3  4  3  4  3  4  3  4  3  4  8  9  8  9  8  9  8  9  8  9  8  9  8  9  8  9  8  9  8  9  8  9  8  9  .\n",
      "  2  4  3  4  3  4  3  4  3  4  3  4  3  4  3  4  3  4  8  9  8  9  8  9  8  9  8  9  8  9  8  9  8  9  8  9  8  9  8  9  8  9  8 10\n",
      "  .  3  4  3  4  3  4  3  4  3  4  3  4  3  4  3  4  8  9  8  9  8  9  8  9  8  9  8  9  8  9  8  9  8  9  8  9  8  9  8  9  8  9  .\n",
      "  2  4  3  4  3  4  3  4  3  4  3  4  3  4  3  4  8  9  8  9  8  9  8  9  8  9  8  9  8  9  8  9  8  9  8  9  8  9  8  9  8  9  8 10\n",
      "  .  3  4  3  4  3  4  3  4  3  4  3  4  3  4  8  9  8  9  8  9  8  9  8  9  8  9  8  9  8  9  8  9  8  9  8  9  8  9  8  9  8  9  .\n",
      "  2  4  3  4  3  4  3  4  3  4  3  4  3  4  8  9  8  9  8  9  8  9  8  9  8  9  8  9  8  9  8  9  8  9  8  9  8  9  8  9  8  9  8 10\n",
      "  .  3  4  3  4  3  4  3  4  3  4  3  4  8  9  8  9  8  9  8  9  8  9  8  9  8  9  8  9  8  9  8  9  8  9  8  9  8  9  8  9  8  9  .\n",
      "  2  4  3  4  3  4  3  4  3  4  3  4  8  9  8  9  8  9  8  9  8  9  8  9  8  9  8  9  8  9  8  9  8  9  8  9  8  9  8  9  8  9  8 10\n",
      "  .  3  4  3  4  3  4  3  4  3  4  8  9  8  9  8  9  8  9  8  9  8  9  8  9  8  9  8  9  8  9  8  9  8  9  8  9  8  9  8  9  8  9  .\n",
      "  2  4  3  4  3  4  3  4  3  4  8  9  8  9  8  9  8  9  8  9  8  9  8  9  8  9  8  9  8  9  8  9  8  9  8  9  8  9  8  9  8  9  8 10\n",
      "  .  3  4  3  4  3  4  3  4  8  9  8  9  8  9  8  9  8  9  8  9  8  9  8  9  8  9  8  9  8  9  8  9  8  9  8  9  8  9  8  9  8  9  .\n",
      "  2  4  3  4  3  4  3  4  8  9  8  9  8  9  8  9  8  9  8  9  8  9  8  9  8  9  8  9  8  9  8  9  8  9  8  9  8  9  8  9  8  9  8 10\n",
      "  .  3  4  3  4  3  4  8  9  8  9  8  9  8  9  8  9  8  9  8  9  8  9  8  9  8  9  8  9  8  9  8  9  8  9  8  9  8  9  8  9  8  9  .\n",
      "  2  4  3  4  3  4  8  9  8  9  8  9  8  9  8  9  8  9  8  9  8  9  8  9  8  9  8  9  8  9  8  9  8  9  8  9  8  9  8  9  8  9  8 10\n",
      "  .  3  4  3  4  8  9  8  9  8  9  8  9  8  9  8  9  8  9  8  9  8  9  8  9  8  9  8  9  8  9  8  9  8  9  8  9  8  9  8  9  8  9  .\n",
      "  2  4  3  4  8  9  8  9  8  9  8  9  8  9  8  9  8  9  8  9  8  9  8  9  8  9  8  9  8  9  8  9  8  9  8  9  8  9  8  9  8  9  8 10\n",
      "  .  3  4  8  9  8  9  8  9  8  9  8  9  8  9  8  9  8  9  8  9  8  9  8  9  8  9  8  9  8  9  8  9  8  9  8  9  8  9  8  9  8  9  .\n",
      "  2  4  8  9  8  9  8  9  8  9  8  9  8  9  8  9  8  9  8  9  8  9  8  9  8  9  8  9  8  9  8  9  8  9  8  9  8  9  8  9  8  9  8 10\n",
      "  . 11  9  8  9  8  9  8  9  8  9  8  9  8  9  8  9  8  9  8  9  8  9  8  9  8  9  8  9  8  9  8  9  8  9  8  9  8  9  8  9  8  9  .\n",
      "  .  . 12  . 12  . 12  . 12  . 12  . 12  . 12  . 12  . 12  . 12  . 12  . 12  . 12  . 12  . 12  . 12  . 12  . 12  . 12  . 12  . 12  .\n"
     ]
    }
   ],
   "source": [
    "# Corner made of distance 21 (i.e., 20 plaquettes, i.e., k=20 in the line below) surface codes\n",
    "# This changes corner inplace\n",
    "corner.scale_to(20)\n",
    "print(f\"Corner size: {corner.shape}\")\n",
    "# Might be long to display and hard to read, commented out by default.\n",
    "# Uncomment next line if you want to display the plaquette arrangement.\n",
    "display(corner)"
   ]
  },
  {
   "cell_type": "code",
   "execution_count": 5,
   "metadata": {},
   "outputs": [
    {
     "name": "stdout",
     "output_type": "stream",
     "text": [
      "(10004, 10004)\n",
      "(10004, 10004)\n"
     ]
    }
   ],
   "source": [
    "# The library can go quite high:\n",
    "corner.scale_to(5000)\n",
    "plaquette_indices = list(range(corner.expected_plaquettes_number))\n",
    "array = corner.instanciate(*plaquette_indices)\n",
    "print(array.shape)\n",
    "print(corner.shape)"
   ]
  }
 ],
 "metadata": {
  "kernelspec": {
   "display_name": "qec",
   "language": "python",
   "name": "python3"
  },
  "language_info": {
   "codemirror_mode": {
    "name": "ipython",
    "version": 3
   },
   "file_extension": ".py",
   "mimetype": "text/x-python",
   "name": "python",
   "nbconvert_exporter": "python",
   "pygments_lexer": "ipython3",
   "version": "3.12.0"
  }
 },
 "nbformat": 4,
 "nbformat_minor": 2
}
