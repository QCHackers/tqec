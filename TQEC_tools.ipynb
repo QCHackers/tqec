{
 "cells": [
  {
   "cell_type": "markdown",
   "metadata": {},
   "source": [
    "# Topological Quantum Error Correction ( TQEC ) : Topological automation\n",
    "\n",
    "## Setup the basic tools for TQEC\n",
    "\n",
    "### Simple things to build QEC code with given packages ( can be changed )\n",
    "- Numpy\n",
    "- Stim"
   ]
  },
  {
   "cell_type": "code",
   "execution_count": 1,
   "metadata": {},
   "outputs": [],
   "source": [
    "import numpy as np\n",
    "import stim"
   ]
  },
  {
   "cell_type": "markdown",
   "metadata": {},
   "source": [
    "# Create TQEC class \n",
    "\n",
    "It takes a tool package ( ex. stim ) and creates an operator set for TQEC platform"
   ]
  },
  {
   "cell_type": "code",
   "execution_count": 2,
   "metadata": {},
   "outputs": [],
   "source": [
    "# TQEC class\n",
    "class TQEC:\n",
    "    \n",
    "    # Creating quantum circuit \n",
    "    # Make memories lists for tracking activated & deactivated qubits\n",
    "    def __init__( self, pakage_name = stim):\n",
    "        self.custom_name = pakage_name\n",
    "        self.circuit = self.custom_name.Circuit()\n",
    "        \n",
    "        self.structure_qubits = [ ]\n",
    "        self.activated_qubits = [ ]\n",
    "        self.deactivated_qubits = [ ]\n",
    "    \n",
    "    # Apply physical qubits into the circuits and give an index for each qubits\n",
    "    def physical_qubits( self, total_qubit_num ):\n",
    "        self.structure_qubits = np.arange( total_qubit_num )\n",
    "        for num in self.structure_qubits:\n",
    "            self.circuit.append_operation( \"QUBIT_COORDS\",[ num ] )\n",
    "    \n",
    "    # Implementing two qubit gates requires certain qubit ordering [ control1, target1, control2, target2, ... ]\n",
    "    def merging_lists( self, first_qubit_list, second_qubit_list ):\n",
    "        return [sub[item] for item in range(len(second_qubit_list))\n",
    "                        for sub in [first_qubit_list, second_qubit_list]]\n",
    "    \n",
    "    ## Whenever we apply quantum gates in the circuit, we update activated & deactivated qubits \n",
    "    \n",
    "    # Implementing cnot gate between given control qubit list and target qubit list\n",
    "    def cnot( self, control_qubits, target_qubits ):\n",
    "        self.activated_qubits = list( set(control_qubits).union( target_qubits ) )\n",
    "        return self.circuit.append_operation( \"CNOT\", self.merging_lists( control_qubits, target_qubits ) )\n",
    "    \n",
    "    # Implementing cz gate between given control qubit list and target qubit list\n",
    "    def cz( self, control_qubits, target_qubits ):\n",
    "        self.activated_qubits = list( set(control_qubits).union( target_qubits ) )\n",
    "        return self.circuit.append_operation( \"CZ\", self.merging_lists( control_qubits, target_qubits ) )\n",
    "    \n",
    "    # Implementing single qubit gate with given gate types ( H, X, Z, ... )\n",
    "    def single_gate( self, gate_type, activate_qubits ):\n",
    "        self.activated_qubits = list( set(activate_qubits) )\n",
    "        return self.circuit.append_operation( gate_type, activate_qubits )\n",
    "\n",
    "    # Measure qubits \n",
    "    def measure( self, activate_qubits ):\n",
    "        self.activated_qubits = list( set(activate_qubits) )\n",
    "        return self.circuit.append_operation( \"MR\", activate_qubits )\n",
    "    \n",
    "    ### Errors for quantum error correction code\n",
    "    def bitflip_err( self, activate_qubits, error_rate ):\n",
    "        return self.circuit.append_operation( \"X_ERROR\", activate_qubits, error_rate )\n",
    "    \n",
    "    def single_dep_err( self, activate_qubits, error_rate ):\n",
    "        return self.circuit.append_operation( \"DEPOLARIZE1\", activate_qubits, error_rate )\n",
    "    \n",
    "    def two_dep_err( self, control_qubits, target_qubits, error_rate ):\n",
    "        return self.circuit.append_operation( \"DEPOLARIZE2\", self.merging_lists( control_qubits, target_qubits ), error_rate )\n",
    "    \n",
    "    def idling_err( self, error_rate ):\n",
    "        return self.circuit.append_operation( \"DEPOLARIZE1\", list( set(self.structure_qubits) - set( self.activated_qubits ) ), error_rate )"
   ]
  },
  {
   "cell_type": "code",
   "execution_count": 5,
   "metadata": {},
   "outputs": [
    {
     "name": "stdout",
     "output_type": "stream",
     "text": [
      "QUBIT_COORDS 0\n",
      "QUBIT_COORDS 1\n",
      "H 0\n",
      "CX 0 1\n"
     ]
    }
   ],
   "source": [
    "if __name__ == \"__main__\":\n",
    "    # Create Bell state\n",
    "    bell_circuit = TQEC()\n",
    "    circuit = bell_circuit.circuit\n",
    "    bell_circuit.physical_qubits(2)\n",
    "    bell_circuit.single_gate(\"H\",[0])\n",
    "    bell_circuit.cnot([0],[1])\n",
    "    print(circuit)"
   ]
  },
  {
   "cell_type": "code",
   "execution_count": 7,
   "metadata": {},
   "outputs": [
    {
     "data": {
      "image/svg+xml": [
       "<svg xmlns=\"http://www.w3.org/2000/svg\" width=\"220.0\" height=\"100.0\"><line x1=\"30.0\" x2=\"190.0\" y1=\"25.0\" y2=\"25.0\" stroke=\"#1967d2\" stroke-width=\"1\" /><line x1=\"30.0\" x2=\"190.0\" y1=\"75.0\" y2=\"75.0\" stroke=\"#1967d2\" stroke-width=\"1\" /><line x1=\"150.0\" x2=\"150.0\" y1=\"25.0\" y2=\"75.0\" stroke=\"black\" stroke-width=\"3\" /><rect x=\"10.0\" y=\"5.0\" width=\"40\" height=\"40\" stroke=\"black\" fill=\"white\" stroke-width=\"0\" /><text x=\"30.0\" y=\"25.0\" dominant-baseline=\"middle\" text-anchor=\"middle\" font-size=\"14px\" font-family=\"Arial\">0: </text><rect x=\"10.0\" y=\"55.0\" width=\"40\" height=\"40\" stroke=\"black\" fill=\"white\" stroke-width=\"0\" /><text x=\"30.0\" y=\"75.0\" dominant-baseline=\"middle\" text-anchor=\"middle\" font-size=\"14px\" font-family=\"Arial\">1: </text><rect x=\"70.0\" y=\"5.0\" width=\"40\" height=\"40\" stroke=\"black\" fill=\"white\" stroke-width=\"1\" /><text x=\"90.0\" y=\"25.0\" dominant-baseline=\"middle\" text-anchor=\"middle\" font-size=\"18px\" font-family=\"Arial\">H</text><circle cx=\"150.0\" cy=\"25.0\" r=\"10.0\" /><rect x=\"130.0\" y=\"55.0\" width=\"40\" height=\"40\" stroke=\"black\" fill=\"white\" stroke-width=\"1\" /><text x=\"150.0\" y=\"75.0\" dominant-baseline=\"middle\" text-anchor=\"middle\" font-size=\"18px\" font-family=\"Arial\">X</text></svg>"
      ],
      "text/plain": [
       "<cirq.contrib.svg.svg.SVGCircuit at 0x175869760>"
      ]
     },
     "execution_count": 7,
     "metadata": {},
     "output_type": "execute_result"
    }
   ],
   "source": [
    "if __name__ == \"__main__\":\n",
    "    import stimcirq\n",
    "    from cirq.contrib.svg import SVGCircuit\n",
    "\n",
    "    cirq_circuit = stimcirq.stim_circuit_to_cirq_circuit(circuit)\n",
    "# SVGCircuit(cirq_circuit)"
   ]
  }
 ],
 "metadata": {
  "kernelspec": {
   "display_name": "younghunk",
   "language": "python",
   "name": "python3"
  },
  "language_info": {
   "codemirror_mode": {
    "name": "ipython",
    "version": 3
   },
   "file_extension": ".py",
   "mimetype": "text/x-python",
   "name": "python",
   "nbconvert_exporter": "python",
   "pygments_lexer": "ipython3",
   "version": "3.9.0"
  }
 },
 "nbformat": 4,
 "nbformat_minor": 2
}
