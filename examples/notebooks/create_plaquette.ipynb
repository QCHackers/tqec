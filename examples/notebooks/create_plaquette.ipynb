{
 "cells": [
  {
   "cell_type": "markdown",
   "metadata": {},
   "source": [
    "# Create plaquette using the RPNG format"
   ]
  },
  {
   "cell_type": "markdown",
   "metadata": {},
   "source": [
    "## 1. RPNG format\n",
    "\n",
    "```\n",
    "-z1- -z2- -z3- -z4-\n",
    "rpng rpng rpng rpng\n",
    "```\n",
    "\n",
    "(r) data qubit reset basis or h or -  \n",
    "(p) data basis for the controlled operation (x means CNOT controlled on the ancilla and targeting the data qubit, y means CY, z means CZ)  \n",
    "(n) time step (positive integers, all distinct, typically in 1-5)  \n",
    "(g) data qubit measure basis or h or -\n",
    "\n",
    "Assumptions on the circuit:\n",
    "- if not otherwise stated, a basis can be {x,y,z}\n",
    "- the ancilla is always initialized in $\\ket{+}$ and measured in the X basis\n",
    "- the ancilla is always the control qubit for the CNOT and CZ gates\n",
    "- time step of r same as ancilla reset (default 0)\n",
    "- time step of g same as ancilla measurement (default 6)"
   ]
  },
  {
   "cell_type": "markdown",
   "metadata": {},
   "source": [
    "## 2. Extended RPNG format\n",
    "\n",
    "```\n",
    "z0z5 -xz1- -xz2- -xz3- -xz4-\n",
    "pnpn rppng rppng rppng rppng\n",
    "```\n",
    "\n",
    "(p) ancilla init basis  \n",
    "(n) time step  \n",
    "(p) ancilla measure basis  \n",
    "(n) time step\n",
    "\n",
    "(r) data qubit reset basis or h or -  \n",
    "(pp) ancilla-data 2-qubit bases (xz means CNOT targeting the ancilla)\n",
    "(n) time step (positive integers, all distinct)\n",
    "(g) data qubit measure basis or h or -\n",
    "\n",
    "Assumptions on the circuit:\n",
    "- if not otherwise stated, a basis can be {x,y,z}\n",
    "- at least one of the (pp) must be z, indicating the control qubit\n",
    "- time step of r same as ancilla reset\n",
    "- time step of g same as ancilla measurement\n",
    "- the time step of every (pp) must be in [ancilla init time + 1, ancilla measure time -1]  "
   ]
  },
  {
   "cell_type": "markdown",
   "metadata": {},
   "source": [
    "## 3. Test the functionality"
   ]
  },
  {
   "cell_type": "code",
   "execution_count": 1,
   "metadata": {},
   "outputs": [],
   "source": [
    "from pathlib import Path\n",
    "import stim\n",
    "\n",
    "from tqec import (\n",
    "    Plaquette,\n",
    "    PlaquetteQubits,\n",
    "    QubitMap,\n",
    "    ScheduledCircuit,\n",
    "    SquarePlaquetteQubits,\n",
    "    RPNG,\n",
    "    RGN,\n",
    "    RPNGDescription,\n",
    ")\n",
    "\n",
    "ASSETS_FOLDER = Path(\"../../assets/\").resolve()"
   ]
  },
  {
   "cell_type": "code",
   "execution_count": 2,
   "metadata": {},
   "outputs": [
    {
     "name": "stdout",
     "output_type": "stream",
     "text": [
      "0: has meas -> ExtendedBasisEnum.H\n",
      "1: has meas -> ExtendedBasisEnum.Z\n",
      "2: has meas -> ExtendedBasisEnum.X\n",
      "3: has reset -> ExtendedBasisEnum.H\n",
      "QUBIT_COORDS(-1, -1) 0\n",
      "QUBIT_COORDS(1, -1) 1\n",
      "QUBIT_COORDS(-1, 1) 2\n",
      "QUBIT_COORDS(1, 1) 3\n",
      "QUBIT_COORDS(0, 0) 4\n",
      "H 3\n",
      "RX 4\n",
      "TICK\n",
      "CZ 4 3\n",
      "TICK\n",
      "CZ 4 1\n",
      "TICK\n",
      "CX 4 2\n",
      "TICK\n",
      "TICK\n",
      "CX 4 0\n",
      "TICK\n",
      "H 0\n",
      "M 1\n",
      "MX 2 4\n"
     ]
    }
   ],
   "source": [
    "# -- Basic use case --\n",
    "\n",
    "# Write the RPNG string\n",
    "rpng_str = '-x5h -z2z -x3x hz1-'\n",
    "qubits = SquarePlaquetteQubits()\n",
    "\n",
    "# Create the corresponding RPNGDescription object\n",
    "try:\n",
    "    desc = RPNGDescription.from_string(rpng_str)\n",
    "except ValueError as err:\n",
    "    print(f'{err}')\n",
    "\n",
    "# Create the corresponding Plaquette\n",
    "qubits = SquarePlaquetteQubits()\n",
    "plaq = desc.get_plaquette(qubits = qubits)\n",
    "\n",
    "# Print the circuit associated with the plaquette\n",
    "print(plaq.circuit.get_circuit(include_qubit_coords=True))"
   ]
  },
  {
   "cell_type": "code",
   "execution_count": 5,
   "metadata": {},
   "outputs": [
    {
     "name": "stdout",
     "output_type": "stream",
     "text": [
      "----- ---- ---- ----\n",
      "->  ERROR: The rpng string must be exactly 4-character long.\n",
      "\n",
      "---- ---- --- ----\n",
      "->  ERROR: The rpng string must be exactly 4-character long.\n",
      "\n",
      "-z1- -z2- ---- -z4-\n",
      "->  ERROR: Each plaquette must have 0, 2, or 4 2Q gates.\n",
      "\n",
      "-z1- -z4- -z3- -z4-\n",
      "->  ERROR: The n values for the corners must be unique.\n",
      "\n",
      "-z1- -z6- -z3- -z4-\n",
      "->  ERROR: The n values must be in ]0, ancilla meas time[.\n",
      "\n",
      "z0z5 -xz1- -xz2- -xz5- -xz4-\n",
      "->  ERROR: The rpng string must be exactly 4-character long.\n",
      "\n",
      "z0z5 -xz1- -xz2- -xz4- -xz4-\n",
      "->  ERROR: The rpng string must be exactly 4-character long.\n",
      "\n",
      "z3z0 -xx1- ----- -xz2- ----\n",
      "->  ERROR: The rpng string must be exactly 4-character long.\n",
      "\n"
     ]
    }
   ],
   "source": [
    "# Invalid plaquettes\n",
    "rpng_invalide_examples = [\n",
    "    '----- ---- ---- ----', # wrong length of values\n",
    "    '---- ---- --- ----', # wrong length of values\n",
    "    '-z1- -z2- ---- -z4-', # wrong number of 2Q gates\n",
    "    '-z1- -z4- -z3- -z4-', # wrong times for the 2Q gates\n",
    "    '-z1- -z6- -z3- -z4-', # wrong times for the 2Q gates\n",
    "    'z0z5 -xz1- -xz2- -xz5- -xz4-', # wrong times for the 2Q gates\n",
    "    'z0z5 -xz1- -xz2- -xz4- -xz4-', # wrong times for the 2Q gates\n",
    "    'z3z0 -xx1- ----- -xz2- ----', # wrong meas time\n",
    "]\n",
    "rpng_simplified_examples = [\n",
    "    '---- ---- ---- ----',\n",
    "    '-z1- -z2- -z3- -z4-',\n",
    "    '-z5- -x2- -x3- -z1-',\n",
    "    '-x5h -z2z -x3x hz1-',\n",
    "]\n",
    "rpng_extended_examples = [\n",
    "    'z0z6 ----- ----- ----- -----',\n",
    "    'z0z3 -xz1- ----- -xz2- -----',\n",
    "    'z0z5 -xz1- -xz2- -xz3- -xz4-',\n",
    "]\n",
    "for rpng in rpng_invalide_examples:\n",
    "    try:\n",
    "        RPNGDescription.from_string(corners_rpng_string = rpng)\n",
    "    except ValueError as err:\n",
    "        print(rpng)\n",
    "        print(f'->  ERROR: {err}\\n')\n",
    "for rpng in rpng_simplified_examples:\n",
    "    RPNGDescription.from_string(corners_rpng_string = rpng)\n",
    "#for rpng in rpng_extended_examples:\n",
    "#    RPNGDescription.from_string(corners_rpng_string = rpng)"
   ]
  },
  {
   "cell_type": "markdown",
   "metadata": {},
   "source": [
    "## 4. Example: associate a custom circuit to the plaquette\n",
    "\n",
    "**TODO:** Here we just rephrased the method from `RPNGDescription`. Provide a different implementation or showcase a proper interface (still to be developed)."
   ]
  },
  {
   "cell_type": "code",
   "execution_count": 6,
   "metadata": {},
   "outputs": [
    {
     "name": "stdout",
     "output_type": "stream",
     "text": [
      "0: has meas -> ExtendedBasisEnum.H\n",
      "1: has meas -> ExtendedBasisEnum.Z\n",
      "2: has meas -> ExtendedBasisEnum.X\n",
      "3: has reset -> ExtendedBasisEnum.H\n",
      "QUBIT_COORDS(-1, -1) 0\n",
      "QUBIT_COORDS(1, -1) 1\n",
      "QUBIT_COORDS(-1, 1) 2\n",
      "QUBIT_COORDS(1, 1) 3\n",
      "QUBIT_COORDS(0, 0) 4\n",
      "H 3\n",
      "RX 4\n",
      "TICK\n",
      "CZ 4 3\n",
      "TICK\n",
      "CZ 4 1\n",
      "TICK\n",
      "CX 4 2\n",
      "TICK\n",
      "TICK\n",
      "CX 4 0\n",
      "TICK\n",
      "H 0\n",
      "M 1\n",
      "MX 2 4\n"
     ]
    }
   ],
   "source": [
    "def custom_create_plaquette(desc: RPNGDescription, qubits: PlaquetteQubits = SquarePlaquetteQubits()) -> Plaquette:\n",
    "    \"\"\"Get the plaquette corresponding to the RPNG description\n",
    "    \n",
    "    Note that the ancilla qubit is the last among the PlaquetteQubits and thus\n",
    "    has index 4, while the data qubits have indices 0-3.\n",
    "    \"\"\"\n",
    "    prep_time = 0\n",
    "    meas_time = desc.ancilla.n\n",
    "    circuit_as_list = [''] * (meas_time - prep_time + 1)\n",
    "    for q, rpng in enumerate(desc.corners):\n",
    "        # 2Q gates.\n",
    "        if rpng.n and rpng.p:\n",
    "            if rpng.a.value == 'z':\n",
    "                circuit_as_list[rpng.n] += f'C{rpng.p.value.upper()} 4 {q}\\n'\n",
    "            else:\n",
    "                circuit_as_list[rpng.n] += f'C{rpng.a.value.upper()} {q} 4\\n'\n",
    "        # Data reset or Hadamard.\n",
    "        if rpng.r:\n",
    "            print(f'{q}: has reset -> {rpng.r}')\n",
    "            circuit_as_list[0] += f'{rpng.get_r_op()} {q}\\n'\n",
    "        # Data measurement or Hadamard.\n",
    "        if rpng.g:\n",
    "            print(f'{q}: has meas -> {rpng.g}')\n",
    "            circuit_as_list[-1] += f'{rpng.get_g_op()} {q}\\n'\n",
    "    # Ancilla reset and measurement.\n",
    "    circuit_as_list[0] += f'R{desc.ancilla.r.value.upper()} 4\\n'\n",
    "    circuit_as_list[-1] += f'M{desc.ancilla.g.value.upper()} 4\\n'\n",
    "    q_map = QubitMap.from_qubits(qubits)\n",
    "    circuit_as_str = \"TICK\\n\".join(circuit_as_list)\n",
    "    circuit = stim.Circuit(circuit_as_str)\n",
    "    scheduled_circuit = ScheduledCircuit.from_circuit(circuit, qubit_map = q_map)\n",
    "    return Plaquette(name = 'test', qubits = qubits, circuit = scheduled_circuit)\n",
    "\n",
    "rpng_str = '-x5h -z2z -x3x hz1-'\n",
    "qubits = SquarePlaquetteQubits()\n",
    "\n",
    "try:\n",
    "    desc = RPNGDescription.from_string(rpng_str)\n",
    "    plaq = custom_create_plaquette(desc = desc, qubits = qubits)\n",
    "    print(plaq.circuit.get_circuit(include_qubit_coords=True))\n",
    "except ValueError as err:\n",
    "    print(f'{err}')"
   ]
  },
  {
   "cell_type": "code",
   "execution_count": null,
   "metadata": {},
   "outputs": [],
   "source": []
  },
  {
   "cell_type": "markdown",
   "metadata": {},
   "source": [
    "----\n",
    "\n",
    "## End"
   ]
  }
 ],
 "metadata": {
  "kernelspec": {
   "display_name": "tqec",
   "language": "python",
   "name": "python3"
  },
  "language_info": {
   "codemirror_mode": {
    "name": "ipython",
    "version": 3
   },
   "file_extension": ".py",
   "mimetype": "text/x-python",
   "name": "python",
   "nbconvert_exporter": "python",
   "pygments_lexer": "ipython3",
   "version": "3.10.0"
  }
 },
 "nbformat": 4,
 "nbformat_minor": 2
}
