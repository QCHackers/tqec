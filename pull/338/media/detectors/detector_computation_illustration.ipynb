{
 "cells": [
  {
   "cell_type": "markdown",
   "metadata": {},
   "source": [
    "# How to automatically find detectors?\n",
    "\n",
    "This notebook show in a simple example how automatic detector computation is performed."
   ]
  },
  {
   "cell_type": "markdown",
   "metadata": {},
   "source": [
    "## Build the quantum circuit\n",
    "\n",
    "In most cases, your QEC implementation will be encoded in a quantum circuit structure. Due to its omnipresence in QEC-related tasks, `stim.Circuit` is the quantum circuit representation that is expected by the package.\n",
    "\n",
    "Note that the quantum circuit does not have to represent a complete error-corrected computation. In particular, you might want to use knowledge about the quantum error-correction code used to only submit a sub-circuit of the whole computation. For example, if you know that you code is local and that detectors will only include measurements close to each other, it might be interesting to only compute the detectors on a small sub-circuit and re-use the computed detectors on a larger circuit. \n",
    "\n",
    "For the purposes of demonstration, we will use a repetition code of distance `3`, performing memory operations for `10` rounds."
   ]
  },
  {
   "cell_type": "code",
   "execution_count": 1,
   "metadata": {
    "execution": {
     "iopub.execute_input": "2024-10-08T05:48:02.720118Z",
     "iopub.status.busy": "2024-10-08T05:48:02.719924Z",
     "iopub.status.idle": "2024-10-08T05:48:02.734485Z",
     "shell.execute_reply": "2024-10-08T05:48:02.733898Z"
    }
   },
   "outputs": [
    {
     "data": {
      "image/svg+xml": [
       "<svg viewBox=\"0 0 992 416\"  version=\"1.1\" xmlns=\"http://www.w3.org/2000/svg\">\n",
       "<g id=\"qubit_lines\">\n",
       "<path id=\"qubit_line:0\" d=\"M64,64 L960,64 \" stroke=\"black\"/>\n",
       "<text dominant-baseline=\"central\" text-anchor=\"end\" font-family=\"monospace\" font-size=\"12\" x=\"64\" y=\"64\">q0</text>\n",
       "<path id=\"qubit_line:1\" d=\"M64,128 L960,128 \" stroke=\"black\"/>\n",
       "<text dominant-baseline=\"central\" text-anchor=\"end\" font-family=\"monospace\" font-size=\"12\" x=\"64\" y=\"128\">q1</text>\n",
       "<path id=\"qubit_line:2\" d=\"M64,192 L960,192 \" stroke=\"black\"/>\n",
       "<text dominant-baseline=\"central\" text-anchor=\"end\" font-family=\"monospace\" font-size=\"12\" x=\"64\" y=\"192\">q2</text>\n",
       "<path id=\"qubit_line:3\" d=\"M64,256 L960,256 \" stroke=\"black\"/>\n",
       "<text dominant-baseline=\"central\" text-anchor=\"end\" font-family=\"monospace\" font-size=\"12\" x=\"64\" y=\"256\">q3</text>\n",
       "<path id=\"qubit_line:4\" d=\"M64,320 L960,320 \" stroke=\"black\"/>\n",
       "<text dominant-baseline=\"central\" text-anchor=\"end\" font-family=\"monospace\" font-size=\"12\" x=\"64\" y=\"320\">q4</text>\n",
       "</g>\n",
       "<rect x=\"80\" y=\"48\" width=\"160\" height=\"32\" stroke=\"black\" fill=\"white\"/>\n",
       "<text dominant-baseline=\"central\" text-anchor=\"middle\" font-family=\"monospace\" font-size=\"16\" x=\"160\" y=\"64\">COORDS(0)</text>\n",
       "<rect x=\"80\" y=\"112\" width=\"160\" height=\"32\" stroke=\"black\" fill=\"white\"/>\n",
       "<text dominant-baseline=\"central\" text-anchor=\"middle\" font-family=\"monospace\" font-size=\"16\" x=\"160\" y=\"128\">COORDS(1)</text>\n",
       "<rect x=\"80\" y=\"176\" width=\"160\" height=\"32\" stroke=\"black\" fill=\"white\"/>\n",
       "<text dominant-baseline=\"central\" text-anchor=\"middle\" font-family=\"monospace\" font-size=\"16\" x=\"160\" y=\"192\">COORDS(2)</text>\n",
       "<rect x=\"80\" y=\"240\" width=\"160\" height=\"32\" stroke=\"black\" fill=\"white\"/>\n",
       "<text dominant-baseline=\"central\" text-anchor=\"middle\" font-family=\"monospace\" font-size=\"16\" x=\"160\" y=\"256\">COORDS(3)</text>\n",
       "<rect x=\"80\" y=\"304\" width=\"160\" height=\"32\" stroke=\"black\" fill=\"white\"/>\n",
       "<text dominant-baseline=\"central\" text-anchor=\"middle\" font-family=\"monospace\" font-size=\"16\" x=\"160\" y=\"320\">COORDS(4)</text>\n",
       "<rect x=\"272\" y=\"48\" width=\"32\" height=\"32\" stroke=\"black\" fill=\"black\"/>\n",
       "<text dominant-baseline=\"central\" text-anchor=\"middle\" font-family=\"monospace\" font-size=\"30\" x=\"288\" y=\"64\" fill=\"white\">R</text>\n",
       "<rect x=\"272\" y=\"112\" width=\"32\" height=\"32\" stroke=\"black\" fill=\"black\"/>\n",
       "<text dominant-baseline=\"central\" text-anchor=\"middle\" font-family=\"monospace\" font-size=\"30\" x=\"288\" y=\"128\" fill=\"white\">R</text>\n",
       "<rect x=\"272\" y=\"176\" width=\"32\" height=\"32\" stroke=\"black\" fill=\"black\"/>\n",
       "<text dominant-baseline=\"central\" text-anchor=\"middle\" font-family=\"monospace\" font-size=\"30\" x=\"288\" y=\"192\" fill=\"white\">R</text>\n",
       "<rect x=\"272\" y=\"240\" width=\"32\" height=\"32\" stroke=\"black\" fill=\"black\"/>\n",
       "<text dominant-baseline=\"central\" text-anchor=\"middle\" font-family=\"monospace\" font-size=\"30\" x=\"288\" y=\"256\" fill=\"white\">R</text>\n",
       "<rect x=\"272\" y=\"304\" width=\"32\" height=\"32\" stroke=\"black\" fill=\"black\"/>\n",
       "<text dominant-baseline=\"central\" text-anchor=\"middle\" font-family=\"monospace\" font-size=\"30\" x=\"288\" y=\"320\" fill=\"white\">R</text>\n",
       "<path d=\"M68,40 L68,32 L316,32 L316,40 \" stroke=\"black\" fill=\"none\"/>\n",
       "<path d=\"M68,376 L68,384 L316,384 L316,376 \" stroke=\"black\" fill=\"none\"/>\n",
       "<path d=\"M352,64 L352,128 \" stroke=\"black\"/>\n",
       "<circle cx=\"352\" cy=\"64\" r=\"12\" stroke=\"none\" fill=\"black\"/>\n",
       "<circle cx=\"352\" cy=\"128\" r=\"12\" stroke=\"black\" fill=\"white\"/>\n",
       "<path d=\"M340,128 L364,128 M352,116 L352,140 \" stroke=\"black\"/>\n",
       "<path d=\"M352,192 L352,256 \" stroke=\"black\"/>\n",
       "<circle cx=\"352\" cy=\"192\" r=\"12\" stroke=\"none\" fill=\"black\"/>\n",
       "<circle cx=\"352\" cy=\"256\" r=\"12\" stroke=\"black\" fill=\"white\"/>\n",
       "<path d=\"M340,256 L364,256 M352,244 L352,268 \" stroke=\"black\"/>\n",
       "<path d=\"M416,128 L416,192 \" stroke=\"black\"/>\n",
       "<circle cx=\"416\" cy=\"192\" r=\"12\" stroke=\"none\" fill=\"black\"/>\n",
       "<circle cx=\"416\" cy=\"128\" r=\"12\" stroke=\"black\" fill=\"white\"/>\n",
       "<path d=\"M404,128 L428,128 M416,116 L416,140 \" stroke=\"black\"/>\n",
       "<path d=\"M416,256 L416,320 \" stroke=\"black\"/>\n",
       "<circle cx=\"416\" cy=\"320\" r=\"12\" stroke=\"none\" fill=\"black\"/>\n",
       "<circle cx=\"416\" cy=\"256\" r=\"12\" stroke=\"black\" fill=\"white\"/>\n",
       "<path d=\"M404,256 L428,256 M416,244 L416,268 \" stroke=\"black\"/>\n",
       "<rect x=\"464\" y=\"112\" width=\"32\" height=\"32\" stroke=\"black\" fill=\"black\"/>\n",
       "<text dominant-baseline=\"central\" text-anchor=\"middle\" font-family=\"monospace\" font-size=\"30\" x=\"480\" y=\"128\" fill=\"white\">M</text>\n",
       "<text text-anchor=\"middle\" font-family=\"monospace\" font-size=\"8\" x=\"480\" y=\"108\">rec[0]</text>\n",
       "<rect x=\"464\" y=\"240\" width=\"32\" height=\"32\" stroke=\"black\" fill=\"black\"/>\n",
       "<text dominant-baseline=\"central\" text-anchor=\"middle\" font-family=\"monospace\" font-size=\"30\" x=\"480\" y=\"256\" fill=\"white\">M</text>\n",
       "<text text-anchor=\"middle\" font-family=\"monospace\" font-size=\"8\" x=\"480\" y=\"236\">rec[1]</text>\n",
       "<path d=\"M552,32 L544,32 L544,384 L552,384 \" stroke=\"black\" fill=\"none\"/>\n",
       "<text dominant-baseline=\"auto\" text-anchor=\"start\" font-family=\"monospace\" font-size=\"12\" x=\"548\" y=\"380\">REP9</text>\n",
       "<rect x=\"592\" y=\"112\" width=\"32\" height=\"32\" stroke=\"black\" fill=\"black\"/>\n",
       "<text dominant-baseline=\"central\" text-anchor=\"middle\" font-family=\"monospace\" font-size=\"30\" x=\"608\" y=\"128\" fill=\"white\">R</text>\n",
       "<rect x=\"592\" y=\"240\" width=\"32\" height=\"32\" stroke=\"black\" fill=\"black\"/>\n",
       "<text dominant-baseline=\"central\" text-anchor=\"middle\" font-family=\"monospace\" font-size=\"30\" x=\"608\" y=\"256\" fill=\"white\">R</text>\n",
       "<path d=\"M672,64 L672,128 \" stroke=\"black\"/>\n",
       "<circle cx=\"672\" cy=\"64\" r=\"12\" stroke=\"none\" fill=\"black\"/>\n",
       "<circle cx=\"672\" cy=\"128\" r=\"12\" stroke=\"black\" fill=\"white\"/>\n",
       "<path d=\"M660,128 L684,128 M672,116 L672,140 \" stroke=\"black\"/>\n",
       "<path d=\"M672,192 L672,256 \" stroke=\"black\"/>\n",
       "<circle cx=\"672\" cy=\"192\" r=\"12\" stroke=\"none\" fill=\"black\"/>\n",
       "<circle cx=\"672\" cy=\"256\" r=\"12\" stroke=\"black\" fill=\"white\"/>\n",
       "<path d=\"M660,256 L684,256 M672,244 L672,268 \" stroke=\"black\"/>\n",
       "<path d=\"M736,128 L736,192 \" stroke=\"black\"/>\n",
       "<circle cx=\"736\" cy=\"192\" r=\"12\" stroke=\"none\" fill=\"black\"/>\n",
       "<circle cx=\"736\" cy=\"128\" r=\"12\" stroke=\"black\" fill=\"white\"/>\n",
       "<path d=\"M724,128 L748,128 M736,116 L736,140 \" stroke=\"black\"/>\n",
       "<path d=\"M736,256 L736,320 \" stroke=\"black\"/>\n",
       "<circle cx=\"736\" cy=\"320\" r=\"12\" stroke=\"none\" fill=\"black\"/>\n",
       "<circle cx=\"736\" cy=\"256\" r=\"12\" stroke=\"black\" fill=\"white\"/>\n",
       "<path d=\"M724,256 L748,256 M736,244 L736,268 \" stroke=\"black\"/>\n",
       "<rect x=\"784\" y=\"112\" width=\"32\" height=\"32\" stroke=\"black\" fill=\"black\"/>\n",
       "<text dominant-baseline=\"central\" text-anchor=\"middle\" font-family=\"monospace\" font-size=\"30\" x=\"800\" y=\"128\" fill=\"white\">M</text>\n",
       "<text text-anchor=\"middle\" font-family=\"monospace\" font-size=\"8\" x=\"800\" y=\"108\">rec[2+iter*2]</text>\n",
       "<rect x=\"784\" y=\"240\" width=\"32\" height=\"32\" stroke=\"black\" fill=\"black\"/>\n",
       "<text dominant-baseline=\"central\" text-anchor=\"middle\" font-family=\"monospace\" font-size=\"30\" x=\"800\" y=\"256\" fill=\"white\">M</text>\n",
       "<text text-anchor=\"middle\" font-family=\"monospace\" font-size=\"8\" x=\"800\" y=\"236\">rec[3+iter*2]</text>\n",
       "<path d=\"M856,32 L864,32 L864,384 L856,384 \" stroke=\"black\" fill=\"none\"/>\n",
       "<rect x=\"912\" y=\"48\" width=\"32\" height=\"32\" stroke=\"black\" fill=\"black\"/>\n",
       "<text dominant-baseline=\"central\" text-anchor=\"middle\" font-family=\"monospace\" font-size=\"30\" x=\"928\" y=\"64\" fill=\"white\">M</text>\n",
       "<text text-anchor=\"middle\" font-family=\"monospace\" font-size=\"8\" x=\"928\" y=\"44\">rec[20]</text>\n",
       "<rect x=\"912\" y=\"176\" width=\"32\" height=\"32\" stroke=\"black\" fill=\"black\"/>\n",
       "<text dominant-baseline=\"central\" text-anchor=\"middle\" font-family=\"monospace\" font-size=\"30\" x=\"928\" y=\"192\" fill=\"white\">M</text>\n",
       "<text text-anchor=\"middle\" font-family=\"monospace\" font-size=\"8\" x=\"928\" y=\"172\">rec[21]</text>\n",
       "<rect x=\"912\" y=\"304\" width=\"32\" height=\"32\" stroke=\"black\" fill=\"black\"/>\n",
       "<text dominant-baseline=\"central\" text-anchor=\"middle\" font-family=\"monospace\" font-size=\"30\" x=\"928\" y=\"320\" fill=\"white\">M</text>\n",
       "<text text-anchor=\"middle\" font-family=\"monospace\" font-size=\"8\" x=\"928\" y=\"300\">rec[22]</text>\n",
       "</svg>"
      ],
      "text/plain": [
       "<svg viewBox=\"0 0 992 416\"  version=\"1.1\" xmlns=\"http://www.w3.org/2000/svg\">\n",
       "<g id=\"qubit_lines\">\n",
       "<path id=\"qubit_line:0\" d=\"M64,64 L960,64 \" stroke=\"black\"/>\n",
       "<text dominant-baseline=\"central\" text-anchor=\"end\" font-family=\"monospace\" font-size=\"12\" x=\"64\" y=\"64\">q0</text>\n",
       "<path id=\"qubit_line:1\" d=\"M64,128 L960,128 \" stroke=\"black\"/>\n",
       "<text dominant-baseline=\"central\" text-anchor=\"end\" font-family=\"monospace\" font-size=\"12\" x=\"64\" y=\"128\">q1</text>\n",
       "<path id=\"qubit_line:2\" d=\"M64,192 L960,192 \" stroke=\"black\"/>\n",
       "<text dominant-baseline=\"central\" text-anchor=\"end\" font-family=\"monospace\" font-size=\"12\" x=\"64\" y=\"192\">q2</text>\n",
       "<path id=\"qubit_line:3\" d=\"M64,256 L960,256 \" stroke=\"black\"/>\n",
       "<text dominant-baseline=\"central\" text-anchor=\"end\" font-family=\"monospace\" font-size=\"12\" x=\"64\" y=\"256\">q3</text>\n",
       "<path id=\"qubit_line:4\" d=\"M64,320 L960,320 \" stroke=\"black\"/>\n",
       "<text dominant-baseline=\"central\" text-anchor=\"end\" font-family=\"monospace\" font-size=\"12\" x=\"64\" y=\"320\">q4</text>\n",
       "</g>\n",
       "<rect x=\"80\" y=\"48\" width=\"160\" height=\"32\" stroke=\"black\" fill=\"white\"/>\n",
       "<text dominant-baseline=\"central\" text-anchor=\"middle\" font-family=\"monospace\" font-size=\"16\" x=\"160\" y=\"64\">COORDS(0)</text>\n",
       "<rect x=\"80\" y=\"112\" width=\"160\" height=\"32\" stroke=\"black\" fill=\"white\"/>\n",
       "<text dominant-baseline=\"central\" text-anchor=\"middle\" font-family=\"monospace\" font-size=\"16\" x=\"160\" y=\"128\">COORDS(1)</text>\n",
       "<rect x=\"80\" y=\"176\" width=\"160\" height=\"32\" stroke=\"black\" fill=\"white\"/>\n",
       "<text dominant-baseline=\"central\" text-anchor=\"middle\" font-family=\"monospace\" font-size=\"16\" x=\"160\" y=\"192\">COORDS(2)</text>\n",
       "<rect x=\"80\" y=\"240\" width=\"160\" height=\"32\" stroke=\"black\" fill=\"white\"/>\n",
       "<text dominant-baseline=\"central\" text-anchor=\"middle\" font-family=\"monospace\" font-size=\"16\" x=\"160\" y=\"256\">COORDS(3)</text>\n",
       "<rect x=\"80\" y=\"304\" width=\"160\" height=\"32\" stroke=\"black\" fill=\"white\"/>\n",
       "<text dominant-baseline=\"central\" text-anchor=\"middle\" font-family=\"monospace\" font-size=\"16\" x=\"160\" y=\"320\">COORDS(4)</text>\n",
       "<rect x=\"272\" y=\"48\" width=\"32\" height=\"32\" stroke=\"black\" fill=\"black\"/>\n",
       "<text dominant-baseline=\"central\" text-anchor=\"middle\" font-family=\"monospace\" font-size=\"30\" x=\"288\" y=\"64\" fill=\"white\">R</text>\n",
       "<rect x=\"272\" y=\"112\" width=\"32\" height=\"32\" stroke=\"black\" fill=\"black\"/>\n",
       "<text dominant-baseline=\"central\" text-anchor=\"middle\" font-family=\"monospace\" font-size=\"30\" x=\"288\" y=\"128\" fill=\"white\">R</text>\n",
       "<rect x=\"272\" y=\"176\" width=\"32\" height=\"32\" stroke=\"black\" fill=\"black\"/>\n",
       "<text dominant-baseline=\"central\" text-anchor=\"middle\" font-family=\"monospace\" font-size=\"30\" x=\"288\" y=\"192\" fill=\"white\">R</text>\n",
       "<rect x=\"272\" y=\"240\" width=\"32\" height=\"32\" stroke=\"black\" fill=\"black\"/>\n",
       "<text dominant-baseline=\"central\" text-anchor=\"middle\" font-family=\"monospace\" font-size=\"30\" x=\"288\" y=\"256\" fill=\"white\">R</text>\n",
       "<rect x=\"272\" y=\"304\" width=\"32\" height=\"32\" stroke=\"black\" fill=\"black\"/>\n",
       "<text dominant-baseline=\"central\" text-anchor=\"middle\" font-family=\"monospace\" font-size=\"30\" x=\"288\" y=\"320\" fill=\"white\">R</text>\n",
       "<path d=\"M68,40 L68,32 L316,32 L316,40 \" stroke=\"black\" fill=\"none\"/>\n",
       "<path d=\"M68,376 L68,384 L316,384 L316,376 \" stroke=\"black\" fill=\"none\"/>\n",
       "<path d=\"M352,64 L352,128 \" stroke=\"black\"/>\n",
       "<circle cx=\"352\" cy=\"64\" r=\"12\" stroke=\"none\" fill=\"black\"/>\n",
       "<circle cx=\"352\" cy=\"128\" r=\"12\" stroke=\"black\" fill=\"white\"/>\n",
       "<path d=\"M340,128 L364,128 M352,116 L352,140 \" stroke=\"black\"/>\n",
       "<path d=\"M352,192 L352,256 \" stroke=\"black\"/>\n",
       "<circle cx=\"352\" cy=\"192\" r=\"12\" stroke=\"none\" fill=\"black\"/>\n",
       "<circle cx=\"352\" cy=\"256\" r=\"12\" stroke=\"black\" fill=\"white\"/>\n",
       "<path d=\"M340,256 L364,256 M352,244 L352,268 \" stroke=\"black\"/>\n",
       "<path d=\"M416,128 L416,192 \" stroke=\"black\"/>\n",
       "<circle cx=\"416\" cy=\"192\" r=\"12\" stroke=\"none\" fill=\"black\"/>\n",
       "<circle cx=\"416\" cy=\"128\" r=\"12\" stroke=\"black\" fill=\"white\"/>\n",
       "<path d=\"M404,128 L428,128 M416,116 L416,140 \" stroke=\"black\"/>\n",
       "<path d=\"M416,256 L416,320 \" stroke=\"black\"/>\n",
       "<circle cx=\"416\" cy=\"320\" r=\"12\" stroke=\"none\" fill=\"black\"/>\n",
       "<circle cx=\"416\" cy=\"256\" r=\"12\" stroke=\"black\" fill=\"white\"/>\n",
       "<path d=\"M404,256 L428,256 M416,244 L416,268 \" stroke=\"black\"/>\n",
       "<rect x=\"464\" y=\"112\" width=\"32\" height=\"32\" stroke=\"black\" fill=\"black\"/>\n",
       "<text dominant-baseline=\"central\" text-anchor=\"middle\" font-family=\"monospace\" font-size=\"30\" x=\"480\" y=\"128\" fill=\"white\">M</text>\n",
       "<text text-anchor=\"middle\" font-family=\"monospace\" font-size=\"8\" x=\"480\" y=\"108\">rec[0]</text>\n",
       "<rect x=\"464\" y=\"240\" width=\"32\" height=\"32\" stroke=\"black\" fill=\"black\"/>\n",
       "<text dominant-baseline=\"central\" text-anchor=\"middle\" font-family=\"monospace\" font-size=\"30\" x=\"480\" y=\"256\" fill=\"white\">M</text>\n",
       "<text text-anchor=\"middle\" font-family=\"monospace\" font-size=\"8\" x=\"480\" y=\"236\">rec[1]</text>\n",
       "<path d=\"M552,32 L544,32 L544,384 L552,384 \" stroke=\"black\" fill=\"none\"/>\n",
       "<text dominant-baseline=\"auto\" text-anchor=\"start\" font-family=\"monospace\" font-size=\"12\" x=\"548\" y=\"380\">REP9</text>\n",
       "<rect x=\"592\" y=\"112\" width=\"32\" height=\"32\" stroke=\"black\" fill=\"black\"/>\n",
       "<text dominant-baseline=\"central\" text-anchor=\"middle\" font-family=\"monospace\" font-size=\"30\" x=\"608\" y=\"128\" fill=\"white\">R</text>\n",
       "<rect x=\"592\" y=\"240\" width=\"32\" height=\"32\" stroke=\"black\" fill=\"black\"/>\n",
       "<text dominant-baseline=\"central\" text-anchor=\"middle\" font-family=\"monospace\" font-size=\"30\" x=\"608\" y=\"256\" fill=\"white\">R</text>\n",
       "<path d=\"M672,64 L672,128 \" stroke=\"black\"/>\n",
       "<circle cx=\"672\" cy=\"64\" r=\"12\" stroke=\"none\" fill=\"black\"/>\n",
       "<circle cx=\"672\" cy=\"128\" r=\"12\" stroke=\"black\" fill=\"white\"/>\n",
       "<path d=\"M660,128 L684,128 M672,116 L672,140 \" stroke=\"black\"/>\n",
       "<path d=\"M672,192 L672,256 \" stroke=\"black\"/>\n",
       "<circle cx=\"672\" cy=\"192\" r=\"12\" stroke=\"none\" fill=\"black\"/>\n",
       "<circle cx=\"672\" cy=\"256\" r=\"12\" stroke=\"black\" fill=\"white\"/>\n",
       "<path d=\"M660,256 L684,256 M672,244 L672,268 \" stroke=\"black\"/>\n",
       "<path d=\"M736,128 L736,192 \" stroke=\"black\"/>\n",
       "<circle cx=\"736\" cy=\"192\" r=\"12\" stroke=\"none\" fill=\"black\"/>\n",
       "<circle cx=\"736\" cy=\"128\" r=\"12\" stroke=\"black\" fill=\"white\"/>\n",
       "<path d=\"M724,128 L748,128 M736,116 L736,140 \" stroke=\"black\"/>\n",
       "<path d=\"M736,256 L736,320 \" stroke=\"black\"/>\n",
       "<circle cx=\"736\" cy=\"320\" r=\"12\" stroke=\"none\" fill=\"black\"/>\n",
       "<circle cx=\"736\" cy=\"256\" r=\"12\" stroke=\"black\" fill=\"white\"/>\n",
       "<path d=\"M724,256 L748,256 M736,244 L736,268 \" stroke=\"black\"/>\n",
       "<rect x=\"784\" y=\"112\" width=\"32\" height=\"32\" stroke=\"black\" fill=\"black\"/>\n",
       "<text dominant-baseline=\"central\" text-anchor=\"middle\" font-family=\"monospace\" font-size=\"30\" x=\"800\" y=\"128\" fill=\"white\">M</text>\n",
       "<text text-anchor=\"middle\" font-family=\"monospace\" font-size=\"8\" x=\"800\" y=\"108\">rec[2+iter*2]</text>\n",
       "<rect x=\"784\" y=\"240\" width=\"32\" height=\"32\" stroke=\"black\" fill=\"black\"/>\n",
       "<text dominant-baseline=\"central\" text-anchor=\"middle\" font-family=\"monospace\" font-size=\"30\" x=\"800\" y=\"256\" fill=\"white\">M</text>\n",
       "<text text-anchor=\"middle\" font-family=\"monospace\" font-size=\"8\" x=\"800\" y=\"236\">rec[3+iter*2]</text>\n",
       "<path d=\"M856,32 L864,32 L864,384 L856,384 \" stroke=\"black\" fill=\"none\"/>\n",
       "<rect x=\"912\" y=\"48\" width=\"32\" height=\"32\" stroke=\"black\" fill=\"black\"/>\n",
       "<text dominant-baseline=\"central\" text-anchor=\"middle\" font-family=\"monospace\" font-size=\"30\" x=\"928\" y=\"64\" fill=\"white\">M</text>\n",
       "<text text-anchor=\"middle\" font-family=\"monospace\" font-size=\"8\" x=\"928\" y=\"44\">rec[20]</text>\n",
       "<rect x=\"912\" y=\"176\" width=\"32\" height=\"32\" stroke=\"black\" fill=\"black\"/>\n",
       "<text dominant-baseline=\"central\" text-anchor=\"middle\" font-family=\"monospace\" font-size=\"30\" x=\"928\" y=\"192\" fill=\"white\">M</text>\n",
       "<text text-anchor=\"middle\" font-family=\"monospace\" font-size=\"8\" x=\"928\" y=\"172\">rec[21]</text>\n",
       "<rect x=\"912\" y=\"304\" width=\"32\" height=\"32\" stroke=\"black\" fill=\"black\"/>\n",
       "<text dominant-baseline=\"central\" text-anchor=\"middle\" font-family=\"monospace\" font-size=\"30\" x=\"928\" y=\"320\" fill=\"white\">M</text>\n",
       "<text text-anchor=\"middle\" font-family=\"monospace\" font-size=\"8\" x=\"928\" y=\"300\">rec[22]</text>\n",
       "</svg>"
      ]
     },
     "execution_count": 1,
     "metadata": {},
     "output_type": "execute_result"
    }
   ],
   "source": [
    "import stim\n",
    "\n",
    "circuit = stim.Circuit(\"\"\"\n",
    "QUBIT_COORDS(0) 0\n",
    "QUBIT_COORDS(1) 1\n",
    "QUBIT_COORDS(2) 2\n",
    "QUBIT_COORDS(3) 3\n",
    "QUBIT_COORDS(4) 4\n",
    "R 0 1 2 3 4\n",
    "TICK\n",
    "CX 0 1 2 3\n",
    "TICK\n",
    "CX 2 1 4 3\n",
    "TICK\n",
    "M 1 3\n",
    "TICK\n",
    "REPEAT 9 {\n",
    "    R 1 3\n",
    "    TICK\n",
    "    CX 0 1 2 3\n",
    "    TICK\n",
    "    CX 2 1 4 3\n",
    "    TICK\n",
    "    M 1 3\n",
    "    TICK\n",
    "}\n",
    "M 0 2 4\"\"\")\n",
    "circuit.diagram(\"timeline-svg\")"
   ]
  },
  {
   "cell_type": "markdown",
   "metadata": {},
   "source": [
    "Note that the quantum circuit generated by `stim.Circuit.generated` includes a few structures that are not supported by the package. As such, you should ensure that the circuits provided are checking a few pre-conditions. \n",
    "\n",
    "That is one of the reasons why the circuit is explicitly provided above and not directly generated with a call to `stim.Circuit.generated`."
   ]
  },
  {
   "cell_type": "markdown",
   "metadata": {},
   "source": [
    "## Split the quantum circuit\n",
    "\n",
    "Once the quantum circuit is built and adhere to the pre-conditions imposed by the package, we need to split that circuit into a sequence of fragments. "
   ]
  },
  {
   "cell_type": "code",
   "execution_count": 2,
   "metadata": {
    "execution": {
     "iopub.execute_input": "2024-10-08T05:48:02.769784Z",
     "iopub.status.busy": "2024-10-08T05:48:02.769440Z",
     "iopub.status.idle": "2024-10-08T05:48:03.369048Z",
     "shell.execute_reply": "2024-10-08T05:48:03.368536Z"
    }
   },
   "outputs": [],
   "source": [
    "from tqec.circuit.detectors.fragment import split_stim_circuit_into_fragments\n",
    "\n",
    "fragments = split_stim_circuit_into_fragments(circuit)"
   ]
  },
  {
   "cell_type": "markdown",
   "metadata": {},
   "source": [
    "We can explore the fragments built:"
   ]
  },
  {
   "cell_type": "code",
   "execution_count": 3,
   "metadata": {
    "execution": {
     "iopub.execute_input": "2024-10-08T05:48:03.371418Z",
     "iopub.status.busy": "2024-10-08T05:48:03.370837Z",
     "iopub.status.idle": "2024-10-08T05:48:03.374552Z",
     "shell.execute_reply": "2024-10-08T05:48:03.373948Z"
    }
   },
   "outputs": [
    {
     "name": "stdout",
     "output_type": "stream",
     "text": [
      "================================================================================\n",
      "Fragment(circuit=stim.Circuit('''\n",
      "    QUBIT_COORDS(0) 0\n",
      "    QUBIT_COORDS(1) 1\n",
      "    QUBIT_COORDS(2) 2\n",
      "    QUBIT_COORDS(3) 3\n",
      "    QUBIT_COORDS(4) 4\n",
      "    R 0 1 2 3 4\n",
      "    TICK\n",
      "    CX 0 1 2 3\n",
      "    TICK\n",
      "    CX 2 1 4 3\n",
      "    TICK\n",
      "    M 1 3\n",
      "    TICK\n",
      "'''))\n",
      "================================================================================\n",
      "FragmentLoop(repetitions=9, fragments=[Fragment(circuit=stim.Circuit('''\n",
      "    R 1 3\n",
      "    TICK\n",
      "    CX 0 1 2 3\n",
      "    TICK\n",
      "    CX 2 1 4 3\n",
      "    TICK\n",
      "    M 1 3\n",
      "    TICK\n",
      "'''))])\n",
      "================================================================================\n",
      "Fragment(circuit=stim.Circuit('''\n",
      "    M 0 2 4\n",
      "'''))\n"
     ]
    }
   ],
   "source": [
    "for fragment in fragments:\n",
    "    print(\"=\" * 80)\n",
    "    print(fragment)"
   ]
  },
  {
   "cell_type": "markdown",
   "metadata": {},
   "source": [
    "## Pre-computing flows\n",
    "\n",
    "Now that the quantum circuit is adequately split into fragments, we can start pre-computing the flows for each fragment. \n",
    "\n",
    "For the moment, the package is limited to detectors that only include measurements from `2` fragments: the current one and the one before. Due to that limitation, we do not have to compute any \"propagation\" flow: only \"creation\" and \"destruction\" flows are needed to find such detectors."
   ]
  },
  {
   "cell_type": "code",
   "execution_count": 4,
   "metadata": {
    "execution": {
     "iopub.execute_input": "2024-10-08T05:48:03.376338Z",
     "iopub.status.busy": "2024-10-08T05:48:03.376132Z",
     "iopub.status.idle": "2024-10-08T05:48:03.379892Z",
     "shell.execute_reply": "2024-10-08T05:48:03.379302Z"
    }
   },
   "outputs": [],
   "source": [
    "from tqec.circuit.detectors.flow import build_flows_from_fragments\n",
    "\n",
    "flows = build_flows_from_fragments(fragments)"
   ]
  },
  {
   "cell_type": "markdown",
   "metadata": {},
   "source": [
    "Just like fragments, it is interesting to explore and visualise the different flows computed."
   ]
  },
  {
   "cell_type": "code",
   "execution_count": 5,
   "metadata": {
    "execution": {
     "iopub.execute_input": "2024-10-08T05:48:03.381616Z",
     "iopub.status.busy": "2024-10-08T05:48:03.381428Z",
     "iopub.status.idle": "2024-10-08T05:48:03.385529Z",
     "shell.execute_reply": "2024-10-08T05:48:03.385039Z"
    }
   },
   "outputs": [
    {
     "name": "stdout",
     "output_type": "stream",
     "text": [
      "================================================================================\n",
      "Flow(\n",
      "  creation = [\n",
      "    BoundaryStabilizers(stabilizer=Z0, collapsing_operations=[Z3, Z1], measurements=[], resets={0}, is_forward=True)\n",
      "    BoundaryStabilizers(stabilizer=Z0*Z1*Z2, collapsing_operations=[Z3, Z1], measurements=[RelativeMeasurementLocation(offset=-2, qubit_index=1)], resets={1}, is_forward=True)\n",
      "    BoundaryStabilizers(stabilizer=Z2, collapsing_operations=[Z3, Z1], measurements=[], resets={2}, is_forward=True)\n",
      "    BoundaryStabilizers(stabilizer=Z2*Z3*Z4, collapsing_operations=[Z3, Z1], measurements=[RelativeMeasurementLocation(offset=-1, qubit_index=3)], resets={3}, is_forward=True)\n",
      "    BoundaryStabilizers(stabilizer=Z4, collapsing_operations=[Z3, Z1], measurements=[], resets={4}, is_forward=True)\n",
      "  ],\n",
      "  destruction = [\n",
      "    BoundaryStabilizers(stabilizer=Z0*Z1*Z2, collapsing_operations=[Z2, Z4, Z0, Z1, Z3], measurements=[RelativeMeasurementLocation(offset=-2, qubit_index=1)], resets={0, 1, 2}, is_forward=False)\n",
      "    BoundaryStabilizers(stabilizer=Z2*Z3*Z4, collapsing_operations=[Z2, Z4, Z0, Z1, Z3], measurements=[RelativeMeasurementLocation(offset=-1, qubit_index=3)], resets={2, 3, 4}, is_forward=False)\n",
      "  ],\n",
      "total_number_of_measurements = 2\n",
      ")\n",
      "================================================================================\n",
      "Flow(\n",
      "  creation = [\n",
      "    BoundaryStabilizers(stabilizer=Z0*Z1*Z2, collapsing_operations=[Z3, Z1], measurements=[RelativeMeasurementLocation(offset=-2, qubit_index=1)], resets={1}, is_forward=True)\n",
      "    BoundaryStabilizers(stabilizer=Z2*Z3*Z4, collapsing_operations=[Z3, Z1], measurements=[RelativeMeasurementLocation(offset=-1, qubit_index=3)], resets={3}, is_forward=True)\n",
      "  ],\n",
      "  destruction = [\n",
      "    BoundaryStabilizers(stabilizer=Z0*Z1*Z2, collapsing_operations=[Z3, Z1], measurements=[RelativeMeasurementLocation(offset=-2, qubit_index=1)], resets={1}, is_forward=False)\n",
      "    BoundaryStabilizers(stabilizer=Z2*Z3*Z4, collapsing_operations=[Z3, Z1], measurements=[RelativeMeasurementLocation(offset=-1, qubit_index=3)], resets={3}, is_forward=False)\n",
      "  ],\n",
      "total_number_of_measurements = 2\n",
      ")\n",
      "================================================================================\n",
      "Flow(\n",
      "  creation = [\n",
      "  ],\n",
      "  destruction = [\n",
      "    BoundaryStabilizers(stabilizer=Z0, collapsing_operations=[], measurements=[RelativeMeasurementLocation(offset=-3, qubit_index=0)], resets=set(), is_forward=False)\n",
      "    BoundaryStabilizers(stabilizer=Z2, collapsing_operations=[], measurements=[RelativeMeasurementLocation(offset=-2, qubit_index=2)], resets=set(), is_forward=False)\n",
      "    BoundaryStabilizers(stabilizer=Z4, collapsing_operations=[], measurements=[RelativeMeasurementLocation(offset=-1, qubit_index=4)], resets=set(), is_forward=False)\n",
      "  ],\n",
      "total_number_of_measurements = 3\n",
      ")\n"
     ]
    }
   ],
   "source": [
    "for flow in flows:\n",
    "    print(\"=\" * 80)\n",
    "    print(\"Flow(\")\n",
    "    print(\"  creation = [\")\n",
    "    for creation in flow.creation:\n",
    "        print(f\"    {creation}\")\n",
    "    print(\"  ],\")\n",
    "    print(\"  destruction = [\")\n",
    "    for destruction in flow.destruction:\n",
    "        print(f\"    {destruction}\")\n",
    "    print(\"  ],\")\n",
    "    print(f\"total_number_of_measurements = {flow.total_number_of_measurements}\")\n",
    "    print(\")\")"
   ]
  },
  {
   "cell_type": "markdown",
   "metadata": {},
   "source": [
    "Let's use the first fragment and its associated flows as an example and illustrate using [Crumble](https://algassert.com/crumble), a nice tool that can be used to explore stabilizer propagation.\n",
    "\n",
    "The first \"creation\" stabilizer is\n",
    "\n",
    "```\n",
    "BoundaryStabilizers(\n",
    "    stabilizer=Z0, \n",
    "    collapsing_operations=[Z3, Z1], \n",
    "    involved_measurements=[],\n",
    "    source_qubits={0}\n",
    ")\n",
    "```\n",
    "\n",
    "which originate from the propagation described below:"
   ]
  },
  {
   "cell_type": "code",
   "execution_count": 6,
   "metadata": {
    "execution": {
     "iopub.execute_input": "2024-10-08T05:48:03.387331Z",
     "iopub.status.busy": "2024-10-08T05:48:03.386986Z",
     "iopub.status.idle": "2024-10-08T05:48:03.391063Z",
     "shell.execute_reply": "2024-10-08T05:48:03.390477Z"
    }
   },
   "outputs": [
    {
     "data": {
      "text/html": [
       "\n",
       "        <iframe\n",
       "            width=\"100%\"\n",
       "            height=\"350\"\n",
       "            src=\"https://algassert.com/crumble#circuit=Q(0,0)0;Q(1,0)1;Q(2,0)2;Q(3,0)3;Q(4,0)4;R_0_1_2_3_4;MARKZ(0)0;TICK;CX_0_1_2_3;TICK;CX_2_1_4_3;TICK;M_1_3\"\n",
       "            frameborder=\"0\"\n",
       "            allowfullscreen\n",
       "            \n",
       "        ></iframe>\n",
       "        "
      ],
      "text/plain": [
       "<IPython.lib.display.IFrame at 0x7f14ec8014c0>"
      ]
     },
     "execution_count": 6,
     "metadata": {},
     "output_type": "execute_result"
    }
   ],
   "source": [
    "from IPython.display import IFrame\n",
    "\n",
    "IFrame(\n",
    "    \"https://algassert.com/crumble#circuit=Q(0,0)0;Q(1,0)1;Q(2,0)2;Q(3,0)3;Q(4,0)4;R_0_1_2_3_4;MARKZ(0)0;TICK;CX_0_1_2_3;TICK;CX_2_1_4_3;TICK;M_1_3\",\n",
    "    \"100%\",\n",
    "    350,\n",
    ")"
   ]
  },
  {
   "cell_type": "markdown",
   "metadata": {},
   "source": [
    "A more interesting propagation is the second \"creation\" boundary stabilizer:\n",
    "\n",
    "```\n",
    "BoundaryStabilizers(\n",
    "    stabilizer=Z0*Z1*Z2, \n",
    "    collapsing_operations=[Z3, Z1], \n",
    "    involved_measurements=[RelativeMeasurementLocation(offset=-2, qubit_index=1)],\n",
    "    source_qubits={1}\n",
    ")\n",
    "```\n",
    "\n",
    "resulting from the propagation:"
   ]
  },
  {
   "cell_type": "code",
   "execution_count": 7,
   "metadata": {
    "execution": {
     "iopub.execute_input": "2024-10-08T05:48:03.392974Z",
     "iopub.status.busy": "2024-10-08T05:48:03.392615Z",
     "iopub.status.idle": "2024-10-08T05:48:03.396194Z",
     "shell.execute_reply": "2024-10-08T05:48:03.395734Z"
    }
   },
   "outputs": [
    {
     "data": {
      "text/html": [
       "\n",
       "        <iframe\n",
       "            width=\"100%\"\n",
       "            height=\"350\"\n",
       "            src=\"https://algassert.com/crumble#circuit=Q(0,0)0;Q(1,0)1;Q(2,0)2;Q(3,0)3;Q(4,0)4;R_0_1_2_3_4;MARKZ(0)1;TICK;CX_0_1_2_3;TICK;CX_2_1_4_3;TICK;M_1_3;MARKZ(0)1\"\n",
       "            frameborder=\"0\"\n",
       "            allowfullscreen\n",
       "            \n",
       "        ></iframe>\n",
       "        "
      ],
      "text/plain": [
       "<IPython.lib.display.IFrame at 0x7f14ec763590>"
      ]
     },
     "execution_count": 7,
     "metadata": {},
     "output_type": "execute_result"
    }
   ],
   "source": [
    "from IPython.display import IFrame\n",
    "\n",
    "IFrame(\n",
    "    \"https://algassert.com/crumble#circuit=Q(0,0)0;Q(1,0)1;Q(2,0)2;Q(3,0)3;Q(4,0)4;R_0_1_2_3_4;MARKZ(0)1;TICK;CX_0_1_2_3;TICK;CX_2_1_4_3;TICK;M_1_3;MARKZ(0)1\",\n",
    "    \"100%\",\n",
    "    350,\n",
    ")"
   ]
  },
  {
   "cell_type": "markdown",
   "metadata": {},
   "source": [
    "Note that the `BoundaryStabilizer` stores the state of the stabilizer propagation **before** any non-reversible collapsing operations. That way, from a `BoundaryStabilizer` instance, you have a direct access to the stabilizer resulting from the propagation before any collapsing operation and you can compute the stabilizer obtained after the collapsing operations."
   ]
  },
  {
   "cell_type": "markdown",
   "metadata": {},
   "source": [
    "Let's take one last example, but this time the \"destruction\" flow\n",
    "```\n",
    "BoundaryStabilizers(\n",
    "    stabilizer=Z0*Z1*Z2,\n",
    "    collapsing_operations=[Z1, Z3, Z2, Z4, Z0], \n",
    "    involved_measurements=[RelativeMeasurementLocation(offset=-2, qubit_index=1)],\n",
    "    source_qubits={1}\n",
    ")\n",
    "```\n",
    "that can be visualised below:"
   ]
  },
  {
   "cell_type": "code",
   "execution_count": 8,
   "metadata": {
    "execution": {
     "iopub.execute_input": "2024-10-08T05:48:03.397993Z",
     "iopub.status.busy": "2024-10-08T05:48:03.397634Z",
     "iopub.status.idle": "2024-10-08T05:48:03.401743Z",
     "shell.execute_reply": "2024-10-08T05:48:03.401134Z"
    }
   },
   "outputs": [
    {
     "data": {
      "text/html": [
       "\n",
       "        <iframe\n",
       "            width=\"100%\"\n",
       "            height=\"350\"\n",
       "            src=\"https://algassert.com/crumble#circuit=Q(0,0)0;Q(1,0)1;Q(2,0)2;Q(3,0)3;Q(4,0)4;R_0_1_2_3_4;MARKZ(0)0_1_2;TICK;CX_0_1_2_3;TICK;CX_2_1_4_3;TICK;M_1_3;MARKZ(0)1\"\n",
       "            frameborder=\"0\"\n",
       "            allowfullscreen\n",
       "            \n",
       "        ></iframe>\n",
       "        "
      ],
      "text/plain": [
       "<IPython.lib.display.IFrame at 0x7f14ed35f620>"
      ]
     },
     "execution_count": 8,
     "metadata": {},
     "output_type": "execute_result"
    }
   ],
   "source": [
    "from IPython.display import IFrame\n",
    "\n",
    "IFrame(\n",
    "    \"https://algassert.com/crumble#circuit=Q(0,0)0;Q(1,0)1;Q(2,0)2;Q(3,0)3;Q(4,0)4;R_0_1_2_3_4;MARKZ(0)0_1_2;TICK;CX_0_1_2_3;TICK;CX_2_1_4_3;TICK;M_1_3;MARKZ(0)1\",\n",
    "    \"100%\",\n",
    "    350,\n",
    ")"
   ]
  },
  {
   "cell_type": "markdown",
   "metadata": {},
   "source": [
    "In this step, we pre-computed the necessary information to find detectors: creation and destruction flows. The next step is to use that information to try to find detectors."
   ]
  },
  {
   "cell_type": "markdown",
   "metadata": {},
   "source": [
    "## Finding detectors\n",
    "\n",
    "The problem of finding a detector can be rephrased as finding one or more flow(s) that, when considered together, do not propagate and are fully collapsed by collapsing operations.\n",
    "\n",
    "The destruction flow visualised above is a good example: it is generated by the measurement on the second qubit, back-propagates in the fragment, and end up on 3 reset instructions that collapse entirely the flow. This means that all the measurements touched by that flow (i.e., for that example, the measurement on the second qubit) form a detector.\n",
    "\n",
    "The package has an iterative approach to find detectors:\n",
    "\n",
    "1. Try to find detectors fully contained within a single flow (the example of a destruction flow above is exactly in this case).\n",
    "2. For each adjacent flows `f1 -- f2`, try to find detectors spanning across these two flows:\n",
    "    1. First by trying to match `1` creation flow from `f1` to `1` destruction flow from `f2`.\n",
    "    2. Then by trying to find:\n",
    "        - `n > 1` creation flows from `f1` that, when combined, match with `1` destruction flow from `f2`.\n",
    "        - `1` creation flow from `f1` that match with `n > 1` destruction flows from `f2` when combined.\n",
    "\n",
    "The above methodology is only applied on flows that commute with their collapsing operations. For example, the flow"
   ]
  },
  {
   "cell_type": "code",
   "execution_count": 9,
   "metadata": {
    "execution": {
     "iopub.execute_input": "2024-10-08T05:48:03.403604Z",
     "iopub.status.busy": "2024-10-08T05:48:03.403222Z",
     "iopub.status.idle": "2024-10-08T05:48:03.407253Z",
     "shell.execute_reply": "2024-10-08T05:48:03.406765Z"
    }
   },
   "outputs": [
    {
     "data": {
      "text/html": [
       "\n",
       "        <iframe\n",
       "            width=\"100%\"\n",
       "            height=\"350\"\n",
       "            src=\"https://algassert.com/crumble#circuit=Q(0,0)0;Q(1,0)1;Q(2,0)2;Q(3,0)3;Q(4,0)4;R_0_1_2_3_4;MARKZ(0)1;TICK;CX_0_1_2_3;TICK;CX_2_1_4_3;TICK;H_1;TICK;M_1_3;MARKZ(0)1\"\n",
       "            frameborder=\"0\"\n",
       "            allowfullscreen\n",
       "            \n",
       "        ></iframe>\n",
       "        "
      ],
      "text/plain": [
       "<IPython.lib.display.IFrame at 0x7f14ec763a40>"
      ]
     },
     "execution_count": 9,
     "metadata": {},
     "output_type": "execute_result"
    }
   ],
   "source": [
    "from IPython.display import IFrame\n",
    "\n",
    "IFrame(\n",
    "    \"https://algassert.com/crumble#circuit=Q(0,0)0;Q(1,0)1;Q(2,0)2;Q(3,0)3;Q(4,0)4;R_0_1_2_3_4;MARKZ(0)1;TICK;CX_0_1_2_3;TICK;CX_2_1_4_3;TICK;H_1;TICK;M_1_3;MARKZ(0)1\",\n",
    "    \"100%\",\n",
    "    350,\n",
    ")"
   ]
  },
  {
   "cell_type": "markdown",
   "metadata": {},
   "source": [
    "does not commute with its collapsing operation (the measurement). This can be seen quite easily from the `BoundaryStabilizer` instance that would represent this flow:\n",
    "\n",
    "```\n",
    "BoundaryStabilizers(\n",
    "    stabilizer=Z0*X1*Z2, \n",
    "    collapsing_operations=[Z3, Z1], \n",
    "    involved_measurements=[RelativeMeasurementLocation(offset=-2, qubit_index=1)],\n",
    "    source_qubits={1}\n",
    ")\n",
    "```\n",
    "\n",
    "The stabilizer `Z0*X1*Z2` does not commute with the collapsing operation `Z1`.\n",
    "\n",
    "In such cases, there is an intermediary step `1.5` that consist in try to merge several anti-commuting flows together to form new commuting flows.\n",
    "\n",
    "Coming back to the code, detectors can be listed by calling `match_detectors_from_flows_shallow`:"
   ]
  },
  {
   "cell_type": "code",
   "execution_count": 10,
   "metadata": {
    "execution": {
     "iopub.execute_input": "2024-10-08T05:48:03.408878Z",
     "iopub.status.busy": "2024-10-08T05:48:03.408689Z",
     "iopub.status.idle": "2024-10-08T05:48:03.413792Z",
     "shell.execute_reply": "2024-10-08T05:48:03.413346Z"
    }
   },
   "outputs": [],
   "source": [
    "from tqec.circuit.detectors.match import match_detectors_from_flows_shallow\n",
    "\n",
    "qubit_coordinates = {\n",
    "    q: tuple(coords) for q, coords in circuit.get_final_qubit_coordinates().items()\n",
    "}\n",
    "matched_detectors = match_detectors_from_flows_shallow(flows, qubit_coordinates)"
   ]
  },
  {
   "cell_type": "markdown",
   "metadata": {},
   "source": [
    "This function will return, for each of the provided flows, a list of detectors:"
   ]
  },
  {
   "cell_type": "code",
   "execution_count": 11,
   "metadata": {
    "execution": {
     "iopub.execute_input": "2024-10-08T05:48:03.415397Z",
     "iopub.status.busy": "2024-10-08T05:48:03.415187Z",
     "iopub.status.idle": "2024-10-08T05:48:03.418523Z",
     "shell.execute_reply": "2024-10-08T05:48:03.418035Z"
    }
   },
   "outputs": [
    {
     "name": "stdout",
     "output_type": "stream",
     "text": [
      "Detectors found for fragment number 0:\n",
      "   DETECTOR(3, 0) rec[-1]\n",
      "   DETECTOR(1, 0) rec[-2]\n",
      "Detectors found for fragment number 1:\n",
      "   DETECTOR(1, 0) rec[-2] rec[-4]\n",
      "   DETECTOR(3, 0) rec[-1] rec[-3]\n",
      "Detectors found for fragment number 2:\n",
      "   DETECTOR(1, 1) rec[-2] rec[-3] rec[-5]\n",
      "   DETECTOR(3, 1) rec[-1] rec[-2] rec[-4]\n"
     ]
    }
   ],
   "source": [
    "for i, detectors in enumerate(matched_detectors):\n",
    "    print(f\"Detectors found for fragment number {i}:\")\n",
    "    for detector in detectors:\n",
    "        print(\"  \", detector.to_instruction())"
   ]
  },
  {
   "cell_type": "markdown",
   "metadata": {},
   "source": [
    "## Wrapping up\n",
    "\n",
    "In the previous sections, you have seen the process used to compute detectors. In practice, this process is long and tedious to write, so a function performing all the above steps and constructing an equivalent quantum circuit with the computed detectors has been included in the package: `annotate_detectors_automatically`.\n",
    "\n",
    "One example of its usage is available below."
   ]
  },
  {
   "cell_type": "code",
   "execution_count": 12,
   "metadata": {
    "execution": {
     "iopub.execute_input": "2024-10-08T05:48:03.420088Z",
     "iopub.status.busy": "2024-10-08T05:48:03.419905Z",
     "iopub.status.idle": "2024-10-08T05:48:03.429840Z",
     "shell.execute_reply": "2024-10-08T05:48:03.429355Z"
    }
   },
   "outputs": [
    {
     "name": "stdout",
     "output_type": "stream",
     "text": [
      "QUBIT_COORDS(0) 0\n",
      "QUBIT_COORDS(1) 1\n",
      "QUBIT_COORDS(2) 2\n",
      "QUBIT_COORDS(3) 3\n",
      "QUBIT_COORDS(4) 4\n",
      "R 0 1 2 3 4\n",
      "TICK\n",
      "CX 0 1 2 3\n",
      "TICK\n",
      "CX 2 1 4 3\n",
      "TICK\n",
      "M 1 3\n",
      "TICK\n",
      "REPEAT 9 {\n",
      "    R 1 3\n",
      "    TICK\n",
      "    CX 0 1 2 3\n",
      "    TICK\n",
      "    CX 2 1 4 3\n",
      "    TICK\n",
      "    M 1 3\n",
      "    TICK\n",
      "}\n",
      "M 0 2 4\n"
     ]
    }
   ],
   "source": [
    "from tqec.circuit.detectors.construction import annotate_detectors_automatically\n",
    "from tqec.circuit.detectors.utils import remove_annotations\n",
    "\n",
    "print(remove_annotations(circuit))\n",
    "annotated_circuit = annotate_detectors_automatically(remove_annotations(circuit))"
   ]
  },
  {
   "cell_type": "code",
   "execution_count": 13,
   "metadata": {
    "execution": {
     "iopub.execute_input": "2024-10-08T05:48:03.431598Z",
     "iopub.status.busy": "2024-10-08T05:48:03.431218Z",
     "iopub.status.idle": "2024-10-08T05:48:03.436043Z",
     "shell.execute_reply": "2024-10-08T05:48:03.435462Z"
    }
   },
   "outputs": [
    {
     "name": "stdout",
     "output_type": "stream",
     "text": [
      "QUBIT_COORDS(0) 0\n",
      "QUBIT_COORDS(1) 1\n",
      "QUBIT_COORDS(2) 2\n",
      "QUBIT_COORDS(3) 3\n",
      "QUBIT_COORDS(4) 4\n",
      "R 0 1 2 3 4\n",
      "TICK\n",
      "CX 0 1 2 3\n",
      "TICK\n",
      "CX 2 1 4 3\n",
      "TICK\n",
      "M 1 3\n",
      "DETECTOR(3, 0) rec[-1]\n",
      "DETECTOR(1, 0) rec[-2]\n",
      "TICK\n",
      "REPEAT 9 {\n",
      "    R 1 3\n",
      "    TICK\n",
      "    CX 0 1 2 3\n",
      "    TICK\n",
      "    CX 2 1 4 3\n",
      "    TICK\n",
      "    M 1 3\n",
      "    SHIFT_COORDS(0, 1)\n",
      "    DETECTOR(1, 0) rec[-2] rec[-4]\n",
      "    DETECTOR(3, 0) rec[-1] rec[-3]\n",
      "    TICK\n",
      "}\n",
      "M 0 2 4\n",
      "DETECTOR(1, 1) rec[-2] rec[-3] rec[-5]\n",
      "DETECTOR(3, 1) rec[-1] rec[-2] rec[-4]\n"
     ]
    },
    {
     "data": {
      "image/svg+xml": [
       "<svg viewBox=\"0 0 1696 416\"  version=\"1.1\" xmlns=\"http://www.w3.org/2000/svg\">\n",
       "<g id=\"qubit_lines\">\n",
       "<path id=\"qubit_line:0\" d=\"M64,64 L1664,64 \" stroke=\"black\"/>\n",
       "<text dominant-baseline=\"central\" text-anchor=\"end\" font-family=\"monospace\" font-size=\"12\" x=\"64\" y=\"64\">q0</text>\n",
       "<path id=\"qubit_line:1\" d=\"M64,128 L1664,128 \" stroke=\"black\"/>\n",
       "<text dominant-baseline=\"central\" text-anchor=\"end\" font-family=\"monospace\" font-size=\"12\" x=\"64\" y=\"128\">q1</text>\n",
       "<path id=\"qubit_line:2\" d=\"M64,192 L1664,192 \" stroke=\"black\"/>\n",
       "<text dominant-baseline=\"central\" text-anchor=\"end\" font-family=\"monospace\" font-size=\"12\" x=\"64\" y=\"192\">q2</text>\n",
       "<path id=\"qubit_line:3\" d=\"M64,256 L1664,256 \" stroke=\"black\"/>\n",
       "<text dominant-baseline=\"central\" text-anchor=\"end\" font-family=\"monospace\" font-size=\"12\" x=\"64\" y=\"256\">q3</text>\n",
       "<path id=\"qubit_line:4\" d=\"M64,320 L1664,320 \" stroke=\"black\"/>\n",
       "<text dominant-baseline=\"central\" text-anchor=\"end\" font-family=\"monospace\" font-size=\"12\" x=\"64\" y=\"320\">q4</text>\n",
       "</g>\n",
       "<rect x=\"80\" y=\"48\" width=\"160\" height=\"32\" stroke=\"black\" fill=\"white\"/>\n",
       "<text dominant-baseline=\"central\" text-anchor=\"middle\" font-family=\"monospace\" font-size=\"16\" x=\"160\" y=\"64\">COORDS(0)</text>\n",
       "<rect x=\"80\" y=\"112\" width=\"160\" height=\"32\" stroke=\"black\" fill=\"white\"/>\n",
       "<text dominant-baseline=\"central\" text-anchor=\"middle\" font-family=\"monospace\" font-size=\"16\" x=\"160\" y=\"128\">COORDS(1)</text>\n",
       "<rect x=\"80\" y=\"176\" width=\"160\" height=\"32\" stroke=\"black\" fill=\"white\"/>\n",
       "<text dominant-baseline=\"central\" text-anchor=\"middle\" font-family=\"monospace\" font-size=\"16\" x=\"160\" y=\"192\">COORDS(2)</text>\n",
       "<rect x=\"80\" y=\"240\" width=\"160\" height=\"32\" stroke=\"black\" fill=\"white\"/>\n",
       "<text dominant-baseline=\"central\" text-anchor=\"middle\" font-family=\"monospace\" font-size=\"16\" x=\"160\" y=\"256\">COORDS(3)</text>\n",
       "<rect x=\"80\" y=\"304\" width=\"160\" height=\"32\" stroke=\"black\" fill=\"white\"/>\n",
       "<text dominant-baseline=\"central\" text-anchor=\"middle\" font-family=\"monospace\" font-size=\"16\" x=\"160\" y=\"320\">COORDS(4)</text>\n",
       "<rect x=\"272\" y=\"48\" width=\"32\" height=\"32\" stroke=\"black\" fill=\"black\"/>\n",
       "<text dominant-baseline=\"central\" text-anchor=\"middle\" font-family=\"monospace\" font-size=\"30\" x=\"288\" y=\"64\" fill=\"white\">R</text>\n",
       "<rect x=\"272\" y=\"112\" width=\"32\" height=\"32\" stroke=\"black\" fill=\"black\"/>\n",
       "<text dominant-baseline=\"central\" text-anchor=\"middle\" font-family=\"monospace\" font-size=\"30\" x=\"288\" y=\"128\" fill=\"white\">R</text>\n",
       "<rect x=\"272\" y=\"176\" width=\"32\" height=\"32\" stroke=\"black\" fill=\"black\"/>\n",
       "<text dominant-baseline=\"central\" text-anchor=\"middle\" font-family=\"monospace\" font-size=\"30\" x=\"288\" y=\"192\" fill=\"white\">R</text>\n",
       "<rect x=\"272\" y=\"240\" width=\"32\" height=\"32\" stroke=\"black\" fill=\"black\"/>\n",
       "<text dominant-baseline=\"central\" text-anchor=\"middle\" font-family=\"monospace\" font-size=\"30\" x=\"288\" y=\"256\" fill=\"white\">R</text>\n",
       "<rect x=\"272\" y=\"304\" width=\"32\" height=\"32\" stroke=\"black\" fill=\"black\"/>\n",
       "<text dominant-baseline=\"central\" text-anchor=\"middle\" font-family=\"monospace\" font-size=\"30\" x=\"288\" y=\"320\" fill=\"white\">R</text>\n",
       "<path d=\"M68,40 L68,32 L316,32 L316,40 \" stroke=\"black\" fill=\"none\"/>\n",
       "<path d=\"M68,376 L68,384 L316,384 L316,376 \" stroke=\"black\" fill=\"none\"/>\n",
       "<path d=\"M352,64 L352,128 \" stroke=\"black\"/>\n",
       "<circle cx=\"352\" cy=\"64\" r=\"12\" stroke=\"none\" fill=\"black\"/>\n",
       "<circle cx=\"352\" cy=\"128\" r=\"12\" stroke=\"black\" fill=\"white\"/>\n",
       "<path d=\"M340,128 L364,128 M352,116 L352,140 \" stroke=\"black\"/>\n",
       "<path d=\"M352,192 L352,256 \" stroke=\"black\"/>\n",
       "<circle cx=\"352\" cy=\"192\" r=\"12\" stroke=\"none\" fill=\"black\"/>\n",
       "<circle cx=\"352\" cy=\"256\" r=\"12\" stroke=\"black\" fill=\"white\"/>\n",
       "<path d=\"M340,256 L364,256 M352,244 L352,268 \" stroke=\"black\"/>\n",
       "<path d=\"M416,128 L416,192 \" stroke=\"black\"/>\n",
       "<circle cx=\"416\" cy=\"192\" r=\"12\" stroke=\"none\" fill=\"black\"/>\n",
       "<circle cx=\"416\" cy=\"128\" r=\"12\" stroke=\"black\" fill=\"white\"/>\n",
       "<path d=\"M404,128 L428,128 M416,116 L416,140 \" stroke=\"black\"/>\n",
       "<path d=\"M416,256 L416,320 \" stroke=\"black\"/>\n",
       "<circle cx=\"416\" cy=\"320\" r=\"12\" stroke=\"none\" fill=\"black\"/>\n",
       "<circle cx=\"416\" cy=\"256\" r=\"12\" stroke=\"black\" fill=\"white\"/>\n",
       "<path d=\"M404,256 L428,256 M416,244 L416,268 \" stroke=\"black\"/>\n",
       "<rect x=\"464\" y=\"112\" width=\"32\" height=\"32\" stroke=\"black\" fill=\"black\"/>\n",
       "<text dominant-baseline=\"central\" text-anchor=\"middle\" font-family=\"monospace\" font-size=\"30\" x=\"480\" y=\"128\" fill=\"white\">M</text>\n",
       "<text text-anchor=\"middle\" font-family=\"monospace\" font-size=\"8\" x=\"480\" y=\"108\">rec[0]</text>\n",
       "<rect x=\"464\" y=\"240\" width=\"32\" height=\"32\" stroke=\"black\" fill=\"black\"/>\n",
       "<text dominant-baseline=\"central\" text-anchor=\"middle\" font-family=\"monospace\" font-size=\"30\" x=\"480\" y=\"256\" fill=\"white\">M</text>\n",
       "<text text-anchor=\"middle\" font-family=\"monospace\" font-size=\"8\" x=\"480\" y=\"236\">rec[1]</text>\n",
       "<rect x=\"528\" y=\"240\" width=\"160\" height=\"32\" stroke=\"black\" fill=\"lightgray\"/>\n",
       "<text dominant-baseline=\"central\" text-anchor=\"middle\" font-family=\"monospace\" font-size=\"16\" x=\"608\" y=\"256\">DETECTOR</text>\n",
       "<text dominant-baseline=\"hanging\" text-anchor=\"middle\" font-family=\"monospace\" font-size=\"8\" x=\"608\" y=\"276\">coords=(3,0)</text>\n",
       "<text text-anchor=\"middle\" font-family=\"monospace\" font-size=\"8\" x=\"608\" y=\"236\">D0 = rec[1]</text>\n",
       "<rect x=\"528\" y=\"112\" width=\"160\" height=\"32\" stroke=\"black\" fill=\"lightgray\"/>\n",
       "<text dominant-baseline=\"central\" text-anchor=\"middle\" font-family=\"monospace\" font-size=\"16\" x=\"608\" y=\"128\">DETECTOR</text>\n",
       "<text dominant-baseline=\"hanging\" text-anchor=\"middle\" font-family=\"monospace\" font-size=\"8\" x=\"608\" y=\"148\">coords=(1,0)</text>\n",
       "<text text-anchor=\"middle\" font-family=\"monospace\" font-size=\"8\" x=\"608\" y=\"108\">D1 = rec[0]</text>\n",
       "<path d=\"M452,40 L452,32 L700,32 L700,40 \" stroke=\"black\" fill=\"none\"/>\n",
       "<path d=\"M452,376 L452,384 L700,384 L700,376 \" stroke=\"black\" fill=\"none\"/>\n",
       "<path d=\"M744,32 L736,32 L736,384 L744,384 \" stroke=\"black\" fill=\"none\"/>\n",
       "<text dominant-baseline=\"auto\" text-anchor=\"start\" font-family=\"monospace\" font-size=\"12\" x=\"740\" y=\"380\">REP9</text>\n",
       "<rect x=\"784\" y=\"112\" width=\"32\" height=\"32\" stroke=\"black\" fill=\"black\"/>\n",
       "<text dominant-baseline=\"central\" text-anchor=\"middle\" font-family=\"monospace\" font-size=\"30\" x=\"800\" y=\"128\" fill=\"white\">R</text>\n",
       "<rect x=\"784\" y=\"240\" width=\"32\" height=\"32\" stroke=\"black\" fill=\"black\"/>\n",
       "<text dominant-baseline=\"central\" text-anchor=\"middle\" font-family=\"monospace\" font-size=\"30\" x=\"800\" y=\"256\" fill=\"white\">R</text>\n",
       "<path d=\"M864,64 L864,128 \" stroke=\"black\"/>\n",
       "<circle cx=\"864\" cy=\"64\" r=\"12\" stroke=\"none\" fill=\"black\"/>\n",
       "<circle cx=\"864\" cy=\"128\" r=\"12\" stroke=\"black\" fill=\"white\"/>\n",
       "<path d=\"M852,128 L876,128 M864,116 L864,140 \" stroke=\"black\"/>\n",
       "<path d=\"M864,192 L864,256 \" stroke=\"black\"/>\n",
       "<circle cx=\"864\" cy=\"192\" r=\"12\" stroke=\"none\" fill=\"black\"/>\n",
       "<circle cx=\"864\" cy=\"256\" r=\"12\" stroke=\"black\" fill=\"white\"/>\n",
       "<path d=\"M852,256 L876,256 M864,244 L864,268 \" stroke=\"black\"/>\n",
       "<path d=\"M928,128 L928,192 \" stroke=\"black\"/>\n",
       "<circle cx=\"928\" cy=\"192\" r=\"12\" stroke=\"none\" fill=\"black\"/>\n",
       "<circle cx=\"928\" cy=\"128\" r=\"12\" stroke=\"black\" fill=\"white\"/>\n",
       "<path d=\"M916,128 L940,128 M928,116 L928,140 \" stroke=\"black\"/>\n",
       "<path d=\"M928,256 L928,320 \" stroke=\"black\"/>\n",
       "<circle cx=\"928\" cy=\"320\" r=\"12\" stroke=\"none\" fill=\"black\"/>\n",
       "<circle cx=\"928\" cy=\"256\" r=\"12\" stroke=\"black\" fill=\"white\"/>\n",
       "<path d=\"M916,256 L940,256 M928,244 L928,268 \" stroke=\"black\"/>\n",
       "<rect x=\"976\" y=\"112\" width=\"32\" height=\"32\" stroke=\"black\" fill=\"black\"/>\n",
       "<text dominant-baseline=\"central\" text-anchor=\"middle\" font-family=\"monospace\" font-size=\"30\" x=\"992\" y=\"128\" fill=\"white\">M</text>\n",
       "<text text-anchor=\"middle\" font-family=\"monospace\" font-size=\"8\" x=\"992\" y=\"108\">rec[2+iter*2]</text>\n",
       "<rect x=\"976\" y=\"240\" width=\"32\" height=\"32\" stroke=\"black\" fill=\"black\"/>\n",
       "<text dominant-baseline=\"central\" text-anchor=\"middle\" font-family=\"monospace\" font-size=\"30\" x=\"992\" y=\"256\" fill=\"white\">M</text>\n",
       "<text text-anchor=\"middle\" font-family=\"monospace\" font-size=\"8\" x=\"992\" y=\"236\">rec[3+iter*2]</text>\n",
       "<rect x=\"1040\" y=\"112\" width=\"224\" height=\"32\" stroke=\"black\" fill=\"lightgray\"/>\n",
       "<text dominant-baseline=\"central\" text-anchor=\"middle\" font-family=\"monospace\" font-size=\"16\" x=\"1152\" y=\"128\">DETECTOR</text>\n",
       "<text dominant-baseline=\"hanging\" text-anchor=\"middle\" font-family=\"monospace\" font-size=\"8\" x=\"1152\" y=\"148\">coords=(1,1+iter)</text>\n",
       "<text text-anchor=\"middle\" font-family=\"monospace\" font-size=\"8\" x=\"1152\" y=\"108\">D[2+iter*2] = rec[2+iter*2]*rec[0+iter*2]</text>\n",
       "<rect x=\"1040\" y=\"240\" width=\"224\" height=\"32\" stroke=\"black\" fill=\"lightgray\"/>\n",
       "<text dominant-baseline=\"central\" text-anchor=\"middle\" font-family=\"monospace\" font-size=\"16\" x=\"1152\" y=\"256\">DETECTOR</text>\n",
       "<text dominant-baseline=\"hanging\" text-anchor=\"middle\" font-family=\"monospace\" font-size=\"8\" x=\"1152\" y=\"276\">coords=(3,1+iter)</text>\n",
       "<text text-anchor=\"middle\" font-family=\"monospace\" font-size=\"8\" x=\"1152\" y=\"236\">D[3+iter*2] = rec[3+iter*2]*rec[1+iter*2]</text>\n",
       "<path d=\"M964,40 L964,32 L1276,32 L1276,40 \" stroke=\"black\" fill=\"none\"/>\n",
       "<path d=\"M964,376 L964,384 L1276,384 L1276,376 \" stroke=\"black\" fill=\"none\"/>\n",
       "<path d=\"M1304,32 L1312,32 L1312,384 L1304,384 \" stroke=\"black\" fill=\"none\"/>\n",
       "<rect x=\"1360\" y=\"48\" width=\"32\" height=\"32\" stroke=\"black\" fill=\"black\"/>\n",
       "<text dominant-baseline=\"central\" text-anchor=\"middle\" font-family=\"monospace\" font-size=\"30\" x=\"1376\" y=\"64\" fill=\"white\">M</text>\n",
       "<text text-anchor=\"middle\" font-family=\"monospace\" font-size=\"8\" x=\"1376\" y=\"44\">rec[20]</text>\n",
       "<rect x=\"1360\" y=\"176\" width=\"32\" height=\"32\" stroke=\"black\" fill=\"black\"/>\n",
       "<text dominant-baseline=\"central\" text-anchor=\"middle\" font-family=\"monospace\" font-size=\"30\" x=\"1376\" y=\"192\" fill=\"white\">M</text>\n",
       "<text text-anchor=\"middle\" font-family=\"monospace\" font-size=\"8\" x=\"1376\" y=\"172\">rec[21]</text>\n",
       "<rect x=\"1360\" y=\"304\" width=\"32\" height=\"32\" stroke=\"black\" fill=\"black\"/>\n",
       "<text dominant-baseline=\"central\" text-anchor=\"middle\" font-family=\"monospace\" font-size=\"30\" x=\"1376\" y=\"320\" fill=\"white\">M</text>\n",
       "<text text-anchor=\"middle\" font-family=\"monospace\" font-size=\"8\" x=\"1376\" y=\"300\">rec[22]</text>\n",
       "<rect x=\"1360\" y=\"112\" width=\"288\" height=\"32\" stroke=\"black\" fill=\"lightgray\"/>\n",
       "<text dominant-baseline=\"central\" text-anchor=\"middle\" font-family=\"monospace\" font-size=\"16\" x=\"1504\" y=\"128\">DETECTOR</text>\n",
       "<text dominant-baseline=\"hanging\" text-anchor=\"middle\" font-family=\"monospace\" font-size=\"8\" x=\"1504\" y=\"148\">coords=(1,10)</text>\n",
       "<text text-anchor=\"middle\" font-family=\"monospace\" font-size=\"8\" x=\"1504\" y=\"108\">D20 = rec[21]*rec[20]*rec[18]</text>\n",
       "<rect x=\"1360\" y=\"240\" width=\"288\" height=\"32\" stroke=\"black\" fill=\"lightgray\"/>\n",
       "<text dominant-baseline=\"central\" text-anchor=\"middle\" font-family=\"monospace\" font-size=\"16\" x=\"1504\" y=\"256\">DETECTOR</text>\n",
       "<text dominant-baseline=\"hanging\" text-anchor=\"middle\" font-family=\"monospace\" font-size=\"8\" x=\"1504\" y=\"276\">coords=(3,10)</text>\n",
       "<text text-anchor=\"middle\" font-family=\"monospace\" font-size=\"8\" x=\"1504\" y=\"236\">D21 = rec[22]*rec[21]*rec[19]</text>\n",
       "</svg>"
      ],
      "text/plain": [
       "<svg viewBox=\"0 0 1696 416\"  version=\"1.1\" xmlns=\"http://www.w3.org/2000/svg\">\n",
       "<g id=\"qubit_lines\">\n",
       "<path id=\"qubit_line:0\" d=\"M64,64 L1664,64 \" stroke=\"black\"/>\n",
       "<text dominant-baseline=\"central\" text-anchor=\"end\" font-family=\"monospace\" font-size=\"12\" x=\"64\" y=\"64\">q0</text>\n",
       "<path id=\"qubit_line:1\" d=\"M64,128 L1664,128 \" stroke=\"black\"/>\n",
       "<text dominant-baseline=\"central\" text-anchor=\"end\" font-family=\"monospace\" font-size=\"12\" x=\"64\" y=\"128\">q1</text>\n",
       "<path id=\"qubit_line:2\" d=\"M64,192 L1664,192 \" stroke=\"black\"/>\n",
       "<text dominant-baseline=\"central\" text-anchor=\"end\" font-family=\"monospace\" font-size=\"12\" x=\"64\" y=\"192\">q2</text>\n",
       "<path id=\"qubit_line:3\" d=\"M64,256 L1664,256 \" stroke=\"black\"/>\n",
       "<text dominant-baseline=\"central\" text-anchor=\"end\" font-family=\"monospace\" font-size=\"12\" x=\"64\" y=\"256\">q3</text>\n",
       "<path id=\"qubit_line:4\" d=\"M64,320 L1664,320 \" stroke=\"black\"/>\n",
       "<text dominant-baseline=\"central\" text-anchor=\"end\" font-family=\"monospace\" font-size=\"12\" x=\"64\" y=\"320\">q4</text>\n",
       "</g>\n",
       "<rect x=\"80\" y=\"48\" width=\"160\" height=\"32\" stroke=\"black\" fill=\"white\"/>\n",
       "<text dominant-baseline=\"central\" text-anchor=\"middle\" font-family=\"monospace\" font-size=\"16\" x=\"160\" y=\"64\">COORDS(0)</text>\n",
       "<rect x=\"80\" y=\"112\" width=\"160\" height=\"32\" stroke=\"black\" fill=\"white\"/>\n",
       "<text dominant-baseline=\"central\" text-anchor=\"middle\" font-family=\"monospace\" font-size=\"16\" x=\"160\" y=\"128\">COORDS(1)</text>\n",
       "<rect x=\"80\" y=\"176\" width=\"160\" height=\"32\" stroke=\"black\" fill=\"white\"/>\n",
       "<text dominant-baseline=\"central\" text-anchor=\"middle\" font-family=\"monospace\" font-size=\"16\" x=\"160\" y=\"192\">COORDS(2)</text>\n",
       "<rect x=\"80\" y=\"240\" width=\"160\" height=\"32\" stroke=\"black\" fill=\"white\"/>\n",
       "<text dominant-baseline=\"central\" text-anchor=\"middle\" font-family=\"monospace\" font-size=\"16\" x=\"160\" y=\"256\">COORDS(3)</text>\n",
       "<rect x=\"80\" y=\"304\" width=\"160\" height=\"32\" stroke=\"black\" fill=\"white\"/>\n",
       "<text dominant-baseline=\"central\" text-anchor=\"middle\" font-family=\"monospace\" font-size=\"16\" x=\"160\" y=\"320\">COORDS(4)</text>\n",
       "<rect x=\"272\" y=\"48\" width=\"32\" height=\"32\" stroke=\"black\" fill=\"black\"/>\n",
       "<text dominant-baseline=\"central\" text-anchor=\"middle\" font-family=\"monospace\" font-size=\"30\" x=\"288\" y=\"64\" fill=\"white\">R</text>\n",
       "<rect x=\"272\" y=\"112\" width=\"32\" height=\"32\" stroke=\"black\" fill=\"black\"/>\n",
       "<text dominant-baseline=\"central\" text-anchor=\"middle\" font-family=\"monospace\" font-size=\"30\" x=\"288\" y=\"128\" fill=\"white\">R</text>\n",
       "<rect x=\"272\" y=\"176\" width=\"32\" height=\"32\" stroke=\"black\" fill=\"black\"/>\n",
       "<text dominant-baseline=\"central\" text-anchor=\"middle\" font-family=\"monospace\" font-size=\"30\" x=\"288\" y=\"192\" fill=\"white\">R</text>\n",
       "<rect x=\"272\" y=\"240\" width=\"32\" height=\"32\" stroke=\"black\" fill=\"black\"/>\n",
       "<text dominant-baseline=\"central\" text-anchor=\"middle\" font-family=\"monospace\" font-size=\"30\" x=\"288\" y=\"256\" fill=\"white\">R</text>\n",
       "<rect x=\"272\" y=\"304\" width=\"32\" height=\"32\" stroke=\"black\" fill=\"black\"/>\n",
       "<text dominant-baseline=\"central\" text-anchor=\"middle\" font-family=\"monospace\" font-size=\"30\" x=\"288\" y=\"320\" fill=\"white\">R</text>\n",
       "<path d=\"M68,40 L68,32 L316,32 L316,40 \" stroke=\"black\" fill=\"none\"/>\n",
       "<path d=\"M68,376 L68,384 L316,384 L316,376 \" stroke=\"black\" fill=\"none\"/>\n",
       "<path d=\"M352,64 L352,128 \" stroke=\"black\"/>\n",
       "<circle cx=\"352\" cy=\"64\" r=\"12\" stroke=\"none\" fill=\"black\"/>\n",
       "<circle cx=\"352\" cy=\"128\" r=\"12\" stroke=\"black\" fill=\"white\"/>\n",
       "<path d=\"M340,128 L364,128 M352,116 L352,140 \" stroke=\"black\"/>\n",
       "<path d=\"M352,192 L352,256 \" stroke=\"black\"/>\n",
       "<circle cx=\"352\" cy=\"192\" r=\"12\" stroke=\"none\" fill=\"black\"/>\n",
       "<circle cx=\"352\" cy=\"256\" r=\"12\" stroke=\"black\" fill=\"white\"/>\n",
       "<path d=\"M340,256 L364,256 M352,244 L352,268 \" stroke=\"black\"/>\n",
       "<path d=\"M416,128 L416,192 \" stroke=\"black\"/>\n",
       "<circle cx=\"416\" cy=\"192\" r=\"12\" stroke=\"none\" fill=\"black\"/>\n",
       "<circle cx=\"416\" cy=\"128\" r=\"12\" stroke=\"black\" fill=\"white\"/>\n",
       "<path d=\"M404,128 L428,128 M416,116 L416,140 \" stroke=\"black\"/>\n",
       "<path d=\"M416,256 L416,320 \" stroke=\"black\"/>\n",
       "<circle cx=\"416\" cy=\"320\" r=\"12\" stroke=\"none\" fill=\"black\"/>\n",
       "<circle cx=\"416\" cy=\"256\" r=\"12\" stroke=\"black\" fill=\"white\"/>\n",
       "<path d=\"M404,256 L428,256 M416,244 L416,268 \" stroke=\"black\"/>\n",
       "<rect x=\"464\" y=\"112\" width=\"32\" height=\"32\" stroke=\"black\" fill=\"black\"/>\n",
       "<text dominant-baseline=\"central\" text-anchor=\"middle\" font-family=\"monospace\" font-size=\"30\" x=\"480\" y=\"128\" fill=\"white\">M</text>\n",
       "<text text-anchor=\"middle\" font-family=\"monospace\" font-size=\"8\" x=\"480\" y=\"108\">rec[0]</text>\n",
       "<rect x=\"464\" y=\"240\" width=\"32\" height=\"32\" stroke=\"black\" fill=\"black\"/>\n",
       "<text dominant-baseline=\"central\" text-anchor=\"middle\" font-family=\"monospace\" font-size=\"30\" x=\"480\" y=\"256\" fill=\"white\">M</text>\n",
       "<text text-anchor=\"middle\" font-family=\"monospace\" font-size=\"8\" x=\"480\" y=\"236\">rec[1]</text>\n",
       "<rect x=\"528\" y=\"240\" width=\"160\" height=\"32\" stroke=\"black\" fill=\"lightgray\"/>\n",
       "<text dominant-baseline=\"central\" text-anchor=\"middle\" font-family=\"monospace\" font-size=\"16\" x=\"608\" y=\"256\">DETECTOR</text>\n",
       "<text dominant-baseline=\"hanging\" text-anchor=\"middle\" font-family=\"monospace\" font-size=\"8\" x=\"608\" y=\"276\">coords=(3,0)</text>\n",
       "<text text-anchor=\"middle\" font-family=\"monospace\" font-size=\"8\" x=\"608\" y=\"236\">D0 = rec[1]</text>\n",
       "<rect x=\"528\" y=\"112\" width=\"160\" height=\"32\" stroke=\"black\" fill=\"lightgray\"/>\n",
       "<text dominant-baseline=\"central\" text-anchor=\"middle\" font-family=\"monospace\" font-size=\"16\" x=\"608\" y=\"128\">DETECTOR</text>\n",
       "<text dominant-baseline=\"hanging\" text-anchor=\"middle\" font-family=\"monospace\" font-size=\"8\" x=\"608\" y=\"148\">coords=(1,0)</text>\n",
       "<text text-anchor=\"middle\" font-family=\"monospace\" font-size=\"8\" x=\"608\" y=\"108\">D1 = rec[0]</text>\n",
       "<path d=\"M452,40 L452,32 L700,32 L700,40 \" stroke=\"black\" fill=\"none\"/>\n",
       "<path d=\"M452,376 L452,384 L700,384 L700,376 \" stroke=\"black\" fill=\"none\"/>\n",
       "<path d=\"M744,32 L736,32 L736,384 L744,384 \" stroke=\"black\" fill=\"none\"/>\n",
       "<text dominant-baseline=\"auto\" text-anchor=\"start\" font-family=\"monospace\" font-size=\"12\" x=\"740\" y=\"380\">REP9</text>\n",
       "<rect x=\"784\" y=\"112\" width=\"32\" height=\"32\" stroke=\"black\" fill=\"black\"/>\n",
       "<text dominant-baseline=\"central\" text-anchor=\"middle\" font-family=\"monospace\" font-size=\"30\" x=\"800\" y=\"128\" fill=\"white\">R</text>\n",
       "<rect x=\"784\" y=\"240\" width=\"32\" height=\"32\" stroke=\"black\" fill=\"black\"/>\n",
       "<text dominant-baseline=\"central\" text-anchor=\"middle\" font-family=\"monospace\" font-size=\"30\" x=\"800\" y=\"256\" fill=\"white\">R</text>\n",
       "<path d=\"M864,64 L864,128 \" stroke=\"black\"/>\n",
       "<circle cx=\"864\" cy=\"64\" r=\"12\" stroke=\"none\" fill=\"black\"/>\n",
       "<circle cx=\"864\" cy=\"128\" r=\"12\" stroke=\"black\" fill=\"white\"/>\n",
       "<path d=\"M852,128 L876,128 M864,116 L864,140 \" stroke=\"black\"/>\n",
       "<path d=\"M864,192 L864,256 \" stroke=\"black\"/>\n",
       "<circle cx=\"864\" cy=\"192\" r=\"12\" stroke=\"none\" fill=\"black\"/>\n",
       "<circle cx=\"864\" cy=\"256\" r=\"12\" stroke=\"black\" fill=\"white\"/>\n",
       "<path d=\"M852,256 L876,256 M864,244 L864,268 \" stroke=\"black\"/>\n",
       "<path d=\"M928,128 L928,192 \" stroke=\"black\"/>\n",
       "<circle cx=\"928\" cy=\"192\" r=\"12\" stroke=\"none\" fill=\"black\"/>\n",
       "<circle cx=\"928\" cy=\"128\" r=\"12\" stroke=\"black\" fill=\"white\"/>\n",
       "<path d=\"M916,128 L940,128 M928,116 L928,140 \" stroke=\"black\"/>\n",
       "<path d=\"M928,256 L928,320 \" stroke=\"black\"/>\n",
       "<circle cx=\"928\" cy=\"320\" r=\"12\" stroke=\"none\" fill=\"black\"/>\n",
       "<circle cx=\"928\" cy=\"256\" r=\"12\" stroke=\"black\" fill=\"white\"/>\n",
       "<path d=\"M916,256 L940,256 M928,244 L928,268 \" stroke=\"black\"/>\n",
       "<rect x=\"976\" y=\"112\" width=\"32\" height=\"32\" stroke=\"black\" fill=\"black\"/>\n",
       "<text dominant-baseline=\"central\" text-anchor=\"middle\" font-family=\"monospace\" font-size=\"30\" x=\"992\" y=\"128\" fill=\"white\">M</text>\n",
       "<text text-anchor=\"middle\" font-family=\"monospace\" font-size=\"8\" x=\"992\" y=\"108\">rec[2+iter*2]</text>\n",
       "<rect x=\"976\" y=\"240\" width=\"32\" height=\"32\" stroke=\"black\" fill=\"black\"/>\n",
       "<text dominant-baseline=\"central\" text-anchor=\"middle\" font-family=\"monospace\" font-size=\"30\" x=\"992\" y=\"256\" fill=\"white\">M</text>\n",
       "<text text-anchor=\"middle\" font-family=\"monospace\" font-size=\"8\" x=\"992\" y=\"236\">rec[3+iter*2]</text>\n",
       "<rect x=\"1040\" y=\"112\" width=\"224\" height=\"32\" stroke=\"black\" fill=\"lightgray\"/>\n",
       "<text dominant-baseline=\"central\" text-anchor=\"middle\" font-family=\"monospace\" font-size=\"16\" x=\"1152\" y=\"128\">DETECTOR</text>\n",
       "<text dominant-baseline=\"hanging\" text-anchor=\"middle\" font-family=\"monospace\" font-size=\"8\" x=\"1152\" y=\"148\">coords=(1,1+iter)</text>\n",
       "<text text-anchor=\"middle\" font-family=\"monospace\" font-size=\"8\" x=\"1152\" y=\"108\">D[2+iter*2] = rec[2+iter*2]*rec[0+iter*2]</text>\n",
       "<rect x=\"1040\" y=\"240\" width=\"224\" height=\"32\" stroke=\"black\" fill=\"lightgray\"/>\n",
       "<text dominant-baseline=\"central\" text-anchor=\"middle\" font-family=\"monospace\" font-size=\"16\" x=\"1152\" y=\"256\">DETECTOR</text>\n",
       "<text dominant-baseline=\"hanging\" text-anchor=\"middle\" font-family=\"monospace\" font-size=\"8\" x=\"1152\" y=\"276\">coords=(3,1+iter)</text>\n",
       "<text text-anchor=\"middle\" font-family=\"monospace\" font-size=\"8\" x=\"1152\" y=\"236\">D[3+iter*2] = rec[3+iter*2]*rec[1+iter*2]</text>\n",
       "<path d=\"M964,40 L964,32 L1276,32 L1276,40 \" stroke=\"black\" fill=\"none\"/>\n",
       "<path d=\"M964,376 L964,384 L1276,384 L1276,376 \" stroke=\"black\" fill=\"none\"/>\n",
       "<path d=\"M1304,32 L1312,32 L1312,384 L1304,384 \" stroke=\"black\" fill=\"none\"/>\n",
       "<rect x=\"1360\" y=\"48\" width=\"32\" height=\"32\" stroke=\"black\" fill=\"black\"/>\n",
       "<text dominant-baseline=\"central\" text-anchor=\"middle\" font-family=\"monospace\" font-size=\"30\" x=\"1376\" y=\"64\" fill=\"white\">M</text>\n",
       "<text text-anchor=\"middle\" font-family=\"monospace\" font-size=\"8\" x=\"1376\" y=\"44\">rec[20]</text>\n",
       "<rect x=\"1360\" y=\"176\" width=\"32\" height=\"32\" stroke=\"black\" fill=\"black\"/>\n",
       "<text dominant-baseline=\"central\" text-anchor=\"middle\" font-family=\"monospace\" font-size=\"30\" x=\"1376\" y=\"192\" fill=\"white\">M</text>\n",
       "<text text-anchor=\"middle\" font-family=\"monospace\" font-size=\"8\" x=\"1376\" y=\"172\">rec[21]</text>\n",
       "<rect x=\"1360\" y=\"304\" width=\"32\" height=\"32\" stroke=\"black\" fill=\"black\"/>\n",
       "<text dominant-baseline=\"central\" text-anchor=\"middle\" font-family=\"monospace\" font-size=\"30\" x=\"1376\" y=\"320\" fill=\"white\">M</text>\n",
       "<text text-anchor=\"middle\" font-family=\"monospace\" font-size=\"8\" x=\"1376\" y=\"300\">rec[22]</text>\n",
       "<rect x=\"1360\" y=\"112\" width=\"288\" height=\"32\" stroke=\"black\" fill=\"lightgray\"/>\n",
       "<text dominant-baseline=\"central\" text-anchor=\"middle\" font-family=\"monospace\" font-size=\"16\" x=\"1504\" y=\"128\">DETECTOR</text>\n",
       "<text dominant-baseline=\"hanging\" text-anchor=\"middle\" font-family=\"monospace\" font-size=\"8\" x=\"1504\" y=\"148\">coords=(1,10)</text>\n",
       "<text text-anchor=\"middle\" font-family=\"monospace\" font-size=\"8\" x=\"1504\" y=\"108\">D20 = rec[21]*rec[20]*rec[18]</text>\n",
       "<rect x=\"1360\" y=\"240\" width=\"288\" height=\"32\" stroke=\"black\" fill=\"lightgray\"/>\n",
       "<text dominant-baseline=\"central\" text-anchor=\"middle\" font-family=\"monospace\" font-size=\"16\" x=\"1504\" y=\"256\">DETECTOR</text>\n",
       "<text dominant-baseline=\"hanging\" text-anchor=\"middle\" font-family=\"monospace\" font-size=\"8\" x=\"1504\" y=\"276\">coords=(3,10)</text>\n",
       "<text text-anchor=\"middle\" font-family=\"monospace\" font-size=\"8\" x=\"1504\" y=\"236\">D21 = rec[22]*rec[21]*rec[19]</text>\n",
       "</svg>"
      ]
     },
     "execution_count": 13,
     "metadata": {},
     "output_type": "execute_result"
    }
   ],
   "source": [
    "print(annotated_circuit)\n",
    "annotated_circuit.diagram(\"timeline-svg\")"
   ]
  }
 ],
 "metadata": {
  "ExecuteTime": {
   "end_time": "2024-02-06T13:27:46.308991Z",
   "start_time": "2024-02-06T13:27:39.049848Z"
  },
  "kernelspec": {
   "display_name": "qec",
   "language": "python",
   "name": "python3"
  },
  "language_info": {
   "codemirror_mode": {
    "name": "ipython",
    "version": 3
   },
   "file_extension": ".py",
   "mimetype": "text/x-python",
   "name": "python",
   "nbconvert_exporter": "python",
   "pygments_lexer": "ipython3",
   "version": "3.12.6"
  }
 },
 "nbformat": 4,
 "nbformat_minor": 2
}
