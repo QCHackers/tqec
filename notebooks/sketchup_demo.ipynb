{
 "cells": [
  {
   "cell_type": "markdown",
   "metadata": {},
   "source": [
    "# Interop with SketchUp via `.dae` files\n",
    "\n",
    "In this notebook, we will explore how to use the `SketchUpModel` facade to interact with exportable tqec SketchUp models. "
   ]
  },
  {
   "cell_type": "code",
   "execution_count": 14,
   "metadata": {},
   "outputs": [],
   "source": [
    "from tqec.sketchup.model import SketchUpModel\n",
    "from tqec.sketchup.block import BlockType"
   ]
  },
  {
   "cell_type": "markdown",
   "metadata": {},
   "source": [
    "## Library Blocks\n",
    "\n",
    "All the library/template blocks are defined in the backend to be the building blocks for a model. A library block is defined by its geometries(faces) and materials(X/Z/H face type). For example, a `zxx` block is represented by its 6 faces as follows:\n",
    "```py\n",
    "Block(block_type=<BlockType.ZXX: 'zxx'>,\n",
    "      faces=[Face(face_type=<FaceType.Z: 'Z'>,\n",
    "                  width=1,\n",
    "                  height=1,\n",
    "                  normal_direction='X',\n",
    "                  translation=(0, 0, 0)),\n",
    "             Face(face_type=<FaceType.Z: 'Z'>,\n",
    "                  width=1,\n",
    "                  height=1,\n",
    "                  normal_direction='X',\n",
    "                  translation=(1, 0, 0)),\n",
    "             Face(face_type=<FaceType.X: 'X'>,\n",
    "                  width=1,\n",
    "                  height=1,\n",
    "                  normal_direction='Y',\n",
    "                  translation=(0, 0, 0)),\n",
    "             Face(face_type=<FaceType.X: 'X'>,\n",
    "                  width=1,\n",
    "                  height=1,\n",
    "                  normal_direction='Y',\n",
    "                  translation=(0, 1, 0)),\n",
    "             Face(face_type=<FaceType.X: 'X'>,\n",
    "                  width=1,\n",
    "                  height=1,\n",
    "                  normal_direction='Z',\n",
    "                  translation=(0, 0, 0)),\n",
    "             Face(face_type=<FaceType.X: 'X'>,\n",
    "                  width=1,\n",
    "                  height=1,\n",
    "                  normal_direction='Z',\n",
    "                  translation=(0, 0, 1))])\n",
    "```"
   ]
  },
  {
   "cell_type": "markdown",
   "metadata": {},
   "source": [
    "The definition of the library blocks specify the necessary \"library\" information when constructing the `.dae` file from backend. To be more specific, every `.dae` file constructed from the backend will have the same `<library_geometries>`, `<library_materials>` and `<library_nodes>` attributes.\n"
   ]
  },
  {
   "cell_type": "markdown",
   "metadata": {},
   "source": [
    "## SketchUp Model\n",
    "\n",
    "Now that we have defined the necessary library information for the model, we only need to add **instances** to the scene of the model. An instance block is defined to be a reference to a library block with some transformation(translation/scale) applied to it.\n",
    "\n",
    "The shape of a instance is determined by its type and the `scale` property. And all the block is cube or cuboid. Thus we can infer the position of the instances by their connectivity. Therefore, it suffice to store the instances with a graph, which is encapsulated as the `SketchUpModel`. Note that we categorize all the block types into 2 categories: `cube` and `connector`. The cube instances are represented as the nodes in the graph, and the connector instances are represented as the edges in the graph. The following example shows how to construct a `SketchUpModel` that represents a CNOT gate.\n",
    "\n",
    "<img src=\"https://github.com/QCHackers/tqec/assets/61700160/99b7429e-3f40-43ec-964a-79e08360c33d\" width=\"400\">"
   ]
  },
  {
   "cell_type": "code",
   "execution_count": 15,
   "metadata": {},
   "outputs": [
    {
     "name": "stdout",
     "output_type": "stream",
     "text": [
      "SketchUp model with 10 cubes and 9 connectors\n"
     ]
    }
   ],
   "source": [
    "model = SketchUpModel()\n",
    "\n",
    "# Construct a CNOT gate from scratch\n",
    "zxz_cubes = [model.add_cube(BlockType.ZXZ) for _ in range(9)]\n",
    "zxx_cube = model.add_cube(BlockType.ZXX)\n",
    "for pair in [(0, 1), (1, 2), (2, 3), (5, 6), (6, 7), (7, 8)]:\n",
    "    model.add_connector(BlockType.ZXO, zxz_cubes[pair[0]], zxz_cubes[pair[1]])\n",
    "model.add_connector(BlockType.ZXO, zxx_cube, zxz_cubes[4])\n",
    "model.add_connector(BlockType.ZOX, zxz_cubes[1], zxx_cube)\n",
    "model.add_connector(BlockType.OXZ, zxz_cubes[4], zxz_cubes[7])\n",
    "\n",
    "# Save the model as a .dae file\n",
    "model.write(\"assets/cnot_from_scratch.dae\")\n",
    "\n",
    "# Import model\n",
    "model = SketchUpModel.from_dae_file(\"assets/cnot_from_scratch.dae\")\n",
    "print(f\"SketchUp model with {model.num_cubes} cubes and {model.num_connectors} connectors\")"
   ]
  },
  {
   "cell_type": "markdown",
   "metadata": {},
   "source": [
    "## Rescale the connectors\n",
    "\n",
    "By the canonical definition of library blocks, all the connectors have length 2 along the connecting direction. The length can be rescaled by a factor scale to make the connector length as `2*scale`. The rescaling will have effect on the whole model when infering the positions of the blocks."
   ]
  },
  {
   "cell_type": "code",
   "execution_count": 16,
   "metadata": {},
   "outputs": [],
   "source": [
    "model = SketchUpModel.from_dae_file(\"assets/cnot_from_scratch.dae\")\n",
    "model.set_scale_for_all_connectors(0.5)\n",
    "model.write(\"assets/cnot_from_scratch_half_scale.dae\")\n",
    "\n",
    "model.set_scale_for_all_connectors(2)\n",
    "model.write(\"assets/cnot_from_scratch_twice_scale.dae\")"
   ]
  },
  {
   "cell_type": "markdown",
   "metadata": {},
   "source": [
    "We manually import all the three scales of the same models into SketchUp and get:\n",
    "\n",
    "<img src=\"https://github.com/QCHackers/tqec/assets/61700160/4b59b231-2b71-4a77-ad83-cc51f6d82f53\" width=\"600\">"
   ]
  }
 ],
 "metadata": {
  "kernelspec": {
   "display_name": ".venv",
   "language": "python",
   "name": "python3"
  },
  "language_info": {
   "codemirror_mode": {
    "name": "ipython",
    "version": 3
   },
   "file_extension": ".py",
   "mimetype": "text/x-python",
   "name": "python",
   "nbconvert_exporter": "python",
   "pygments_lexer": "ipython3",
   "version": "3.11.7"
  }
 },
 "nbformat": 4,
 "nbformat_minor": 2
}
