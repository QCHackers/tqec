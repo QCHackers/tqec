{
   "cells": [
      {
         "cell_type": "markdown",
         "metadata": {},
         "source": [
            "# Memory experiment replication\n",
            "\n",
            "This notebook aims at replicating the results from the memory experiment already implemented in `stim`. It serves as an example on how to use the `tqec` Python library as well as a large functional test, testing most of the `tqec` library on its external results rather than on its internal implementation.\n"
         ]
      },
      {
         "cell_type": "markdown",
         "metadata": {},
         "source": [
            "## Mandatory imports\n"
         ]
      },
      {
         "cell_type": "code",
         "execution_count": null,
         "metadata": {},
         "outputs": [],
         "source": [
            "import cirq\n",
            "import matplotlib.pyplot as plt\n",
            "import sinter\n",
            "import stim\n",
            "from stimcirq import cirq_circuit_to_stim_circuit\n",
            "\n",
            "from tqec.templates.constructions.qubit import QubitSquareTemplate\n",
            "from tqec.templates.scale import LinearFunction\n",
            "from tqec.circuit.operations.operation import make_observable, make_shift_coords\n",
            "from tqec.circuit.operations.transformer import transform_to_stimcirq_compatible\n",
            "from tqec.enums import PlaquetteOrientation\n",
            "from tqec.circuit.circuit import generate_circuit\n",
            "from tqec.noise_models import (\n",
            "    AfterCliffordDepolarizingNoise,\n",
            "    AfterResetFlipNoise,\n",
            "    BeforeMeasurementFlipNoise,\n",
            ")\n",
            "from tqec.plaquette.plaquette import Plaquette\n",
            "from tqec.plaquette.library import (\n",
            "    z_initialisation_square_plaquette,\n",
            "    z_initialisation_rounded_plaquette,\n",
            "    xx_memory_plaquette,\n",
            "    xxxx_memory_plaquette,\n",
            "    zz_memory_plaquette,\n",
            "    zzzz_memory_plaquette,\n",
            "    measurement_rounded_plaquette,\n",
            "    measurement_square_plaquette,\n",
            ")"
         ]
      },
      {
         "cell_type": "markdown",
         "metadata": {},
         "source": [
            "## Normalisation and noisyness\n",
            "\n",
            "Once the quantum error correction circuit implemented, we still need to apply two passes to obtain a circuit ready to be translated by the `stimcirq`.\n",
            "\n",
            "The first pass normalises the `cirq.Circuit` produced. This pass was performing several modifications before, but is now simply removing potential empty `cirq.Moment` instances from the `cirq.Circuit` instance.\n",
            "\n",
            "The second pass applies the noise model(s) we want to consider in the `stim` simulation.\n"
         ]
      },
      {
         "cell_type": "code",
         "execution_count": null,
         "metadata": {},
         "outputs": [],
         "source": [
            "def normalise_circuit(circuit: cirq.Circuit) -> cirq.Circuit:\n",
            "    ordered_transformers = [\n",
            "        cirq.drop_empty_moments,\n",
            "    ]\n",
            "    for transformer in ordered_transformers:\n",
            "        circuit = transformer(circuit)\n",
            "    return circuit\n",
            "\n",
            "\n",
            "def to_noisy_circuit(circuit: cirq.Circuit, noise_level: float) -> cirq.Circuit:\n",
            "    noise_models = [\n",
            "        AfterCliffordDepolarizingNoise(noise_level),\n",
            "        AfterResetFlipNoise(noise_level),\n",
            "        BeforeMeasurementFlipNoise(noise_level),\n",
            "    ]\n",
            "    for nm in noise_models:\n",
            "        circuit = circuit.with_noise(nm)\n",
            "    return circuit"
         ]
      },
      {
         "cell_type": "markdown",
         "metadata": {},
         "source": [
            "## Building the Circuit instance\n",
            "\n",
            "The main goal of the `tqec` library is to construct the `cirq.Circuit` instance representing the QEC experiment we are interest about. In this notebook, we want to perform a simple logical qubit memory experiment.\n",
            "\n",
            "The different pre-defined Plaquette instances `XXPlaquetteList`, ... implement by default the memory experiment, so we can use them without worrying about the quantum circuits actually executed.\n"
         ]
      },
      {
         "cell_type": "code",
         "execution_count": null,
         "metadata": {},
         "outputs": [],
         "source": [
            "def generate_cirq_circuit_tqec(k: int, repetitions: int) -> cirq.Circuit:\n",
            "    # 1. Define the template.\n",
            "    # Here, the template is directly constructed to the requested dimensions, so we do not need to\n",
            "    # re-scale it using the Template.to_scale method.\n",
            "    template = QubitSquareTemplate(LinearFunction(2), k=k)\n",
            "\n",
            "    # 2. Define the different plaquettes that will be used on the template defined above.\n",
            "    # As noted in the text description above this function, the plaquette instances in the list below\n",
            "    # implement by default the memory experiment we want to perform. That is the reason why there is no\n",
            "    # tedious quantum circuit definition here.\n",
            "    # The following time schedules are used accross plaquettes:\n",
            "    # - Initial reset index is 1\n",
            "    # - (H gate for X-stabilizers is 2)\n",
            "    # - CNOTs indices are 3, 4, 5, 6\n",
            "    # - (H gate for X-stabilizers is 7)\n",
            "    # - Measurement index is 8\n",
            "    plaquettes: list[list[Plaquette]] = [\n",
            "        [\n",
            "            z_initialisation_rounded_plaquette(PlaquetteOrientation.UP),\n",
            "            xx_memory_plaquette(\n",
            "                PlaquetteOrientation.UP,\n",
            "                [1, 2, 5, 6, 7, 8],\n",
            "                include_detector=False,\n",
            "                is_first_round=True,\n",
            "            ),\n",
            "            xx_memory_plaquette(PlaquetteOrientation.UP, [1, 2, 5, 6, 7, 8]),\n",
            "            measurement_rounded_plaquette(\n",
            "                PlaquetteOrientation.UP, include_detector=False\n",
            "            ),\n",
            "        ],\n",
            "        [\n",
            "            z_initialisation_rounded_plaquette(PlaquetteOrientation.LEFT),\n",
            "            zz_memory_plaquette(\n",
            "                PlaquetteOrientation.LEFT, [1, 5, 6, 8], is_first_round=True\n",
            "            ),\n",
            "            zz_memory_plaquette(PlaquetteOrientation.LEFT, [1, 5, 6, 8]),\n",
            "            measurement_rounded_plaquette(PlaquetteOrientation.LEFT),\n",
            "        ],\n",
            "        [\n",
            "            z_initialisation_square_plaquette(),\n",
            "            xxxx_memory_plaquette(\n",
            "                [1, 2, 3, 4, 5, 6, 7, 8], include_detector=False, is_first_round=True\n",
            "            ),\n",
            "            xxxx_memory_plaquette([1, 2, 3, 4, 5, 6, 7, 8]),\n",
            "            measurement_square_plaquette(include_detector=False),\n",
            "        ],\n",
            "        [\n",
            "            z_initialisation_square_plaquette(),\n",
            "            zzzz_memory_plaquette([1, 3, 4, 5, 6, 8], is_first_round=True),\n",
            "            zzzz_memory_plaquette([1, 3, 4, 5, 6, 8]),\n",
            "            measurement_square_plaquette(),\n",
            "        ],\n",
            "        [\n",
            "            z_initialisation_rounded_plaquette(PlaquetteOrientation.RIGHT),\n",
            "            zz_memory_plaquette(\n",
            "                PlaquetteOrientation.RIGHT, [1, 3, 4, 8], is_first_round=True\n",
            "            ),\n",
            "            zz_memory_plaquette(PlaquetteOrientation.RIGHT, [1, 3, 4, 8]),\n",
            "            measurement_rounded_plaquette(PlaquetteOrientation.RIGHT),\n",
            "        ],\n",
            "        [\n",
            "            z_initialisation_rounded_plaquette(PlaquetteOrientation.DOWN),\n",
            "            xx_memory_plaquette(\n",
            "                PlaquetteOrientation.DOWN,\n",
            "                [1, 2, 3, 4, 7, 8],\n",
            "                include_detector=False,\n",
            "                is_first_round=True,\n",
            "            ),\n",
            "            xx_memory_plaquette(PlaquetteOrientation.DOWN, [1, 2, 3, 4, 7, 8]),\n",
            "            measurement_rounded_plaquette(\n",
            "                PlaquetteOrientation.DOWN, include_detector=False\n",
            "            ),\n",
            "        ],\n",
            "    ]\n",
            "\n",
            "    # 3. Define the layer modifiers.\n",
            "    # In the memory experiment, we want to repeat the second layer `repetitions` times in order to\n",
            "    # let the experiment run for an extended period of time.\n",
            "    # This is done by encapsulating the circuit generated for the second layer into a\n",
            "    # cirq.CircuitOperation that natively supports repeting an operation efficiently, and that is\n",
            "    # natively recognized by the `tqec` library.\n",
            "    def make_repeated_layer(circuit: cirq.Circuit) -> cirq.Circuit:\n",
            "        circuit_to_repeat = circuit + cirq.Circuit(\n",
            "            cirq.Moment(make_shift_coords(0, 0, 1))\n",
            "        )\n",
            "        repeated_circuit_operation = cirq.CircuitOperation(\n",
            "            circuit_to_repeat.freeze()\n",
            "        ).repeat(repetitions)\n",
            "        return cirq.Circuit([repeated_circuit_operation])\n",
            "\n",
            "    layer_modificators = {2: make_repeated_layer}\n",
            "\n",
            "    # 4. Actually create the cirq.Circuit instance by concatenating the circuits generated\n",
            "    # for each layer and potentially modified by the modifiers defined above.\n",
            "    circuit = cirq.Circuit()\n",
            "    for layer_index in range(4):\n",
            "        layer_circuit = generate_circuit(\n",
            "            template,\n",
            "            [plaquette_list[layer_index] for plaquette_list in plaquettes],\n",
            "        )\n",
            "        layer_circuit = normalise_circuit(layer_circuit)\n",
            "        circuit += layer_modificators.get(layer_index, lambda circ: circ)(layer_circuit)\n",
            "        circuit += cirq.Moment(make_shift_coords(0, 0, 1))\n",
            "\n",
            "    # 5. Define the observable.\n",
            "    # The observable is defined and added to the cirq.Circuit instance just here.\n",
            "    increments = template.get_increments()\n",
            "    origin = cirq.GridQubit(increments.y * k + 1, 1)\n",
            "    circuit.append(\n",
            "        cirq.Moment(\n",
            "            make_observable(\n",
            "                origin,\n",
            "                [\n",
            "                    (cirq.GridQubit(0, i * increments.x), -1)\n",
            "                    for i in range(0, template.shape.x - 1)\n",
            "                ],\n",
            "            )\n",
            "        )\n",
            "    )\n",
            "\n",
            "    # 6. Due to limitations in the API provided by Stim, the DetectorGate and ObservableGate instances\n",
            "    # in the circuit only contain local measurement records, an internal representation that is not\n",
            "    # understood by Stim. The fill_in_global_record_indices function replaces these local measurement\n",
            "    # records by global ones that are understood by Stim.\n",
            "    # return circuit\n",
            "    return transform_to_stimcirq_compatible(circuit)"
         ]
      },
      {
         "cell_type": "markdown",
         "metadata": {},
         "source": [
            "## Normalise the API between `stim` and `tqec`\n",
            "\n",
            "Both libraries have slight variations in their API that makes their side-by-side use error-prone. To avoid typos and inattention issues, we create 2 functions with the same API that take care of handling the small discrepencies for us.\n"
         ]
      },
      {
         "cell_type": "code",
         "execution_count": null,
         "metadata": {},
         "outputs": [],
         "source": [
            "def generate_stim_circuit_tqec(\n",
            "    code_distance: int, noise_level: float, repetitions: int\n",
            ") -> stim.Circuit:\n",
            "    circuit = generate_cirq_circuit_tqec((code_distance - 1) // 2, repetitions)\n",
            "    if abs(noise_level) > 1e-12:\n",
            "        circuit = to_noisy_circuit(circuit, noise_level)\n",
            "    else:\n",
            "        print(\n",
            "            f\"Warning: a noise level below 1e-12 ({noise_level}) has been detected. Noise is disabled. If this was intentional, please remove this code.\"\n",
            "        )\n",
            "\n",
            "    return cirq_circuit_to_stim_circuit(circuit)"
         ]
      },
      {
         "cell_type": "code",
         "execution_count": null,
         "metadata": {},
         "outputs": [],
         "source": [
            "def generate_stim_circuit_stim(\n",
            "    code_distance: int, noise_level: float, repetitions: int\n",
            ") -> stim.Circuit:\n",
            "    return stim.Circuit.generated(\n",
            "        \"surface_code:rotated_memory_z\",\n",
            "        rounds=repetitions + 1,\n",
            "        distance=code_distance,\n",
            "        after_clifford_depolarization=noise_level,\n",
            "        after_reset_flip_probability=noise_level,\n",
            "        before_measure_flip_probability=noise_level,\n",
            "        before_round_data_depolarization=0,\n",
            "    )"
         ]
      },
      {
         "cell_type": "markdown",
         "metadata": {},
         "source": [
            "## TQEC plots\n",
            "\n",
            "We should finally be ready to perform the `stim` simulations and plot the results to check if our `tqec`-generated QEC memory experiment obtains the same results as the `stim`-generated one.\n"
         ]
      },
      {
         "cell_type": "code",
         "execution_count": null,
         "metadata": {},
         "outputs": [],
         "source": [
            "surface_code_tasks_tqec = [\n",
            "    sinter.Task(\n",
            "        circuit=generate_stim_circuit_tqec(d, noise, 3 * d),\n",
            "        json_metadata={\"d\": d, \"r\": 3 * d, \"p\": noise},\n",
            "    )\n",
            "    for d in [3, 5, 7, 9, 11]\n",
            "    for noise in [0.001, 0.002, 0.005, 0.009, 0.01, 0.011, 0.012, 0.013, 0.014]\n",
            "]\n",
            "\n",
            "collected_surface_code_stats_tqec: list[sinter.TaskStats] = sinter.collect(\n",
            "    num_workers=20,\n",
            "    tasks=surface_code_tasks_tqec,\n",
            "    decoders=[\"pymatching\"],\n",
            "    max_shots=1_000_000,\n",
            "    max_errors=5_000,\n",
            "    print_progress=False,\n",
            ")"
         ]
      },
      {
         "cell_type": "code",
         "execution_count": null,
         "metadata": {},
         "outputs": [],
         "source": [
            "fig, ax = plt.subplots(1, 1)\n",
            "sinter.plot_error_rate(\n",
            "    ax=ax,\n",
            "    stats=collected_surface_code_stats_tqec,\n",
            "    x_func=lambda stat: stat.json_metadata[\"p\"],\n",
            "    group_func=lambda stat: stat.json_metadata[\"d\"],\n",
            "    failure_units_per_shot_func=lambda stat: stat.json_metadata[\"r\"],\n",
            ")\n",
            "ax.loglog()\n",
            "ax.set_title(\"TQEC: Surface Code Error Rates per Round under Circuit Noise\")\n",
            "ax.set_xlabel(\"Phyical Error Rate\")\n",
            "ax.set_ylabel(\"Logical Error Rate per Round\")\n",
            "ax.grid(which=\"major\")\n",
            "ax.grid(which=\"minor\")\n",
            "ax.legend()\n",
            "fig.set_dpi(120)  # Show it bigger"
         ]
      },
      {
         "cell_type": "markdown",
         "metadata": {},
         "source": [
            "## Stim plots\n"
         ]
      },
      {
         "cell_type": "code",
         "execution_count": null,
         "metadata": {},
         "outputs": [],
         "source": [
            "surface_code_tasks_stim = [\n",
            "    sinter.Task(\n",
            "        circuit=generate_stim_circuit_stim(d, noise, 3 * d),\n",
            "        json_metadata={\"d\": d, \"r\": 3 * d, \"p\": noise},\n",
            "    )\n",
            "    for d in [3, 5, 7, 9, 11]\n",
            "    for noise in [0.001, 0.002, 0.005, 0.009, 0.01, 0.011, 0.012, 0.013, 0.014]\n",
            "]\n",
            "\n",
            "collected_surface_code_stats_stim: list[sinter.TaskStats] = sinter.collect(\n",
            "    num_workers=20,\n",
            "    tasks=surface_code_tasks_stim,\n",
            "    decoders=[\"pymatching\"],\n",
            "    max_shots=1_000_000,\n",
            "    max_errors=5_000,\n",
            "    print_progress=False,\n",
            ")"
         ]
      },
      {
         "cell_type": "code",
         "execution_count": null,
         "metadata": {},
         "outputs": [],
         "source": [
            "fig, ax = plt.subplots(1, 1)\n",
            "sinter.plot_error_rate(\n",
            "    ax=ax,\n",
            "    stats=collected_surface_code_stats_stim,\n",
            "    x_func=lambda stat: stat.json_metadata[\"p\"],\n",
            "    group_func=lambda stat: stat.json_metadata[\"d\"],\n",
            "    failure_units_per_shot_func=lambda stat: stat.json_metadata[\"r\"],\n",
            ")\n",
            "ax.loglog()\n",
            "ax.set_title(\"Stim: Surface Code Error Rates per Round under Circuit Noise\")\n",
            "ax.set_xlabel(\"Phyical Error Rate\")\n",
            "ax.set_ylabel(\"Logical Error Rate per Round\")\n",
            "ax.grid(which=\"major\")\n",
            "ax.grid(which=\"minor\")\n",
            "ax.legend()\n",
            "fig.set_dpi(120)  # Show it bigger"
         ]
      },
      {
         "cell_type": "markdown",
         "metadata": {},
         "source": [
            "## Circuit visualisation\n",
            "\n",
            "Some debugging relicates that are left here if you want to visualise/compare the quantum circuits generated.\n"
         ]
      },
      {
         "cell_type": "code",
         "execution_count": null,
         "metadata": {},
         "outputs": [],
         "source": [
            "stim_circuit_stim = generate_stim_circuit_stim(3, 0.001, 2)\n",
            "stim_circuit_tqec = generate_stim_circuit_tqec(3, 0.001, 2)"
         ]
      },
      {
         "cell_type": "code",
         "execution_count": null,
         "metadata": {},
         "outputs": [],
         "source": [
            "stim_circuit_tqec.diagram(\"timeslice-svg\")"
         ]
      },
      {
         "cell_type": "code",
         "execution_count": null,
         "metadata": {},
         "outputs": [],
         "source": [
            "stim_circuit_stim.diagram(\"timeslice-svg\")"
         ]
      }
   ],
   "metadata": {
      "kernelspec": {
         "display_name": "qec",
         "language": "python",
         "name": "python3"
      },
      "language_info": {
         "codemirror_mode": {
            "name": "ipython",
            "version": 3
         },
         "file_extension": ".py",
         "mimetype": "text/x-python",
         "name": "python",
         "nbconvert_exporter": "python",
         "pygments_lexer": "ipython3",
         "version": "3.12.3"
      }
   },
   "nbformat": 4,
   "nbformat_minor": 2
}
