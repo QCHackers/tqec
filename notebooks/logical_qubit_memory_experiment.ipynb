{
   "cells": [
      {
         "cell_type": "markdown",
         "metadata": {},
         "source": [
            "# Memory experiment replication\n",
            "\n",
            "This notebook aims at replicating the results from the memory experiment already implemented in `stim`. It serves as an example on how to use the `tqec` Python library as well as a large functional test, testing most of the `tqec` library on its external results rather than on its internal implementation."
         ]
      },
      {
         "cell_type": "markdown",
         "metadata": {},
         "source": [
            "## Mandatory imports"
         ]
      },
      {
         "cell_type": "code",
         "execution_count": null,
         "metadata": {},
         "outputs": [],
         "source": [
            "import cirq\n",
            "import matplotlib.pyplot as plt\n",
            "import sinter\n",
            "import stim\n",
            "from stimcirq import cirq_circuit_to_stim_circuit\n",
            "\n",
            "from tqec.templates.constructions.qubit import QubitSquareTemplate\n",
            "from tqec.templates.scale import Dimension, LinearFunction\n",
            "from tqec.detectors.operation import make_observable, make_shift_coords\n",
            "from tqec.detectors.transformer import transform_to_stimcirq_compatible\n",
            "from tqec.enums import PlaquetteOrientation\n",
            "from tqec.generation.circuit import generate_circuit\n",
            "from tqec.noise_models import (\n",
            "    AfterCliffordDepolarizingNoise,\n",
            "    AfterResetFlipNoise,\n",
            "    BeforeMeasurementFlipNoise,\n",
            ")\n",
            "from tqec.plaquette.plaquette import PlaquetteList\n",
            "from tqec.plaquette.library import (\n",
            "    XXPlaquetteList,\n",
            "    XXXXPlaquetteList,\n",
            "    ZZPlaquetteList,\n",
            "    ZZZZPlaquetteList,\n",
            ")\n",
            "from tqec.position import Shape2D"
         ]
      },
      {
         "cell_type": "markdown",
         "metadata": {},
         "source": [
            "## Normalisation and noisyness\n",
            "\n",
            "Once the quantum error correction circuit implemented, we still need to apply two passes to obtain a circuit ready to be translated by the `stimcirq`.\n",
            "\n",
            "The first pass normalises the `cirq.Circuit` produced. This pass was performing several modifications before, but is now simply removing potential empty `cirq.Moment` instances from the `cirq.Circuit` instance.\n",
            "\n",
            "The second pass applies the noise model(s) we want to consider in the `stim` simulation."
         ]
      },
      {
         "cell_type": "code",
         "execution_count": null,
         "metadata": {},
         "outputs": [],
         "source": [
            "def normalise_circuit(circuit: cirq.Circuit) -> cirq.Circuit:\n",
            "    ordered_transformers = [\n",
            "        cirq.drop_empty_moments,\n",
            "    ]\n",
            "    for transformer in ordered_transformers:\n",
            "        circuit = transformer(circuit)\n",
            "    return circuit\n",
            "\n",
            "\n",
            "def to_noisy_circuit(circuit: cirq.Circuit, noise_level: float) -> cirq.Circuit:\n",
            "    noise_models = [\n",
            "        AfterCliffordDepolarizingNoise(noise_level),\n",
            "        AfterResetFlipNoise(noise_level),\n",
            "        BeforeMeasurementFlipNoise(noise_level),\n",
            "    ]\n",
            "    for nm in noise_models:\n",
            "        circuit = circuit.with_noise(nm)\n",
            "    return circuit"
         ]
      },
      {
         "cell_type": "markdown",
         "metadata": {},
         "source": [
            "## Building the Circuit instance\n",
            "\n",
            "The main goal of the `tqec` library is to construct the `cirq.Circuit` instance representing the QEC experiment we are interest about. In this notebook, we want to perform a simple logical qubit memory experiment.\n",
            "\n",
            "The different pre-defined Plaquette instances `XXPlaquetteList`, ... implement by default the memory experiment, so we can use them without worrying about the quantum circuits actually executed."
         ]
      },
      {
         "cell_type": "code",
         "execution_count": null,
         "metadata": {},
         "outputs": [],
         "source": [
            "def generate_cirq_circuit_tqec(k: int, repetitions: int) -> cirq.Circuit:\n",
            "    # 1. Define the template.\n",
            "    # Here, the template is directly constructed to the requested dimensions, so we do not need to\n",
            "    # re-scale it using the Template.to_scale method.\n",
            "    template = QubitSquareTemplate(Dimension(k, LinearFunction(2)))\n",
            "\n",
            "    # 2. Define the different plaquettes that will be used on the template defined above.\n",
            "    # As noted in the text description above this function, the plaquette instances in the list below\n",
            "    # implement by default the memory experiment we want to perform. That is the reason why there is no\n",
            "    # tedious quantum circuit definition here.\n",
            "    # The following time schedules are used accross plaquettes:\n",
            "    # - Initial reset index is 1\n",
            "    # - (H gate for X-stabilizers is 2)\n",
            "    # - CNOTs indices are 3, 4, 5, 6\n",
            "    # - (H gate for X-stabilizers is 7)\n",
            "    # - Measurement index is 8\n",
            "    plaquettes: list[PlaquetteList] = [\n",
            "        XXPlaquetteList(\n",
            "            PlaquetteOrientation.UP, [1, 2, 5, 6, 7, 8], include_detector=False\n",
            "        ),\n",
            "        ZZPlaquetteList(PlaquetteOrientation.LEFT, [1, 5, 6, 8]),\n",
            "        XXXXPlaquetteList([1, 2, 3, 4, 5, 6, 7, 8], include_detector=False),\n",
            "        ZZZZPlaquetteList([1, 3, 4, 5, 6, 8]),\n",
            "        ZZPlaquetteList(PlaquetteOrientation.RIGHT, [1, 3, 4, 8]),\n",
            "        XXPlaquetteList(\n",
            "            PlaquetteOrientation.DOWN, [1, 2, 3, 4, 7, 8], include_detector=False\n",
            "        ),\n",
            "    ]\n",
            "\n",
            "    # 3. Define the layer modifiers.\n",
            "    # In the memory experiment, we want to repeat the second layer `repetitions` times in order to\n",
            "    # let the experiment run for an extended period of time.\n",
            "    # This is done by encapsulating the circuit generated for the second layer into a\n",
            "    # cirq.CircuitOperation that natively supports repeting an operation efficiently, and that is\n",
            "    # natively recognized by the `tqec` library.\n",
            "    def make_repeated_layer(circuit: cirq.Circuit) -> cirq.Circuit:\n",
            "        # Note: we do not care on which qubit it is applied, but we want a SHIFT_COORDS instruction\n",
            "        #       to be inserted somewhere in the repetition loop. It is inserted at the beginning.\n",
            "        any_qubit = next(iter(circuit.all_qubits()), None)\n",
            "        assert (\n",
            "            any_qubit is not None\n",
            "        ), \"Could not find any qubit in the given Circuit instance.\"\n",
            "        circuit_to_repeat = cirq.Circuit([make_shift_coords(0, 0, 1)]) + circuit\n",
            "        repeated_circuit_operation = cirq.CircuitOperation(\n",
            "            circuit_to_repeat.freeze()\n",
            "        ).repeat(repetitions)\n",
            "        return cirq.Circuit([repeated_circuit_operation])\n",
            "\n",
            "    layer_modificators = {1: make_repeated_layer}\n",
            "\n",
            "    # 4. Actually create the cirq.Circuit instance by concatenating the circuits generated\n",
            "    # for each layer and potentially modified by the modifiers defined above.\n",
            "    circuit = cirq.Circuit()\n",
            "    for layer_index in range(3):\n",
            "        layer_circuit = generate_circuit(\n",
            "            template,\n",
            "            [plaquette_list.plaquettes[layer_index] for plaquette_list in plaquettes],\n",
            "        )\n",
            "        layer_circuit = normalise_circuit(layer_circuit)\n",
            "        circuit += layer_modificators.get(layer_index, lambda circ: circ)(layer_circuit)\n",
            "\n",
            "    # 5. Define the observable.\n",
            "    # The observable is defined and added to the cirq.Circuit instance just here.\n",
            "    # We assume that each plaquette has the same shape (i.e., needs the same number of qubits on the X and\n",
            "    # Y dimensions). XX and ZZ stabilizers have been artificially made 3x3 plaquettes for this purpose. This\n",
            "    # assumption will eventually need to be lifted.\n",
            "    plaquette_shape: Shape2D = plaquettes[0].plaquettes[0].shape\n",
            "    assert all(\n",
            "        p.shape == plaquette_shape\n",
            "        for plaquette_list in plaquettes\n",
            "        for p in plaquette_list.plaquettes\n",
            "    ), \"All plaquettes should have exactly the same shape for the moment.\"\n",
            "    origin = cirq.GridQubit(plaquette_shape.y - 1, plaquette_shape.x - 1)\n",
            "    circuit.append(\n",
            "        cirq.Moment(\n",
            "            make_observable(\n",
            "                origin,\n",
            "                [\n",
            "                    (cirq.GridQubit(0, i * (plaquette_shape.x - 1)), -1)\n",
            "                    for i in range(2 * k + 1)\n",
            "                ],\n",
            "            )\n",
            "        )\n",
            "    )\n",
            "\n",
            "    # 6. Due to limitations in the API provided by Stim, the DetectorGate and ObservableGate instances\n",
            "    # in the circuit only contain local measurement records, an internal representation that is not\n",
            "    # understood by Stim. The fill_in_global_record_indices function replaces these local measurement\n",
            "    # records by global ones that are understood by Stim.\n",
            "    # return circuit\n",
            "    return transform_to_stimcirq_compatible(circuit)"
         ]
      },
      {
         "cell_type": "markdown",
         "metadata": {},
         "source": [
            "## Normalise the API between `stim` and `tqec`\n",
            "\n",
            "Both libraries have slight variations in their API that makes their side-by-side use error-prone. To avoid typos and inattention issues, we create 2 functions with the same API that take care of handling the small discrepencies for us."
         ]
      },
      {
         "cell_type": "code",
         "execution_count": null,
         "metadata": {},
         "outputs": [],
         "source": [
            "def generate_stim_circuit_tqec(\n",
            "    code_distance: int, noise_level: float, repetitions: int\n",
            ") -> stim.Circuit:\n",
            "    circuit = generate_cirq_circuit_tqec((code_distance - 1) // 2, repetitions)\n",
            "    if abs(noise_level) > 1e-12:\n",
            "        circuit = to_noisy_circuit(circuit, noise_level)\n",
            "    else:\n",
            "        print(\n",
            "            f\"Warning: a noise level below 1e-12 ({noise_level}) has been detected. Noise is disabled. If this was intentional, please remove this code.\"\n",
            "        )\n",
            "\n",
            "    return cirq_circuit_to_stim_circuit(circuit)"
         ]
      },
      {
         "cell_type": "code",
         "execution_count": null,
         "metadata": {},
         "outputs": [],
         "source": [
            "def generate_stim_circuit_stim(\n",
            "    code_distance: int, noise_level: float, repetitions: int\n",
            ") -> stim.Circuit:\n",
            "    return stim.Circuit.generated(\n",
            "        \"surface_code:rotated_memory_z\",\n",
            "        rounds=repetitions + 1,\n",
            "        distance=code_distance,\n",
            "        after_clifford_depolarization=noise_level,\n",
            "        after_reset_flip_probability=noise_level,\n",
            "        before_measure_flip_probability=noise_level,\n",
            "        before_round_data_depolarization=0,\n",
            "    )"
         ]
      },
      {
         "cell_type": "markdown",
         "metadata": {},
         "source": [
            "## TQEC plots\n",
            "\n",
            "We should finally be ready to perform the `stim` simulations and plot the results to check if our `tqec`-generated QEC memory experiment obtains the same results as the `stim`-generated one."
         ]
      },
      {
         "cell_type": "code",
         "execution_count": null,
         "metadata": {},
         "outputs": [],
         "source": [
            "surface_code_tasks_tqec = [\n",
            "    sinter.Task(\n",
            "        circuit=generate_stim_circuit_tqec(d, noise, 3 * d),\n",
            "        json_metadata={\"d\": d, \"r\": 3 * d, \"p\": noise},\n",
            "    )\n",
            "    for d in [3, 5, 7, 9, 11]\n",
            "    for noise in [0.001, 0.002, 0.005, 0.009, 0.01, 0.011, 0.012, 0.013, 0.014]\n",
            "]\n",
            "\n",
            "collected_surface_code_stats_tqec: list[sinter.TaskStats] = sinter.collect(\n",
            "    num_workers=20,\n",
            "    tasks=surface_code_tasks_tqec,\n",
            "    decoders=[\"pymatching\"],\n",
            "    max_shots=1_000_000,\n",
            "    max_errors=5_000,\n",
            "    print_progress=False,\n",
            ")"
         ]
      },
      {
         "cell_type": "code",
         "execution_count": null,
         "metadata": {},
         "outputs": [],
         "source": [
            "fig, ax = plt.subplots(1, 1)\n",
            "sinter.plot_error_rate(\n",
            "    ax=ax,\n",
            "    stats=collected_surface_code_stats_tqec,\n",
            "    x_func=lambda stat: stat.json_metadata[\"p\"],\n",
            "    group_func=lambda stat: stat.json_metadata[\"d\"],\n",
            "    failure_units_per_shot_func=lambda stat: stat.json_metadata[\"r\"],\n",
            ")\n",
            "ax.loglog()\n",
            "ax.set_title(\"TQEC: Surface Code Error Rates per Round under Circuit Noise\")\n",
            "ax.set_xlabel(\"Phyical Error Rate\")\n",
            "ax.set_ylabel(\"Logical Error Rate per Round\")\n",
            "ax.grid(which=\"major\")\n",
            "ax.grid(which=\"minor\")\n",
            "ax.legend()\n",
            "fig.set_dpi(120)  # Show it bigger"
         ]
      },
      {
         "cell_type": "markdown",
         "metadata": {},
         "source": [
            "## Stim plots"
         ]
      },
      {
         "cell_type": "code",
         "execution_count": null,
         "metadata": {},
         "outputs": [],
         "source": [
            "surface_code_tasks_stim = [\n",
            "    sinter.Task(\n",
            "        circuit=generate_stim_circuit_stim(d, noise, 3 * d),\n",
            "        json_metadata={\"d\": d, \"r\": 3 * d, \"p\": noise},\n",
            "    )\n",
            "    for d in [3, 5, 7, 9, 11]\n",
            "    for noise in [0.001, 0.002, 0.005, 0.009, 0.01, 0.011, 0.012, 0.013, 0.014]\n",
            "]\n",
            "\n",
            "collected_surface_code_stats_stim: list[sinter.TaskStats] = sinter.collect(\n",
            "    num_workers=20,\n",
            "    tasks=surface_code_tasks_stim,\n",
            "    decoders=[\"pymatching\"],\n",
            "    max_shots=1_000_000,\n",
            "    max_errors=5_000,\n",
            "    print_progress=False,\n",
            ")"
         ]
      },
      {
         "cell_type": "code",
         "execution_count": null,
         "metadata": {},
         "outputs": [],
         "source": [
            "fig, ax = plt.subplots(1, 1)\n",
            "sinter.plot_error_rate(\n",
            "    ax=ax,\n",
            "    stats=collected_surface_code_stats_stim,\n",
            "    x_func=lambda stat: stat.json_metadata[\"p\"],\n",
            "    group_func=lambda stat: stat.json_metadata[\"d\"],\n",
            "    failure_units_per_shot_func=lambda stat: stat.json_metadata[\"r\"],\n",
            ")\n",
            "ax.loglog()\n",
            "ax.set_title(\"Stim: Surface Code Error Rates per Round under Circuit Noise\")\n",
            "ax.set_xlabel(\"Phyical Error Rate\")\n",
            "ax.set_ylabel(\"Logical Error Rate per Round\")\n",
            "ax.grid(which=\"major\")\n",
            "ax.grid(which=\"minor\")\n",
            "ax.legend()\n",
            "fig.set_dpi(120)  # Show it bigger"
         ]
      },
      {
         "cell_type": "markdown",
         "metadata": {},
         "source": [
            "## Circuit visualisation\n",
            "\n",
            "Some debugging relicates that are left here if you want to visualise/compare the quantum circuits generated."
         ]
      },
      {
         "cell_type": "code",
         "execution_count": null,
         "metadata": {},
         "outputs": [],
         "source": [
            "export_stim_files = True\n",
            "\n",
            "stim_circuit_stim = generate_stim_circuit_stim(3, 0.001, 2)\n",
            "stim_circuit_tqec = generate_stim_circuit_tqec(3, 0.001, 2)\n",
            "if export_stim_files:\n",
            "    with open(\"./stim.stim\", \"w\") as f:\n",
            "        f.write(str(stim_circuit_stim))\n",
            "    with open(\"./tqec.stim\", \"w\") as f:\n",
            "        f.write(str(stim_circuit_tqec))\n",
            "    print(\"Export done!\")"
         ]
      },
      {
         "cell_type": "code",
         "execution_count": null,
         "metadata": {},
         "outputs": [],
         "source": [
            "if export_stim_files:\n",
            "    with open(\"./tqec.stim\", \"r\") as f:\n",
            "        stim_circuit_tqec = stim.Circuit(f.read())"
         ]
      },
      {
         "cell_type": "code",
         "execution_count": null,
         "metadata": {},
         "outputs": [],
         "source": [
            "stim_circuit_tqec.diagram(\"timeslice-svg\")"
         ]
      },
      {
         "cell_type": "code",
         "execution_count": null,
         "metadata": {},
         "outputs": [],
         "source": [
            "stim_circuit_stim.diagram(\"timeslice-svg\")"
         ]
      }
   ],
   "metadata": {
      "kernelspec": {
         "display_name": "qec",
         "language": "python",
         "name": "python3"
      },
      "language_info": {
         "codemirror_mode": {
            "name": "ipython",
            "version": 3
         },
         "file_extension": ".py",
         "mimetype": "text/x-python",
         "name": "python",
         "nbconvert_exporter": "python",
         "pygments_lexer": "ipython3",
         "version": "3.12.0"
      }
   },
   "nbformat": 4,
   "nbformat_minor": 2
}
