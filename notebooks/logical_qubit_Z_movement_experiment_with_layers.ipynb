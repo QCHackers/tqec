{
 "cells": [
  {
   "cell_type": "markdown",
   "metadata": {},
   "source": [
    "# Move qubit along a line in the `Z` direction\n",
    "\n",
    "This notebook aims at moving a logical qubit along a line during the logical memory experiment, \n",
    "which is depicted in the following figure:\n",
    "\n",
    "![Move logical qubit along a line](./images/move_qubit_along_a_line/move_qubit_along_z.png)\n",
    "\n",
    "To be more specific, we want to implement a distance $d$ logical memory experiment with the following steps:\n",
    "\n",
    "1. Prepare the logical qubit in `Z` basis and repeat for $t_0 = d$ rounds\n",
    "2. Extend the qubit along the line in the direction of `Z` logical operator and repeat for $t_1 = d$ rounds\n",
    "3. Move the qubit to the destination and repeat for $t_2 = d$ rounds\n",
    "\n",
    "The above steps will take $3d$ rounds in total. We will compare the logical `Z` error rate of the above experiment with the logical `Z` error rate of the standard static logical memory experiment. If the implementation is correct, the logical `Z` error rate of the above experiment should be at least as good as the logical `Z` error rate of the standard static logical memory experiment."
   ]
  },
  {
   "cell_type": "markdown",
   "metadata": {},
   "source": [
    "## Mandatory imports"
   ]
  },
  {
   "cell_type": "code",
   "execution_count": 1,
   "metadata": {},
   "outputs": [],
   "source": [
    "import cirq\n",
    "import matplotlib.pyplot as plt\n",
    "import sinter\n",
    "import stim\n",
    "from stimcirq import cirq_circuit_to_stim_circuit\n",
    "\n",
    "from tqec.templates.constructions.qubit import (\n",
    "    ScalableQubitSquare,\n",
    "    ScalableQubitRectangle,\n",
    ")\n",
    "from tqec.templates.stack import TemplateStack\n",
    "from tqec.detectors.transformer import fill_in_global_record_indices\n",
    "from tqec.enums import PlaquetteOrientation\n",
    "from tqec.noise_models import (\n",
    "    AfterCliffordDepolarizingNoise,\n",
    "    AfterResetFlipNoise,\n",
    "    BeforeMeasurementFlipNoise,\n",
    ")\n",
    "from tqec.plaquette.library import (\n",
    "    XXFinalMeasurementPlaquette,\n",
    "    XXInitialisationPlaquette,\n",
    "    XXMemoryPlaquette,\n",
    "    XXXXFinalMeasurementPlaquette,\n",
    "    XXXXInitialisationPlaquette,\n",
    "    XXXXMemoryPlaquette,\n",
    "    ZZFinalMeasurementPlaquette,\n",
    "    ZZInitialisationPlaquette,\n",
    "    ZZMemoryPlaquette,\n",
    "    ZZZZFinalMeasurementPlaquette,\n",
    "    ZZZZInitialisationPlaquette,\n",
    "    ZZZZMemoryPlaquette,\n",
    "    ZZFromZZZZPlaquette,\n",
    ")\n",
    "from tqec.detectors.gate import ObservableGate, RelativeMeasurement\n",
    "from tqec.position import Shape2D\n",
    "from tqec.layers.base import BaseLayer\n",
    "from tqec.display import display_template\n",
    "from tqec.position import Position"
   ]
  },
  {
   "cell_type": "markdown",
   "metadata": {},
   "source": [
    "## Normalisation and noisyness\n",
    "\n",
    "Once the quantum error correction circuit implemented, we still need to apply two passes to obtain a circuit ready to be translated by the `stimcirq`.\n",
    "\n",
    "The first pass normalises the `cirq.Circuit` produced. This pass was performing several modifications before, but is now simply removing potential empty `cirq.Moment` instances from the `cirq.Circuit` instance.\n",
    "\n",
    "The second pass applies the noise model(s) we want to consider in the `stim` simulation."
   ]
  },
  {
   "cell_type": "code",
   "execution_count": 2,
   "metadata": {},
   "outputs": [],
   "source": [
    "def normalise_circuit(circuit: cirq.Circuit) -> cirq.Circuit:\n",
    "    ordered_transformers = [\n",
    "        cirq.drop_empty_moments,\n",
    "    ]\n",
    "    for transformer in ordered_transformers:\n",
    "        circuit = transformer(circuit)\n",
    "    return circuit\n",
    "\n",
    "\n",
    "def to_noisy_circuit(circuit: cirq.Circuit, noise_level: float) -> cirq.Circuit:\n",
    "    noise_models = [\n",
    "        AfterCliffordDepolarizingNoise(noise_level),\n",
    "        AfterResetFlipNoise(noise_level),\n",
    "        BeforeMeasurementFlipNoise(noise_level),\n",
    "    ]\n",
    "    for nm in noise_models:\n",
    "        circuit = circuit.with_noise(nm)\n",
    "    return circuit"
   ]
  },
  {
   "cell_type": "markdown",
   "metadata": {},
   "source": [
    "## Build the templates\n",
    "\n",
    "Firstly, we need to build templates for the plaquettes to fit in. Looking at the QEC image above, we will need 2 different templates."
   ]
  },
  {
   "cell_type": "code",
   "execution_count": 3,
   "metadata": {},
   "outputs": [
    {
     "name": "stdout",
     "output_type": "stream",
     "text": [
      "  .  .  1  .  1  .\n",
      "  2  3  4  3  4  .\n",
      "  .  4  3  4  3  5\n",
      "  2  3  4  3  4  .\n",
      "  .  4  3  4  3  5\n",
      "  .  6  .  6  .  .\n",
      "\n",
      "  .  .  1  .  1  .  1  .  1  .  1  .  1  .  1  .  1  .\n",
      "  2  3  4  3  4  3  4  3  4  3  4  3  4  3  4  3  4  .\n",
      "  .  4  3  4  3  4  3  4  3  4  3  4  3  4  3  4  3  5\n",
      "  2  3  4  3  4  3  4  3  4  3  4  3  4  3  4  3  4  .\n",
      "  .  4  3  4  3  4  3  4  3  4  3  4  3  4  3  4  3  5\n",
      "  .  6  .  6  .  6  .  6  .  6  .  6  .  6  .  6  .  .\n"
     ]
    }
   ],
   "source": [
    "square_template = ScalableQubitSquare(4)\n",
    "rectangle_template = ScalableQubitRectangle(16, 4)\n",
    "\n",
    "display_template(square_template)\n",
    "print()\n",
    "display_template(rectangle_template)"
   ]
  },
  {
   "cell_type": "markdown",
   "metadata": {},
   "source": [
    "Due to implementation details, we also need two other templates that are obtained by stacking the two previously constructed ones."
   ]
  },
  {
   "cell_type": "code",
   "execution_count": 7,
   "metadata": {},
   "outputs": [
    {
     "name": "stdout",
     "output_type": "stream",
     "text": [
      "  .  .  7  .  7  .  1  .  1  .  1  .  1  .  1  .  1  .\n",
      "  8  9 10  9 10  3  4  3  4  3  4  3  4  3  4  3  4  .\n",
      "  . 10  9 10  9 11  3  4  3  4  3  4  3  4  3  4  3  5\n",
      "  8  9 10  9 10  3  4  3  4  3  4  3  4  3  4  3  4  .\n",
      "  . 10  9 10  9 11  3  4  3  4  3  4  3  4  3  4  3  5\n",
      "  . 12  . 12  .  6  .  6  .  6  .  6  .  6  .  6  .  .\n",
      "\n",
      "  .  .  1  .  1  .  1  .  1  .  1  .  1  .  7  .  7  .\n",
      "  2  3  4  3  4  3  4  3  4  3  4  3  8  9 10  9 10  .\n",
      "  .  4  3  4  3  4  3  4  3  4  3  4  3 10  9 10  9 11\n",
      "  2  3  4  3  4  3  4  3  4  3  4  3  8  9 10  9 10  .\n",
      "  .  4  3  4  3  4  3  4  3  4  3  4  3 10  9 10  9 11\n",
      "  .  6  .  6  .  6  .  6  .  6  .  6  . 12  . 12  .  .\n"
     ]
    }
   ],
   "source": [
    "movement_start_template = TemplateStack()\n",
    "movement_start_template.push_template_on_top(rectangle_template)\n",
    "movement_start_template.push_template_on_top(square_template)\n",
    "\n",
    "logical_qubit_offset = Position(rectangle_template.shape.x - square_template.shape.x, 0)\n",
    "\n",
    "movement_end_template = TemplateStack()\n",
    "movement_end_template.push_template_on_top(rectangle_template)\n",
    "movement_end_template.push_template_on_top(\n",
    "    square_template, positive_offset=logical_qubit_offset\n",
    ")\n",
    "\n",
    "display_template(movement_start_template)\n",
    "print()\n",
    "display_template(movement_end_template)"
   ]
  },
  {
   "cell_type": "markdown",
   "metadata": {},
   "source": [
    "## Prepare the layers\n",
    "\n",
    "Layers are a new concept introduced recently in the `tqec` library. A layer is intended to represent one constant time-slice of a given QEC. In the QEC we are trying to implement in this notebook, we need to define several layers.\n",
    "\n",
    "Before initialising the different layers, let's define a few useful variables.\n",
    "\n",
    "In the following cells, layers are defined as functions because we will need to generate these layers for different number of repetitions. They are not defined directly in the `generate_cirq_circuit_tqec` function below to allow interleaving code cells with textual explanations."
   ]
  },
  {
   "cell_type": "code",
   "execution_count": null,
   "metadata": {},
   "outputs": [],
   "source": [
    "from typing import Callable\n",
    "\n",
    "# Ordered list that will store all the layers.\n",
    "all_layers: list[Callable[[int], BaseLayer]] = []"
   ]
  },
  {
   "cell_type": "markdown",
   "metadata": {},
   "source": [
    "### Logical qubit initialisation\n",
    "\n",
    "We first need to start the QEC by initialising a logical qubit."
   ]
  },
  {
   "cell_type": "code",
   "execution_count": null,
   "metadata": {},
   "outputs": [],
   "source": [
    "all_layers.append(\n",
    "    lambda rep: BaseLayer(\n",
    "        square_template,\n",
    "        [\n",
    "            XXInitialisationPlaquette(\n",
    "                PlaquetteOrientation.UP, [1, 2, 5, 6, 7, 8], include_detector=False\n",
    "            ),\n",
    "            ZZInitialisationPlaquette(PlaquetteOrientation.LEFT, [1, 5, 6, 8]),\n",
    "            XXXXInitialisationPlaquette(\n",
    "                [1, 2, 3, 4, 5, 6, 7, 8], include_detector=False\n",
    "            ),\n",
    "            ZZZZInitialisationPlaquette([1, 3, 4, 5, 6, 8]),\n",
    "            ZZInitialisationPlaquette(PlaquetteOrientation.RIGHT, [1, 3, 4, 8]),\n",
    "            XXInitialisationPlaquette(\n",
    "                PlaquetteOrientation.DOWN, [1, 2, 3, 4, 7, 8], include_detector=False\n",
    "            ),\n",
    "        ],\n",
    "    )\n",
    ")"
   ]
  },
  {
   "cell_type": "markdown",
   "metadata": {},
   "source": [
    "### Logical qubit memory \n",
    "We then need to perform a memory operation."
   ]
  },
  {
   "cell_type": "code",
   "execution_count": null,
   "metadata": {},
   "outputs": [],
   "source": [
    "all_layers.append(\n",
    "    lambda rep: BaseLayer(\n",
    "        square_template,\n",
    "        [\n",
    "            XXMemoryPlaquette(PlaquetteOrientation.UP, [1, 2, 5, 6, 7, 8]),\n",
    "            ZZMemoryPlaquette(PlaquetteOrientation.LEFT, [1, 5, 6, 8]),\n",
    "            XXXXMemoryPlaquette([1, 2, 3, 4, 5, 6, 7, 8]),\n",
    "            ZZZZMemoryPlaquette([1, 3, 4, 5, 6, 8]),\n",
    "            ZZMemoryPlaquette(PlaquetteOrientation.RIGHT, [1, 3, 4, 8]),\n",
    "            XXMemoryPlaquette(PlaquetteOrientation.DOWN, [1, 2, 3, 4, 7, 8]),\n",
    "        ],\n",
    "        repetitions=rep,\n",
    "    )\n",
    ")"
   ]
  },
  {
   "cell_type": "markdown",
   "metadata": {},
   "source": [
    "### Extension to the right\n",
    "After a few rounds of memory experiments, we want to extend the logical qubit to the right. The template will change to the rectangular template.\n",
    "- Plaquettes that were measuring a 2-qubit stabiliser in the previous layer and that will measure a 4-qubit stabiliser in this layer do not have to be treated specifically as the operations and detectors should not change.\n",
    "- Plaquettes that were already measuring a stabiliser should use a regular memory circuit.\n",
    "- Plaquettes that were not initialised should use an initialisation circuit."
   ]
  },
  {
   "cell_type": "code",
   "execution_count": 5,
   "metadata": {},
   "outputs": [
    {
     "name": "stdout",
     "output_type": "stream",
     "text": [
      "  .  .  7  .  7  .  1  .  1  .  1  .  1  .  1  .  1  .\n",
      "  8  9 10  9 10  3  4  3  4  3  4  3  4  3  4  3  4  .\n",
      "  . 10  9 10  9 11  3  4  3  4  3  4  3  4  3  4  3  5\n",
      "  8  9 10  9 10  3  4  3  4  3  4  3  4  3  4  3  4  .\n",
      "  . 10  9 10  9 11  3  4  3  4  3  4  3  4  3  4  3  5\n",
      "  . 12  . 12  .  6  .  6  .  6  .  6  .  6  .  6  .  .\n"
     ]
    }
   ],
   "source": [
    "# Print the template to be able to visualise correctly what we are doing\n",
    "# and which plaquette goes where.\n",
    "display_template(movement_start_template)"
   ]
  },
  {
   "cell_type": "code",
   "execution_count": null,
   "metadata": {},
   "outputs": [],
   "source": [
    "all_layers.append(\n",
    "    lambda rep: BaseLayer(\n",
    "        movement_start_template,\n",
    "        [\n",
    "            # 1\n",
    "            XXInitialisationPlaquette(\n",
    "                PlaquetteOrientation.UP, [1, 2, 5, 6, 7, 8], include_detector=False\n",
    "            ),\n",
    "            # 2: not appearing in template because all instances are overriden by 8.\n",
    "            ZZInitialisationPlaquette(PlaquetteOrientation.LEFT, [1, 5, 6, 8]),\n",
    "            XXXXInitialisationPlaquette(\n",
    "                [1, 2, 3, 4, 5, 6, 7, 8], include_detector=False\n",
    "            ),\n",
    "            ZZZZInitialisationPlaquette([1, 3, 4, 5, 6, 8]),\n",
    "            # 5\n",
    "            ZZInitialisationPlaquette(PlaquetteOrientation.RIGHT, [1, 3, 4, 8]),\n",
    "            XXInitialisationPlaquette(\n",
    "                PlaquetteOrientation.DOWN, [1, 2, 3, 4, 7, 8], include_detector=False\n",
    "            ),\n",
    "            # 7: beginning of the stacked template\n",
    "            XXMemoryPlaquette(PlaquetteOrientation.UP, [1, 2, 5, 6, 7, 8]),\n",
    "            ZZMemoryPlaquette(PlaquetteOrientation.LEFT, [1, 5, 6, 8]),\n",
    "            XXXXMemoryPlaquette([1, 2, 3, 4, 5, 6, 7, 8]),\n",
    "            # 10\n",
    "            ZZZZMemoryPlaquette([1, 3, 4, 5, 6, 8]),\n",
    "            # 11: was doing ZZ memory, should now do ZZZZ memory. No need to change the detector.\n",
    "            ZZZZMemoryPlaquette([1, 3, 4, 5, 6, 8]),\n",
    "            XXMemoryPlaquette(PlaquetteOrientation.DOWN, [1, 2, 3, 4, 7, 8]),\n",
    "        ],\n",
    "    )\n",
    ")"
   ]
  },
  {
   "cell_type": "markdown",
   "metadata": {},
   "source": [
    "### Extended logical qubit memory\n",
    "Now that the logical qubit has been extended, we should perform some memory rounds on it."
   ]
  },
  {
   "cell_type": "code",
   "execution_count": null,
   "metadata": {},
   "outputs": [],
   "source": [
    "all_layers.append(\n",
    "    lambda rep: BaseLayer(\n",
    "        rectangle_template,\n",
    "        [\n",
    "            XXMemoryPlaquette(PlaquetteOrientation.UP, [1, 2, 5, 6, 7, 8]),\n",
    "            ZZMemoryPlaquette(PlaquetteOrientation.LEFT, [1, 5, 6, 8]),\n",
    "            XXXXMemoryPlaquette([1, 2, 3, 4, 5, 6, 7, 8]),\n",
    "            ZZZZMemoryPlaquette([1, 3, 4, 5, 6, 8]),\n",
    "            ZZMemoryPlaquette(PlaquetteOrientation.RIGHT, [1, 3, 4, 8]),\n",
    "            XXMemoryPlaquette(PlaquetteOrientation.DOWN, [1, 2, 3, 4, 7, 8]),\n",
    "        ],\n",
    "        repetitions=rep,\n",
    "    )\n",
    ")"
   ]
  },
  {
   "cell_type": "markdown",
   "metadata": {},
   "source": [
    "### Shrinking to the right\n",
    "After a few rounds of memory experiments, we want to shrink the extended logical qubit to the right. The template will change back to the square template.\n",
    "\n",
    "- Plaquettes that were measuring a 4-qubit stabiliser in the previous layer and that will measure a 2-qubit stabiliser in this layer have to be treated specifically: their detector should include the two measured qubits.\n",
    "- Plaquettes that ends here should measure their data qubits.\n",
    "- Other plaquettes should continue their memory experiment."
   ]
  },
  {
   "cell_type": "code",
   "execution_count": 6,
   "metadata": {},
   "outputs": [
    {
     "name": "stdout",
     "output_type": "stream",
     "text": [
      "  .  .  1  .  1  .  1  .  1  .  1  .  1  .  7  .  7  .\n",
      "  2  3  4  3  4  3  4  3  4  3  4  3  8  9 10  9 10  .\n",
      "  .  4  3  4  3  4  3  4  3  4  3  4  3 10  9 10  9 11\n",
      "  2  3  4  3  4  3  4  3  4  3  4  3  8  9 10  9 10  .\n",
      "  .  4  3  4  3  4  3  4  3  4  3  4  3 10  9 10  9 11\n",
      "  .  6  .  6  .  6  .  6  .  6  .  6  . 12  . 12  .  .\n"
     ]
    }
   ],
   "source": [
    "# Print the template to be able to visualise correctly what we are doing\n",
    "# and which plaquette goes where.\n",
    "display_template(movement_end_template)"
   ]
  },
  {
   "cell_type": "code",
   "execution_count": null,
   "metadata": {},
   "outputs": [],
   "source": [
    "all_layers.append(\n",
    "    lambda rep: BaseLayer(\n",
    "        movement_end_template,\n",
    "        [\n",
    "            # 1\n",
    "            XXFinalMeasurementPlaquette(\n",
    "                PlaquetteOrientation.UP, include_detector=False\n",
    "            ),\n",
    "            ZZFinalMeasurementPlaquette(PlaquetteOrientation.LEFT),\n",
    "            XXXXFinalMeasurementPlaquette(include_detector=False),\n",
    "            ZZZZFinalMeasurementPlaquette(),\n",
    "            # 5: not appearing in template because all instances are overriden by 11.\n",
    "            ZZFinalMeasurementPlaquette(PlaquetteOrientation.RIGHT),\n",
    "            XXFinalMeasurementPlaquette(\n",
    "                PlaquetteOrientation.DOWN, include_detector=False\n",
    "            ),\n",
    "            # 7: beginning of the stacked template\n",
    "            XXMemoryPlaquette(PlaquetteOrientation.UP, [1, 2, 5, 6, 7, 8]),\n",
    "            # 8: These were ZZZZ stabilizer measurements and becomes ZZ.\n",
    "            ZZFromZZZZPlaquette(PlaquetteOrientation.LEFT, [1, 5, 6, 8]),\n",
    "            XXXXMemoryPlaquette([1, 2, 3, 4, 5, 6, 7, 8]),\n",
    "            # 10\n",
    "            ZZZZMemoryPlaquette([1, 3, 4, 5, 6, 8]),\n",
    "            ZZMemoryPlaquette(PlaquetteOrientation.RIGHT, [1, 3, 4, 5, 6, 8]),\n",
    "            XXMemoryPlaquette(PlaquetteOrientation.DOWN, [1, 2, 3, 4, 7, 8]),\n",
    "        ],\n",
    "    )\n",
    ")"
   ]
  },
  {
   "cell_type": "markdown",
   "metadata": {},
   "source": [
    "### Shifted logical qubit memory \n",
    "We then need to perform a memory operation on the shifted logical qubit."
   ]
  },
  {
   "cell_type": "code",
   "execution_count": null,
   "metadata": {},
   "outputs": [],
   "source": [
    "all_layers.append(\n",
    "    lambda rep: BaseLayer(\n",
    "        square_template,\n",
    "        [\n",
    "            XXMemoryPlaquette(PlaquetteOrientation.UP, [1, 2, 5, 6, 7, 8]),\n",
    "            ZZMemoryPlaquette(PlaquetteOrientation.LEFT, [1, 5, 6, 8]),\n",
    "            XXXXMemoryPlaquette([1, 2, 3, 4, 5, 6, 7, 8]),\n",
    "            ZZZZMemoryPlaquette([1, 3, 4, 5, 6, 8]),\n",
    "            ZZMemoryPlaquette(PlaquetteOrientation.RIGHT, [1, 3, 4, 8]),\n",
    "            XXMemoryPlaquette(PlaquetteOrientation.DOWN, [1, 2, 3, 4, 7, 8]),\n",
    "        ],\n",
    "        top_left_corner=logical_qubit_offset,\n",
    "        repetitions=rep,\n",
    "    )\n",
    ")"
   ]
  },
  {
   "cell_type": "markdown",
   "metadata": {},
   "source": [
    "### Shifted logical qubit measurement \n",
    "Finally, we measure the logical qubit."
   ]
  },
  {
   "cell_type": "code",
   "execution_count": null,
   "metadata": {},
   "outputs": [],
   "source": [
    "all_layers.append(\n",
    "    lambda rep: BaseLayer(\n",
    "        square_template,\n",
    "        [\n",
    "            XXFinalMeasurementPlaquette(\n",
    "                PlaquetteOrientation.UP, include_detector=False\n",
    "            ),\n",
    "            ZZFinalMeasurementPlaquette(PlaquetteOrientation.LEFT),\n",
    "            XXXXFinalMeasurementPlaquette(include_detector=False),\n",
    "            ZZZZFinalMeasurementPlaquette(),\n",
    "            ZZFinalMeasurementPlaquette(PlaquetteOrientation.RIGHT),\n",
    "            XXFinalMeasurementPlaquette(\n",
    "                PlaquetteOrientation.DOWN, include_detector=False\n",
    "            ),\n",
    "        ],\n",
    "        top_left_corner=logical_qubit_offset,\n",
    "    )\n",
    ")"
   ]
  },
  {
   "cell_type": "markdown",
   "metadata": {},
   "source": [
    "## Building the Circuit instance\n",
    "\n",
    "The main goal of the `tqec` library is to construct the `cirq.Circuit` instance representing the QEC experiment we are interest about. In this notebook, we want to perform a simple logical qubit memory experiment.\n",
    "\n",
    "The different pre-defined Plaquette instances `XXPlaquetteList`, ... implement by default the memory experiment, so we can use them without worrying about the quantum circuits actually executed."
   ]
  },
  {
   "cell_type": "code",
   "execution_count": null,
   "metadata": {},
   "outputs": [],
   "source": [
    "def generate_cirq_circuit_tqec(k: int, repetitions: int) -> cirq.Circuit:\n",
    "    # Create the cirq.Circuit instance by concatenating the circuits generated\n",
    "    # for each layers and potentially modified by the modifiers defined above.\n",
    "    circuit = cirq.Circuit()\n",
    "    for layer_generator in all_layers:\n",
    "        circuit += normalise_circuit(layer_generator(repetitions).generate_circuit(k))\n",
    "\n",
    "    # Define the observable.\n",
    "    # The observable is defined and added to the cirq.Circuit instance just here.\n",
    "    # We assume that each plaquette has the same shape (i.e., needs the same number of qubits on the X and\n",
    "    # Y dimensions). XX and ZZ stabilizers have been artificially made 3x3 plaquettes for this purpose. This\n",
    "    # assumption will eventually need to be lifted.\n",
    "    plaquette_shape: Shape2D = Shape2D(3, 3)\n",
    "    origin = cirq.GridQubit(plaquette_shape.y - 1, plaquette_shape.x - 1)\n",
    "    circuit.append(\n",
    "        [\n",
    "            ObservableGate(\n",
    "                [\n",
    "                    RelativeMeasurement(\n",
    "                        cirq.GridQubit(0, i * (plaquette_shape.x - 1)), -1\n",
    "                    )\n",
    "                    for i in range(2 * k + 1)\n",
    "                ],\n",
    "            ).on(origin)\n",
    "        ]\n",
    "    )\n",
    "\n",
    "    # 6. Due to limitations in the API provided by Stim, the DetectorGate and ObservableGate instances\n",
    "    # in the circuit only contain local measurement records, an internal representation that is not\n",
    "    # understood by Stim. The fill_in_global_record_indices function replaces these local measurement\n",
    "    # records by global ones that are understood by Stim.\n",
    "    circuit_with_detectors = fill_in_global_record_indices(circuit)\n",
    "    return circuit_with_detectors"
   ]
  },
  {
   "cell_type": "markdown",
   "metadata": {},
   "source": [
    "## Normalise the API between `stim` and `tqec`\n",
    "\n",
    "Both libraries have slight variations in their API that makes their side-by-side use error-prone. To avoid typos and inattention issues, we create 2 functions with the same API that take care of handling the small discrepencies for us."
   ]
  },
  {
   "cell_type": "code",
   "execution_count": null,
   "metadata": {},
   "outputs": [],
   "source": [
    "def generate_stim_circuit_tqec(\n",
    "    k: int, noise_level: float, repetitions: int\n",
    ") -> stim.Circuit:\n",
    "    circuit = generate_cirq_circuit_tqec(k, repetitions)\n",
    "    if abs(noise_level) > 1e-12:\n",
    "        circuit = to_noisy_circuit(circuit, noise_level)\n",
    "    else:\n",
    "        print(\n",
    "            f\"Warning: a noise level below 1e-12 ({noise_level}) has been detected. Noise is disabled. If this was intentional, please remove this code.\"\n",
    "        )\n",
    "\n",
    "    return cirq_circuit_to_stim_circuit(circuit)"
   ]
  },
  {
   "cell_type": "code",
   "execution_count": null,
   "metadata": {},
   "outputs": [],
   "source": [
    "def generate_stim_circuit_stim(\n",
    "    code_distance: int, noise_level: float, repetitions: int\n",
    ") -> stim.Circuit:\n",
    "    return stim.Circuit.generated(\n",
    "        \"surface_code:rotated_memory_z\",\n",
    "        rounds=repetitions + 1,\n",
    "        distance=code_distance,\n",
    "        after_clifford_depolarization=noise_level,\n",
    "        after_reset_flip_probability=noise_level,\n",
    "        before_measure_flip_probability=noise_level,\n",
    "        before_round_data_depolarization=0,\n",
    "    )"
   ]
  },
  {
   "cell_type": "markdown",
   "metadata": {},
   "source": [
    "## TQEC plots\n",
    "\n",
    "We should finally be ready to perform the `stim` simulations and plot the results to check if our `tqec`-generated QEC memory experiment obtains the same results as the `stim`-generated one."
   ]
  },
  {
   "cell_type": "code",
   "execution_count": null,
   "metadata": {},
   "outputs": [],
   "source": [
    "surface_code_tasks_tqec = [\n",
    "    sinter.Task(\n",
    "        circuit=generate_stim_circuit_tqec((d - 1) // 2, noise, 3 * d),\n",
    "        json_metadata={\"d\": d, \"r\": 3 * d, \"p\": noise},\n",
    "    )\n",
    "    for d in [3, 5, 7, 9, 11]\n",
    "    for noise in [0.001, 0.002, 0.005, 0.009, 0.01, 0.011, 0.012, 0.013, 0.014]\n",
    "]\n",
    "\n",
    "collected_surface_code_stats_tqec: list[sinter.TaskStats] = sinter.collect(\n",
    "    num_workers=20,\n",
    "    tasks=surface_code_tasks_tqec,\n",
    "    decoders=[\"pymatching\"],\n",
    "    max_shots=1_000_000,\n",
    "    max_errors=5_000,\n",
    "    print_progress=False,\n",
    ")"
   ]
  },
  {
   "cell_type": "code",
   "execution_count": null,
   "metadata": {},
   "outputs": [],
   "source": [
    "fig, ax = plt.subplots(1, 1)\n",
    "sinter.plot_error_rate(\n",
    "    ax=ax,\n",
    "    stats=collected_surface_code_stats_tqec,\n",
    "    x_func=lambda stat: stat.json_metadata[\"p\"],\n",
    "    group_func=lambda stat: stat.json_metadata[\"d\"],\n",
    "    failure_units_per_shot_func=lambda stat: stat.json_metadata[\"r\"],\n",
    ")\n",
    "ax.loglog()\n",
    "ax.set_title(\"TQEC: Surface Code Error Rates per Round under Circuit Noise\")\n",
    "ax.set_xlabel(\"Phyical Error Rate\")\n",
    "ax.set_ylabel(\"Logical Error Rate per Round\")\n",
    "ax.grid(which=\"major\")\n",
    "ax.grid(which=\"minor\")\n",
    "ax.legend()\n",
    "fig.set_dpi(120)  # Show it bigger"
   ]
  },
  {
   "cell_type": "markdown",
   "metadata": {},
   "source": [
    "## Stim plots"
   ]
  },
  {
   "cell_type": "code",
   "execution_count": null,
   "metadata": {},
   "outputs": [],
   "source": [
    "surface_code_tasks_stim = [\n",
    "    sinter.Task(\n",
    "        circuit=generate_stim_circuit_stim(d, noise, 3 * d),\n",
    "        json_metadata={\"d\": d, \"r\": 3 * d, \"p\": noise},\n",
    "    )\n",
    "    for d in [3, 5, 7, 9, 11]\n",
    "    for noise in [0.001, 0.002, 0.005, 0.009, 0.01, 0.011, 0.012, 0.013, 0.014]\n",
    "]\n",
    "\n",
    "collected_surface_code_stats_stim: list[sinter.TaskStats] = sinter.collect(\n",
    "    num_workers=20,\n",
    "    tasks=surface_code_tasks_stim,\n",
    "    decoders=[\"pymatching\"],\n",
    "    max_shots=1_000_000,\n",
    "    max_errors=5_000,\n",
    "    print_progress=False,\n",
    ")"
   ]
  },
  {
   "cell_type": "code",
   "execution_count": null,
   "metadata": {},
   "outputs": [],
   "source": [
    "fig, ax = plt.subplots(1, 1)\n",
    "sinter.plot_error_rate(\n",
    "    ax=ax,\n",
    "    stats=collected_surface_code_stats_stim,\n",
    "    x_func=lambda stat: stat.json_metadata[\"p\"],\n",
    "    group_func=lambda stat: stat.json_metadata[\"d\"],\n",
    "    failure_units_per_shot_func=lambda stat: stat.json_metadata[\"r\"],\n",
    ")\n",
    "ax.loglog()\n",
    "ax.set_title(\"Stim: Surface Code Error Rates per Round under Circuit Noise\")\n",
    "ax.set_xlabel(\"Phyical Error Rate\")\n",
    "ax.set_ylabel(\"Logical Error Rate per Round\")\n",
    "ax.grid(which=\"major\")\n",
    "ax.grid(which=\"minor\")\n",
    "ax.legend()\n",
    "fig.set_dpi(120)  # Show it bigger"
   ]
  },
  {
   "cell_type": "markdown",
   "metadata": {},
   "source": [
    "## Circuit visualisation\n",
    "\n",
    "Some debugging relicates that are left here if you want to visualise/compare the quantum circuits generated."
   ]
  },
  {
   "cell_type": "code",
   "execution_count": null,
   "metadata": {},
   "outputs": [],
   "source": [
    "stim_circuit_tqec = generate_stim_circuit_tqec(1, 0.001, 2)"
   ]
  },
  {
   "cell_type": "code",
   "execution_count": null,
   "metadata": {},
   "outputs": [],
   "source": [
    "export_stim_files = True\n",
    "if export_stim_files:\n",
    "    with open(\"./stim.stim\", \"w\") as f:\n",
    "        f.write(str(stim_circuit_stim))\n",
    "    with open(\"./tqec.stim\", \"w\") as f:\n",
    "        f.write(str(stim_circuit_tqec))\n",
    "    print(\"Export done!\")"
   ]
  },
  {
   "cell_type": "code",
   "execution_count": null,
   "metadata": {},
   "outputs": [],
   "source": [
    "if export_stim_files:\n",
    "    with open(\"./tqec.stim\", \"r\") as f:\n",
    "        stim_circuit_tqec = stim.Circuit(f.read())"
   ]
  },
  {
   "cell_type": "code",
   "execution_count": null,
   "metadata": {},
   "outputs": [],
   "source": [
    "stim_circuit_tqec.diagram(\"timeslice-svg\")"
   ]
  },
  {
   "cell_type": "code",
   "execution_count": null,
   "metadata": {},
   "outputs": [],
   "source": [
    "stim_circuit_stim.diagram(\"timeslice-svg\")"
   ]
  }
 ],
 "metadata": {
  "kernelspec": {
   "display_name": "qec",
   "language": "python",
   "name": "python3"
  },
  "language_info": {
   "codemirror_mode": {
    "name": "ipython",
    "version": 3
   },
   "file_extension": ".py",
   "mimetype": "text/x-python",
   "name": "python",
   "nbconvert_exporter": "python",
   "pygments_lexer": "ipython3",
   "version": "3.12.0"
  }
 },
 "nbformat": 4,
 "nbformat_minor": 2
}
