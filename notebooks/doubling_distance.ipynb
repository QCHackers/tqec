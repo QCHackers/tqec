{
    "cells": [
        {
            "cell_type": "markdown",
            "metadata": {},
            "source": [
                "# Illustration of the doubling-distance code\n",
                "This notebook aims at illustrating how a doubling distance code like \n",
                "\n",
                "![image.png](./images/doubling_distance.png)\n",
                "\n",
                "can be implemented using the template approach."
            ]
        },
        {
            "cell_type": "markdown",
            "metadata": {},
            "source": [
                "## 1. Define the building blocks\n",
                "\n",
                "The first step to create a template is to define the base blocks (basically, every arrangement of plaquettes enclosed in a green shape in the image above) that will be used to build it.\n",
                "\n",
                "The `tqec` package already implement some of the most widely used building blocks in the `tqec.templates.fixed` and `tqec.templates.scalable` modules.\n",
                "\n",
                "**Important note**: In the following code cell, **ALL** plaquette indices are defined as `1`. This is **not** what we would like to generate for a QEC code, that would require to define different plaquettes. This simplification is done to avoid the clutter and complexity of plaquette numbering."
            ]
        },
        {
            "cell_type": "code",
            "execution_count": 1,
            "metadata": {
                "ExecuteTime": {
                    "end_time": "2024-02-06T13:28:09.447719Z",
                    "start_time": "2024-02-06T13:28:09.438982Z"
                }
            },
            "outputs": [],
            "source": [
                "import typing as ty\n",
                "import numpy\n",
                "from tqec.templates.atomic.rectangle import (\n",
                "    AlternatingRectangleTemplate,\n",
                "    RawRectangleTemplate,\n",
                ")\n",
                "from tqec.templates.atomic.square import AlternatingSquareTemplate\n",
                "from tqec.templates.base import TemplateWithIndices\n",
                "from tqec.templates.scale import Dimension, LinearFunction\n",
                "\n",
                "dim = Dimension(2, LinearFunction(2))\n",
                "nsone = Dimension(1, LinearFunction(0, 1))\n",
                "nstwo = Dimension(2, LinearFunction(0, 2))\n",
                "left_white_scalable_rectangle = TemplateWithIndices(\n",
                "    AlternatingRectangleTemplate(nsone, dim), [1, 0]\n",
                ")  # 2, 9, 19\n",
                "right_white_scalable_rectangle = TemplateWithIndices(\n",
                "    AlternatingRectangleTemplate(nsone, dim), [0, 1]\n",
                ")  # 4, 13, 23\n",
                "top_white_scalable_rectangle = TemplateWithIndices(\n",
                "    AlternatingRectangleTemplate(dim, nsone), [1, 0]\n",
                ")  # 8\n",
                "top_black_scalable_rectangle = TemplateWithIndices(\n",
                "    AlternatingRectangleTemplate(dim, nsone), [0, 1]\n",
                ")  # 1\n",
                "bottom_black_scalable_rectangle = TemplateWithIndices(\n",
                "    AlternatingRectangleTemplate(dim, nsone), [1, 0]\n",
                ")  # 24, 26\n",
                "scalable_square = TemplateWithIndices(\n",
                "    AlternatingSquareTemplate(dim), [1, 1]\n",
                ")  # 3, 10, 20, 22\n",
                "fixed_square = TemplateWithIndices(AlternatingSquareTemplate(nstwo), [1, 1])  # 16\n",
                "horizontal_scalable_rectangle = TemplateWithIndices(\n",
                "    AlternatingRectangleTemplate(dim, nstwo), [1, 1]\n",
                ")  # 6, 15, 17\n",
                "vertical_scalable_rectangle = TemplateWithIndices(\n",
                "    AlternatingRectangleTemplate(nstwo, dim), [1, 1]\n",
                ")  # 11, 21\n",
                "left_fixed_square = TemplateWithIndices(RawRectangleTemplate([[0]]), [1])\n",
                "right_fixed_square = TemplateWithIndices(RawRectangleTemplate([[0]]), [1])\n",
                "bottom_fixed_square = TemplateWithIndices(RawRectangleTemplate([[0]]), [1])\n",
                "# Specific cases:\n",
                "# - the corner numbered 7\n",
                "corner = TemplateWithIndices(RawRectangleTemplate([[0]]), [1])"
            ]
        },
        {
            "cell_type": "markdown",
            "metadata": {},
            "source": [
                "The only building block that is not already defined in the `tqec` package is the one numbered $12$. \n",
                "\n",
                "This building block is basically a regular `ScalableAlternatingSquare` with its top-right plaquette replaced by another plaquette. Following this observation, this basic block is implemented by subclassing the `ScalableAlternatingSquare` class and replacing the top-right plaquette by the special plaquette required."
            ]
        },
        {
            "cell_type": "code",
            "execution_count": 2,
            "metadata": {
                "ExecuteTime": {
                    "end_time": "2024-02-06T13:28:09.461153Z",
                    "start_time": "2024-02-06T13:28:09.451198Z"
                }
            },
            "outputs": [],
            "source": [
                "# - the square numbered 12 that has a specific top-right plaquette\n",
                "class SpecificAlternatingSquareTemplate(AlternatingSquareTemplate):\n",
                "    def instantiate(\n",
                "        self,\n",
                "        plaquette_indices: ty.Sequence[int],\n",
                "    ) -> numpy.ndarray:\n",
                "        self._check_plaquette_number(plaquette_indices, 3)\n",
                "        x_plaquette, z_plaquette, special_plaquette = plaquette_indices[:3]\n",
                "        arr = super().instantiate([x_plaquette, z_plaquette])\n",
                "        arr[0, -1] = special_plaquette\n",
                "        return arr\n",
                "\n",
                "    @property\n",
                "    def expected_plaquettes_number(self) -> int:\n",
                "        return 3\n",
                "\n",
                "\n",
                "top_right_specific_square = TemplateWithIndices(\n",
                "    SpecificAlternatingSquareTemplate(dim), [1, 1, 1]\n",
                ")"
            ]
        },
        {
            "cell_type": "markdown",
            "metadata": {},
            "source": [
                "Now that the building blocks are defined, we create a list of templates according to the numbering in the image at the beginning of this notebook. \n",
                "\n",
                "Note that this list contains duplicate instances, meaning that changing in-place one instance in the list *might* also change another item of the list. \n",
                "This is not an issue because:\n",
                "- this list will only be used to initialise the `ComposedTemplate` instance and,\n",
                "- the only operation in `ComposedTemplate` that modifies the underlying templates stored is when calling `ComposedTemplate.scale_to`, and the same scale is forwarded to all the stored templates.\n",
                "\n",
                "Nevertheless, you might want to store copies to avoid any subtle reference issues if the `ComposedTemplate` implementation changes in the future. \n",
                "\n",
                "**Important note**: lists being 0-indexed in Python, the template indices in Python code will be shifted. As such, the template numbered `1` in the picture above will be the template indexed as `0` in the code below."
            ]
        },
        {
            "cell_type": "code",
            "execution_count": 3,
            "metadata": {
                "ExecuteTime": {
                    "end_time": "2024-02-06T13:28:09.471639Z",
                    "start_time": "2024-02-06T13:28:09.464041Z"
                }
            },
            "outputs": [],
            "source": [
                "templates = [\n",
                "    # 0\n",
                "    top_black_scalable_rectangle,\n",
                "    left_white_scalable_rectangle,\n",
                "    scalable_square,\n",
                "    right_white_scalable_rectangle,\n",
                "    left_fixed_square,\n",
                "    # 5\n",
                "    horizontal_scalable_rectangle,\n",
                "    corner,\n",
                "    top_white_scalable_rectangle,\n",
                "    left_white_scalable_rectangle,\n",
                "    scalable_square,\n",
                "    # 10\n",
                "    vertical_scalable_rectangle,\n",
                "    top_right_specific_square,\n",
                "    right_white_scalable_rectangle,\n",
                "    left_fixed_square,\n",
                "    horizontal_scalable_rectangle,\n",
                "    # 15\n",
                "    fixed_square,\n",
                "    horizontal_scalable_rectangle,\n",
                "    right_fixed_square,\n",
                "    left_white_scalable_rectangle,\n",
                "    scalable_square,\n",
                "    # 20\n",
                "    vertical_scalable_rectangle,\n",
                "    scalable_square,\n",
                "    right_white_scalable_rectangle,\n",
                "    bottom_black_scalable_rectangle,\n",
                "    bottom_fixed_square,\n",
                "    # 25\n",
                "    bottom_black_scalable_rectangle,\n",
                "]\n",
                "assert len(templates) == 26"
            ]
        },
        {
            "cell_type": "markdown",
            "metadata": {},
            "source": [
                "## 2. Define the relations\n",
                "\n",
                "Now that the basic building blocks have been defined, we should encode the relationships between each block to connect them. There are two ways of specifying relationships.\n",
                "\n",
                "### 2.1. Relative positioning\n",
                "\n",
                "Building blocks can be positioned relatively to each other. The following code cell defines such relations in a list that contains 3-dimensional tuples containing:\n",
                "1. The template that should be positioned.\n",
                "2. The relative position of the template provided in 1.\n",
                "3. The template used as an anchor to position the template provided in 1.\n",
                "\n",
                "This order in the tuple has been picked to simplify the input and reading of relationships. \n",
                "\n",
                "As such, the first entry of the `relations` list below can be read as \"the template numbered `0` is positioned `ABOVE_OF` the template numbered `2`\"."
            ]
        },
        {
            "cell_type": "code",
            "execution_count": 4,
            "metadata": {
                "ExecuteTime": {
                    "end_time": "2024-02-06T13:28:09.481533Z",
                    "start_time": "2024-02-06T13:28:09.475520Z"
                }
            },
            "outputs": [],
            "source": [
                "from tqec.enums import ABOVE_OF, BELOW_OF, LEFT_OF, RIGHT_OF, CornerPositionEnum\n",
                "\n",
                "relations = [\n",
                "    (0, ABOVE_OF, 2),\n",
                "    (1, LEFT_OF, 2),\n",
                "    (3, RIGHT_OF, 2),\n",
                "    (4, BELOW_OF, 1),\n",
                "    (5, BELOW_OF, 2),\n",
                "    (9, BELOW_OF, 5),\n",
                "    (8, LEFT_OF, 9),\n",
                "    (10, RIGHT_OF, 9),\n",
                "    (11, RIGHT_OF, 10),\n",
                "    (12, RIGHT_OF, 11),\n",
                "    (7, ABOVE_OF, 11),\n",
                "    (13, BELOW_OF, 8),\n",
                "    (14, BELOW_OF, 9),\n",
                "    (15, BELOW_OF, 10),\n",
                "    (16, BELOW_OF, 11),\n",
                "    (19, BELOW_OF, 14),\n",
                "    (18, LEFT_OF, 19),\n",
                "    (20, RIGHT_OF, 19),\n",
                "    (21, RIGHT_OF, 20),\n",
                "    (22, RIGHT_OF, 21),\n",
                "    (17, ABOVE_OF, 22),\n",
                "    (23, BELOW_OF, 19),\n",
                "    (24, RIGHT_OF, 23),\n",
                "    (25, BELOW_OF, 21),\n",
                "]"
            ]
        },
        {
            "cell_type": "markdown",
            "metadata": {},
            "source": [
                "### 2.2. Corner pinning\n",
                "\n",
                "Relative positioning becomes ambiguous when the dimensions of the two \"glued\" sides do not match. Most of the template share at least one dimension with their neighbours (for example, the template numbered 5 in the image does not share a dimension with 6, but it does share one with 2), but not all of them (look at template numbered 7 in the picture).\n",
                "\n",
                "To circumvent that, a second way of specifying relations has been added: corner pinning. This method consists in defining a corner on each of the two templates part of the defined relation, and assume that these two corners are stuck together.\n",
                "\n",
                "*Note*: the `ComposedTemplate` internally uses the corner pinning method and translates the relations using \"relative positioning\" to corner pinning. Relative positioning is kept in the interface as another, potentially simpler to read and understand, way of encoding relationships between templates."
            ]
        },
        {
            "cell_type": "code",
            "execution_count": 5,
            "metadata": {
                "ExecuteTime": {
                    "end_time": "2024-02-06T13:28:09.482165Z",
                    "start_time": "2024-02-06T13:28:09.479465Z"
                }
            },
            "outputs": [],
            "source": [
                "corner_relations = [\n",
                "    ((6, CornerPositionEnum.LOWER_LEFT), (CornerPositionEnum.UPPER_RIGHT, 9)),\n",
                "]"
            ]
        },
        {
            "cell_type": "markdown",
            "metadata": {},
            "source": [
                "## 3. Construct the template orchestrator\n",
                "\n",
                "Now that templates and their relative relationships have been defined, creating the `ComposedTemplate` instance is trivial."
            ]
        },
        {
            "cell_type": "code",
            "execution_count": 6,
            "metadata": {
                "ExecuteTime": {
                    "end_time": "2024-02-06T13:28:09.484810Z",
                    "start_time": "2024-02-06T13:28:09.482676Z"
                }
            },
            "outputs": [],
            "source": [
                "from tqec.templates.composed import ComposedTemplate\n",
                "\n",
                "\n",
                "doubling_template = ComposedTemplate(templates)\n",
                "for start, reldir, end in relations:\n",
                "    doubling_template.add_relation(start, reldir, end)\n",
                "\n",
                "for (start, start_corner), (end_corner, end) in corner_relations:\n",
                "    doubling_template.add_corner_relation((start, start_corner), (end, end_corner))"
            ]
        },
        {
            "cell_type": "markdown",
            "metadata": {},
            "source": [
                "## 4. Have fun\n",
                "\n",
                "The `ComposedTemplate` instance is now created, you can scale it, display it, just have fun playing with it."
            ]
        },
        {
            "cell_type": "code",
            "execution_count": 7,
            "metadata": {
                "ExecuteTime": {
                    "end_time": "2024-02-06T13:28:09.503296Z",
                    "start_time": "2024-02-06T13:28:09.487199Z"
                }
            },
            "outputs": [
                {
                    "name": "stdout",
                    "output_type": "stream",
                    "text": [
                        "     ■-------------------■                                  \n",
                        "  .  | .    1    .    1  | .    .    .    .    .    .    .  \n",
                        "■----■-------------------■----■                             \n",
                        "| 1  | 1    1    1    1  | .  | .    .    .    .    .    .  \n",
                        "|    |                   |    |                             \n",
                        "| .  | 1    1    1    1  | 1  | .    .    .    .    .    .  \n",
                        "|    |                   |    |                             \n",
                        "| 1  | 1    1    1    1  | .  | .    .    .    .    .    .  \n",
                        "|    |                   |    |                             \n",
                        "| .  | 1    1    1    1  | 1  | .    .    .    .    .    .  \n",
                        "■----■-------------------■----■                             \n",
                        "| 1  | 1    1    1    1  | .    .    .    .    .    .    .  \n",
                        "■----■                   ■----■    ■-------------------■    \n",
                        "  .  | 1    1    1    1  | 1  | .  | 1    .    1    .  | .  \n",
                        "■----■-------------------■----■----■-------------------■----■\n",
                        "| 1  | 1    1    1    1  | 1    1  | 1    1    1    1  | .  |\n",
                        "|    |                   |         |                   |    |\n",
                        "| .  | 1    1    1    1  | 1    1  | 1    1    1    1  | 1  |\n",
                        "|    |                   |         |                   |    |\n",
                        "| 1  | 1    1    1    1  | 1    1  | 1    1    1    1  | .  |\n",
                        "|    |                   |         |                   |    |\n",
                        "| .  | 1    1    1    1  | 1    1  | 1    1    1    1  | 1  |\n",
                        "■----■-------------------■---------■-------------------■----■\n",
                        "| 1  | 1    1    1    1  | 1    1  | 1    1    1    1  | .  \n",
                        "■----■                   |         |                   ■----■\n",
                        "  .  | 1    1    1    1  | 1    1  | 1    1    1    1  | 1  |\n",
                        "■----■-------------------■---------■-------------------■----■\n",
                        "| 1  | 1    1    1    1  | 1    1  | 1    1    1    1  | .  |\n",
                        "|    |                   |         |                   |    |\n",
                        "| .  | 1    1    1    1  | 1    1  | 1    1    1    1  | 1  |\n",
                        "|    |                   |         |                   |    |\n",
                        "| 1  | 1    1    1    1  | 1    1  | 1    1    1    1  | .  |\n",
                        "|    |                   |         |                   |    |\n",
                        "| .  | 1    1    1    1  | 1    1  | 1    1    1    1  | 1  |\n",
                        "■----■-------------------■----■----■-------------------■----■\n",
                        "  .  | 1    .    1    .  | 1  | .  | 1    .    1    .  | .  \n",
                        "     ■-------------------■----■    ■-------------------■    \n"
                    ]
                }
            ],
            "source": [
                "from tqec.templates.display import display_template, display_templates_ascii\n",
                "\n",
                "# Compact visualization:\n",
                "if False:\n",
                "    display_template(doubling_template)\n",
                "# Complete visualization including the separation of the various templates:\n",
                "else:\n",
                "    display_templates_ascii(doubling_template)"
            ]
        },
        {
            "cell_type": "code",
            "execution_count": 8,
            "metadata": {},
            "outputs": [
                {
                    "name": "stdout",
                    "output_type": "stream",
                    "text": [
                        "(1,)\n",
                        "bbul=Position(x=-1, y=0) , bbbr=Position(x=11, y=18)\n",
                        "<class 'dict'>\n",
                        "{0: (0, 1), 2: (1, 1), 1: (1, 0), 3: (1, 5), 5: (5, 1), 4: (5, 0), 9: (7, 1), 8: (7, 0), 10: (7, 5), 14: (11, 1), 6: (6, 5), 13: (11, 0), 11: (7, 7), 15: (11, 5), 19: (13, 1), 12: (7, 11), 7: (6, 7), 16: (11, 7), 18: (13, 0), 20: (13, 5), 23: (17, 1), 21: (13, 7), 24: (17, 5), 22: (13, 11), 25: (17, 7), 17: (12, 11)}\n",
                        "{0: (1, 5), 2: (5, 5), 1: (5, 1), 3: (5, 6), 5: (7, 5), 4: (6, 1), 9: (11, 5), 8: (11, 1), 10: (11, 7), 14: (13, 5), 6: (7, 6), 13: (12, 1), 11: (11, 11), 15: (13, 7), 19: (17, 5), 12: (11, 12), 7: (7, 11), 16: (13, 11), 18: (17, 1), 20: (17, 7), 23: (18, 5), 21: (17, 11), 24: (18, 6), 22: (17, 12), 25: (18, 11), 17: (13, 12)}\n",
                        "tid=0, row=2, col=5, num_h_sep=20\n",
                        "tid=2, row=2, col=5, num_h_sep=20\n",
                        "tid=1, row=2, col=0, num_h_sep=5\n",
                        "tid=3, row=2, col=25, num_h_sep=5\n",
                        "     ■-------------------■                                  \n",
                        "  .  | .    1    .    1  | .    .    .    .    .    .    .  \n",
                        "■----■-------------------■----■                             \n",
                        "| 1  | 1    1    1    1  | .  | .    .    .    .    .    .  \n",
                        "|    |                   |    |                             \n",
                        "| .  | 1    1    1    1  | 1  | .    .    .    .    .    .  \n",
                        "|    |                   |    |                             \n",
                        "| 1  | 1    1    1    1  | .  | .    .    .    .    .    .  \n",
                        "|    |                   |    |                             \n",
                        "| .  | 1    1    1    1  | 1  | .    .    .    .    .    .  \n",
                        "■----■-------------------■----■                             \n",
                        "| 1  | 1    1    1    1  | .    .    .    .    .    .    .  \n",
                        "■----■                   ■----■    ■-------------------■    \n",
                        "  .  | 1    1    1    1  | 1  | .  | 1    .    1    .  | .  \n",
                        "■----■-------------------■----■----■-------------------■----■\n",
                        "| 1  | 1    1    1    1  | 1    1  | 1    1    1    1  | .  |\n",
                        "|    |                   |         |                   |    |\n",
                        "| .  | 1    1    1    1  | 1    1  | 1    1    1    1  | 1  |\n",
                        "|    |                   |         |                   |    |\n",
                        "| 1  | 1    1    1    1  | 1    1  | 1    1    1    1  | .  |\n",
                        "|    |                   |         |                   |    |\n",
                        "| .  | 1    1    1    1  | 1    1  | 1    1    1    1  | 1  |\n",
                        "■----■-------------------■---------■-------------------■----■\n",
                        "| 1  | 1    1    1    1  | 1    1  | 1    1    1    1  | .  \n",
                        "■----■                   |         |                   ■----■\n",
                        "  .  | 1    1    1    1  | 1    1  | 1    1    1    1  | 1  |\n",
                        "■----■-------------------■---------■-------------------■----■\n",
                        "| 1  | 1    1    1    1  | 1    1  | 1    1    1    1  | .  |\n",
                        "|    |                   |         |                   |    |\n",
                        "| .  | 1    1    1    1  | 1    1  | 1    1    1    1  | 1  |\n",
                        "|    |                   |         |                   |    |\n",
                        "| 1  | 1    1    1    1  | 1    1  | 1    1    1    1  | .  |\n",
                        "|    |                   |         |                   |    |\n",
                        "| .  | 1    1    1    1  | 1    1  | 1    1    1    1  | 1  |\n",
                        "■----■-------------------■----■----■-------------------■----■\n",
                        "  .  | 1    .    1    .  | 1  | .  | 1    .    1    .  | .  \n",
                        "     ■-------------------■----■    ■-------------------■    \n"
                    ]
                }
            ],
            "source": [
                "###############################################################\n",
                "# WIP: ASCII visualization with boundaries between templates\n",
                "###############################################################\n",
                "\n",
                "from tqec.templates.base import Template\n",
                "from tqec.position import Position\n",
                "from typing import Tuple, Dict\n",
                "\n",
                "def new_instantiate(\n",
                "    sself: Template, plaquette_indices: ty.Sequence[int] \n",
                ") -> Tuple[numpy.ndarray, Dict, Dict]:\n",
                "    \"\"\"Adapted from ComposedTempalte.instantiate()\n",
                "    \n",
                "    Implementation adapted from CompositeTemplate._build_array()\n",
                "    \n",
                "    Args:\n",
                "        sself: the Template instance to instantiate.\n",
                "        plaquette_indices: the plaquette indices that will be used to\n",
                "            instantiate the different orchestrated templates.\n",
                "    \"\"\"\n",
                "    indices_map = (0, *plaquette_indices)\n",
                "    # ul: upper-left\n",
                "    ul_positions = sself._compute_ul_absolute_position()\n",
                "    # bbul: bounding-box upper-left\n",
                "    # bbbr: bounding-box bottom-right\n",
                "    bbul, bbbr = sself._get_bounding_box_from_ul_positions(ul_positions)\n",
                "    print(f'bbul={bbul} , bbbr={bbbr}') # <-------------------------------\n",
                "    shape = sself._get_shape_from_bounding_box(bbul, bbbr)\n",
                "\n",
                "    ret = numpy.zeros(shape.to_numpy_shape(), dtype=int)\n",
                "    # Upper-left and bottom-right corners of every template, expressed as (row, column) of the array returned.\n",
                "    dict_ul = {} \n",
                "    dict_br = {}\n",
                "    print(type(ul_positions))\n",
                "    # tid: template id\n",
                "    # tul: template upper-left\n",
                "    for tid, tul in ul_positions.items():\n",
                "        #print(f'tid={tid} , tul={tul}') # <-------------------------------\n",
                "        template = sself._templates[tid]\n",
                "        # tshapex: template shape x coordinate\n",
                "        # tshapey: template shape y coordinate\n",
                "        tshapey, tshapex = template.shape.to_numpy_shape()\n",
                "        plaquette_indices: list[int] = [\n",
                "            indices_map[i]\n",
                "            for i in sself._relative_position_graph.nodes[tid][\"plaquette_indices\"]\n",
                "        ]\n",
                "        # Subtracting bbul (upper-left bounding box position) from each coordinate to stick\n",
                "        # the represented code to the axes and avoid having negative indices.\n",
                "        x = tul.x - bbul.x\n",
                "        y = tul.y - bbul.y\n",
                "        dict_ul[tid] = (y, x)\n",
                "        dict_br[tid] = (y+tshapey, x+tshapex)\n",
                "        # Numpy indexing is (y, x) in our coordinate system convention.\n",
                "        ret[y : y + tshapey, x : x + tshapex] = template.instantiate(\n",
                "            plaquette_indices\n",
                "        )\n",
                "    return ret, dict_ul, dict_br\n",
                "\n",
                "\n",
                "def new_display_template(\n",
                "    template: Template, style: str = 'compact'\n",
                ") -> None:\n",
                "    \"\"\"Adapted from method CompositeTemplate.display_template()\n",
                "\n",
                "    Args:\n",
                "        template: the Template instance to display.\n",
                "        plaquette_indices: the plaquette indices that are forwarded to the call\n",
                "            to `template.instantiate` to get the actual template representation.\n",
                "            If None, default to ``range(1, template.expected_plaquettes_number + 1)``.\n",
                "    \"\"\"\n",
                "    assert style in ['compact', 'geometric']\n",
                "    plaquette_indices = tuple(range(1, template.expected_plaquettes_number + 1))\n",
                "    print(plaquette_indices)\n",
                "    #arr = template.instantiate(plaquette_indices)\n",
                "    arr, ul_pos, br_pos = new_instantiate(template, plaquette_indices)\n",
                "    print(ul_pos)  # <---------------------------------------------\n",
                "    print(br_pos)  # <---------------------------------------------\n",
                "    #print(type(arr))\n",
                "    #print(numpy.shape(arr))\n",
                "    h_space = 3 if style == 'compact' else 5\n",
                "    empty_line = ' '*numpy.shape(arr)[1]*h_space\n",
                "    # Instead of print to screen, we create a multi-line buffer string.\n",
                "    # when completed, we print the buffer.\n",
                "    buffer_lines = []\n",
                "    if style == 'geometric':\n",
                "        buffer_lines.append(empty_line)\n",
                "    for line in arr:\n",
                "        buffer = ''\n",
                "        for element in line:\n",
                "            element = str(element) if element != 0 else \".\"\n",
                "            buffer += f\"{element:^{h_space}}\"\n",
                "        buffer_lines.append(buffer)\n",
                "        if style == 'geometric':\n",
                "            buffer_lines.append(empty_line)\n",
                "    # Add horizontal and vertical lines.\n",
                "    if style == 'geometric':\n",
                "        for tid, tul in ul_pos.items():\n",
                "            col = tul[1] * h_space\n",
                "            num_h_sep = br_pos[tid][1]*h_space - col\n",
                "            # Add horizontal lines at the top and bottom.\n",
                "            for row in [tul[0], br_pos[tid][0]]:\n",
                "            #for row in [tul[0]]:\n",
                "            #for row in [br_pos[tid][0]]:\n",
                "                row *= 2\n",
                "                if row == 2:\n",
                "                    print(f'tid={tid}, row={row}, col={col}, num_h_sep={num_h_sep}')\n",
                "                line = buffer_lines[row]\n",
                "                line = line[:col] + '■' + '-'*(num_h_sep-1) + '■' + line[col+num_h_sep+1:]\n",
                "                buffer_lines[row] = line\n",
                "            # Add vertical lines on the left and right.\n",
                "            for col in [tul[1], br_pos[tid][1]]:\n",
                "                col *= h_space\n",
                "                for row in range(tul[0]*2+1, br_pos[tid][0]*2):\n",
                "                    line = buffer_lines[row]\n",
                "                    line = line[:col] + '|' + line[col+1:]\n",
                "                    buffer_lines[row] = line\n",
                "    for line in buffer_lines:\n",
                "        print(line)\n",
                "\n",
                "\n",
                "doubling_template.scale_to(2)\n",
                "new_display_template(doubling_template, style = 'geometric')"
            ]
        },
        {
            "cell_type": "code",
            "execution_count": 9,
            "metadata": {},
            "outputs": [
                {
                    "name": "stdout",
                    "output_type": "stream",
                    "text": [
                        "  .  .  1  .  1  .  1  .  .  .  .  .  .  .  .  .\n",
                        "  1  1  1  1  1  1  1  .  .  .  .  .  .  .  .  .\n",
                        "  .  1  1  1  1  1  1  1  .  .  .  .  .  .  .  .\n",
                        "  1  1  1  1  1  1  1  .  .  .  .  .  .  .  .  .\n",
                        "  .  1  1  1  1  1  1  1  .  .  .  .  .  .  .  .\n",
                        "  1  1  1  1  1  1  1  .  .  .  .  .  .  .  .  .\n",
                        "  .  1  1  1  1  1  1  1  .  .  .  .  .  .  .  .\n",
                        "  1  1  1  1  1  1  1  .  .  .  .  .  .  .  .  .\n",
                        "  .  1  1  1  1  1  1  1  .  1  .  1  .  1  .  .\n",
                        "  1  1  1  1  1  1  1  1  1  1  1  1  1  1  1  .\n",
                        "  .  1  1  1  1  1  1  1  1  1  1  1  1  1  1  1\n",
                        "  1  1  1  1  1  1  1  1  1  1  1  1  1  1  1  .\n",
                        "  .  1  1  1  1  1  1  1  1  1  1  1  1  1  1  1\n",
                        "  1  1  1  1  1  1  1  1  1  1  1  1  1  1  1  .\n",
                        "  .  1  1  1  1  1  1  1  1  1  1  1  1  1  1  1\n",
                        "  1  1  1  1  1  1  1  1  1  1  1  1  1  1  1  .\n",
                        "  .  1  1  1  1  1  1  1  1  1  1  1  1  1  1  1\n",
                        "  1  1  1  1  1  1  1  1  1  1  1  1  1  1  1  .\n",
                        "  .  1  1  1  1  1  1  1  1  1  1  1  1  1  1  1\n",
                        "  1  1  1  1  1  1  1  1  1  1  1  1  1  1  1  .\n",
                        "  .  1  1  1  1  1  1  1  1  1  1  1  1  1  1  1\n",
                        "  1  1  1  1  1  1  1  1  1  1  1  1  1  1  1  .\n",
                        "  .  1  1  1  1  1  1  1  1  1  1  1  1  1  1  1\n",
                        "  .  1  .  1  .  1  .  1  .  1  .  1  .  1  .  .\n"
                    ]
                }
            ],
            "source": [
                "display_template(doubling_template.scale_to(3))"
            ]
        },
        {
            "cell_type": "code",
            "execution_count": 10,
            "metadata": {
                "ExecuteTime": {
                    "end_time": "2024-02-06T13:28:09.542908Z",
                    "start_time": "2024-02-06T13:28:09.493544Z"
                }
            },
            "outputs": [
                {
                    "name": "stdout",
                    "output_type": "stream",
                    "text": [
                        "Array shape: (3006, 2004)\n"
                    ]
                }
            ],
            "source": [
                "plaquette_indices = list(range(1, doubling_template.expected_plaquettes_number + 1))\n",
                "arr = doubling_template.scale_to(500).instantiate(plaquette_indices)\n",
                "print(\"Array shape:\", arr.shape)"
            ]
        }
    ],
    "metadata": {
        "kernelspec": {
            "display_name": "qec",
            "language": "python",
            "name": "python3"
        },
        "language_info": {
            "codemirror_mode": {
                "name": "ipython",
                "version": 3
            },
            "file_extension": ".py",
            "mimetype": "text/x-python",
            "name": "python",
            "nbconvert_exporter": "python",
            "pygments_lexer": "ipython3",
            "version": "3.9.13"
        }
    },
    "nbformat": 4,
    "nbformat_minor": 2
}
