{
   "cells": [
      {
         "cell_type": "markdown",
         "metadata": {},
         "source": [
            "# Example to generate a corner\n",
            "\n",
            "This notebook aims at showing how to generate a corner using the template approach."
         ]
      },
      {
         "cell_type": "markdown",
         "metadata": {},
         "source": [
            "## Create the corner template\n",
            "\n",
            "The `tqec` package already includes a corner implementation in its template library. We can use that implementation to generate the corner template.\n",
            "\n",
            "For the `tqec` package, templates dimensions should be understood as the number of plaquettes composing the dimensions that should scale. This is different from the code distance. \n",
            "\n",
            "This choice of \"dimension\" is mostly a relicate from the early code, and so will likely be changed to something more meaningful in the future. "
         ]
      },
      {
         "cell_type": "code",
         "execution_count": null,
         "metadata": {},
         "outputs": [],
         "source": [
            "from tqec.templates.constructions.corner import ScalableCorner\n",
            "from tqec.templates.scale import LinearFunction\n",
            "from tqec.templates.display import display_template\n",
            "\n",
            "# Corner made of 2*2=4 plaquettes for the scaled distances.\n",
            "corner = ScalableCorner(LinearFunction(2), k=2)\n",
            "print(f\"Corner size: {corner.shape}\")\n",
            "display_template(corner)"
         ]
      },
      {
         "cell_type": "markdown",
         "metadata": {},
         "source": [
            "## Scale the corner template\n",
            "\n",
            "The `corner` template instance created in the previous cell can be scaled up or down with the `scale_to` method. The following cells illustrate this with several scales."
         ]
      },
      {
         "cell_type": "code",
         "execution_count": null,
         "metadata": {},
         "outputs": [],
         "source": [
            "# Corner made of 2*4=8 plaquettes for the scaled distances.\n",
            "# This changes corner inplace\n",
            "corner.scale_to(4)\n",
            "print(f\"Corner size: {corner.shape}\")\n",
            "display_template(corner)"
         ]
      },
      {
         "cell_type": "code",
         "execution_count": null,
         "metadata": {},
         "outputs": [],
         "source": [
            "# Corner made of 2*10=20 plaquettes for the scaled distances.\n",
            "# This changes corner inplace\n",
            "corner.scale_to(10)\n",
            "print(f\"Corner size: {corner.shape}\")\n",
            "display_template(corner)"
         ]
      },
      {
         "cell_type": "markdown",
         "metadata": {},
         "source": [
            "## Scaling to large dimensions\n",
            "\n",
            "It is entirely possible to scale to large dimensions. Some limitations may appear when scaling to (very large) dimensions:\n",
            "- The underlying use of `cirq`, implemented in Python, will end up showing its limits. A more efficient quantum circuit library might solve this.\n",
            "- The representation of a scaled template as a 2-dimensional `numpy.ndarray` makes the memory cost grows as $\\text{dimension}^2$.\n",
            "\n",
            "But the above limitations are only noticeable at scales that will be very costly to simulate with `Stim` anyways, so they might not be as problematic as the above two points makes it sound.\n",
            "\n",
            "To show that, the following cell generates a corner with a dimensions of 5000. It only displays the shape of the resulting array, as displaying the whole array will take a large amount of time and will basically be unreadable."
         ]
      },
      {
         "cell_type": "code",
         "execution_count": null,
         "metadata": {},
         "outputs": [],
         "source": [
            "# The library can go quite high:\n",
            "corner.scale_to(2500)\n",
            "plaquette_indices = list(range(1, corner.expected_plaquettes_number + 1))\n",
            "array = corner.instantiate(plaquette_indices)\n",
            "print(array.shape)\n",
            "print(corner.shape)"
         ]
      }
   ],
   "metadata": {
      "ExecuteTime": {
         "end_time": "2024-02-06T13:27:46.308991Z",
         "start_time": "2024-02-06T13:27:39.049848Z"
      },
      "kernelspec": {
         "display_name": "qec",
         "language": "python",
         "name": "python3"
      },
      "language_info": {
         "codemirror_mode": {
            "name": "ipython",
            "version": 3
         },
         "file_extension": ".py",
         "mimetype": "text/x-python",
         "name": "python",
         "nbconvert_exporter": "python",
         "pygments_lexer": "ipython3",
         "version": "3.12.3"
      }
   },
   "nbformat": 4,
   "nbformat_minor": 2
}
