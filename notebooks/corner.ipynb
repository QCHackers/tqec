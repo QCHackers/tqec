{
 "cells": [
  {
   "cell_type": "markdown",
   "metadata": {},
   "source": [
    "# Example to generate a corner\n",
    "\n",
    "This notebook aims at showing how to generate a corner using the template approach.\n",
    "\n",
    "## Install the required packages \n",
    "\n",
    "We want to be sure that the `tqec` package is installed. All the dependencies should be handled automatically by `pip`. "
   ]
  },
  {
   "cell_type": "code",
   "execution_count": null,
   "metadata": {},
   "outputs": [],
   "source": [
    "# Install the tqec package locally\n",
    "!python -m pip install -e ../"
   ]
  },
  {
   "cell_type": "markdown",
   "metadata": {},
   "source": [
    "## Create the corner template\n",
    "\n",
    "The `tqec` package already includes a corner implementation in its template library. We can use that implementation to generate the corner template.\n",
    "\n",
    "For the `tqec` package, templates dimensions should be understood as the number of plaquettes composing the dimensions that should scale. This is different from the code distance. \n",
    "\n",
    "This choice of \"dimension\" is mostly a relicate from the early code, and so will likely be changed to something more meaningful in the future. "
   ]
  },
  {
   "cell_type": "code",
   "execution_count": 2,
   "metadata": {
    "vscode": {
     "languageId": "python"
    }
   },
   "outputs": [
    {
     "name": "stdout",
     "output_type": "stream",
     "text": [
      "Corner size: (12, 12)\n",
      "  .  .  1  .  1  .  .  .  .  .  .  .\n",
      "  2  3  4  3  4  .  .  .  .  .  .  .\n",
      "  .  4  3  4  3  5  .  .  .  .  .  .\n",
      "  2  3  4  3  4  .  .  .  .  .  .  .\n",
      "  .  4  3  4  3  5  .  .  .  .  .  .\n",
      "  2  3  4  3  4  .  .  .  .  .  .  .\n",
      "  .  4  3  4  3  6  .  7  .  7  .  .\n",
      "  2  4  3  4  8  9  8  9  8  9  8 10\n",
      "  .  3  4  8  9  8  9  8  9  8  9  .\n",
      "  2  4  8  9  8  9  8  9  8  9  8 10\n",
      "  . 11  9  8  9  8  9  8  9  8  9  .\n",
      "  .  . 12  . 12  . 12  . 12  . 12  .\n"
     ]
    }
   ],
   "source": [
    "from tqec.templates.constructions.corner import ScalableCorner\n",
    "from tqec.display import display_template\n",
    "\n",
    "# Corner made of distance 5 (i.e., 4 plaquettes, i.e., dim=4 in the line below) surface codes\n",
    "corner = ScalableCorner(4)\n",
    "print(f\"Corner size: {corner.shape}\")\n",
    "display_template(corner)"
   ]
  },
  {
   "cell_type": "markdown",
   "metadata": {},
   "source": [
    "## Scale the corner template\n",
    "\n",
    "The `corner` template instance created in the previous cell can be scaled up or down with the `scale_to` method. The following cells illustrate this with several scales."
   ]
  },
  {
   "cell_type": "code",
   "execution_count": 3,
   "metadata": {
    "vscode": {
     "languageId": "python"
    }
   },
   "outputs": [
    {
     "name": "stdout",
     "output_type": "stream",
     "text": [
      "Corner size: (12, 12)\n",
      "  .  .  1  .  1  .  .  .  .  .  .  .\n",
      "  2  3  4  3  4  .  .  .  .  .  .  .\n",
      "  .  4  3  4  3  5  .  .  .  .  .  .\n",
      "  2  3  4  3  4  .  .  .  .  .  .  .\n",
      "  .  4  3  4  3  5  .  .  .  .  .  .\n",
      "  2  3  4  3  4  .  .  .  .  .  .  .\n",
      "  .  4  3  4  3  6  .  7  .  7  .  .\n",
      "  2  4  3  4  8  9  8  9  8  9  8 10\n",
      "  .  3  4  8  9  8  9  8  9  8  9  .\n",
      "  2  4  8  9  8  9  8  9  8  9  8 10\n",
      "  . 11  9  8  9  8  9  8  9  8  9  .\n",
      "  .  . 12  . 12  . 12  . 12  . 12  .\n"
     ]
    }
   ],
   "source": [
    "# Corner made of distance 7 (i.e., 6 plaquettes, i.e., k=6 in the line below) surface codes\n",
    "# This changes corner inplace\n",
    "corner.scale_to(2)\n",
    "print(f\"Corner size: {corner.shape}\")\n",
    "display_template(corner)"
   ]
  },
  {
   "cell_type": "code",
   "execution_count": 4,
   "metadata": {
    "vscode": {
     "languageId": "python"
    }
   },
   "outputs": [
    {
     "name": "stdout",
     "output_type": "stream",
     "text": [
      "Corner size: (44, 44)\n",
      "  .  .  1  .  1  .  1  .  1  .  1  .  1  .  1  .  1  .  1  .  1  .  .  .  .  .  .  .  .  .  .  .  .  .  .  .  .  .  .  .  .  .  .  .\n",
      "  2  3  4  3  4  3  4  3  4  3  4  3  4  3  4  3  4  3  4  3  4  .  .  .  .  .  .  .  .  .  .  .  .  .  .  .  .  .  .  .  .  .  .  .\n",
      "  .  4  3  4  3  4  3  4  3  4  3  4  3  4  3  4  3  4  3  4  3  5  .  .  .  .  .  .  .  .  .  .  .  .  .  .  .  .  .  .  .  .  .  .\n",
      "  2  3  4  3  4  3  4  3  4  3  4  3  4  3  4  3  4  3  4  3  4  .  .  .  .  .  .  .  .  .  .  .  .  .  .  .  .  .  .  .  .  .  .  .\n",
      "  .  4  3  4  3  4  3  4  3  4  3  4  3  4  3  4  3  4  3  4  3  5  .  .  .  .  .  .  .  .  .  .  .  .  .  .  .  .  .  .  .  .  .  .\n",
      "  2  3  4  3  4  3  4  3  4  3  4  3  4  3  4  3  4  3  4  3  4  .  .  .  .  .  .  .  .  .  .  .  .  .  .  .  .  .  .  .  .  .  .  .\n",
      "  .  4  3  4  3  4  3  4  3  4  3  4  3  4  3  4  3  4  3  4  3  5  .  .  .  .  .  .  .  .  .  .  .  .  .  .  .  .  .  .  .  .  .  .\n",
      "  2  3  4  3  4  3  4  3  4  3  4  3  4  3  4  3  4  3  4  3  4  .  .  .  .  .  .  .  .  .  .  .  .  .  .  .  .  .  .  .  .  .  .  .\n",
      "  .  4  3  4  3  4  3  4  3  4  3  4  3  4  3  4  3  4  3  4  3  5  .  .  .  .  .  .  .  .  .  .  .  .  .  .  .  .  .  .  .  .  .  .\n",
      "  2  3  4  3  4  3  4  3  4  3  4  3  4  3  4  3  4  3  4  3  4  .  .  .  .  .  .  .  .  .  .  .  .  .  .  .  .  .  .  .  .  .  .  .\n",
      "  .  4  3  4  3  4  3  4  3  4  3  4  3  4  3  4  3  4  3  4  3  5  .  .  .  .  .  .  .  .  .  .  .  .  .  .  .  .  .  .  .  .  .  .\n",
      "  2  3  4  3  4  3  4  3  4  3  4  3  4  3  4  3  4  3  4  3  4  .  .  .  .  .  .  .  .  .  .  .  .  .  .  .  .  .  .  .  .  .  .  .\n",
      "  .  4  3  4  3  4  3  4  3  4  3  4  3  4  3  4  3  4  3  4  3  5  .  .  .  .  .  .  .  .  .  .  .  .  .  .  .  .  .  .  .  .  .  .\n",
      "  2  3  4  3  4  3  4  3  4  3  4  3  4  3  4  3  4  3  4  3  4  .  .  .  .  .  .  .  .  .  .  .  .  .  .  .  .  .  .  .  .  .  .  .\n",
      "  .  4  3  4  3  4  3  4  3  4  3  4  3  4  3  4  3  4  3  4  3  5  .  .  .  .  .  .  .  .  .  .  .  .  .  .  .  .  .  .  .  .  .  .\n",
      "  2  3  4  3  4  3  4  3  4  3  4  3  4  3  4  3  4  3  4  3  4  .  .  .  .  .  .  .  .  .  .  .  .  .  .  .  .  .  .  .  .  .  .  .\n",
      "  .  4  3  4  3  4  3  4  3  4  3  4  3  4  3  4  3  4  3  4  3  5  .  .  .  .  .  .  .  .  .  .  .  .  .  .  .  .  .  .  .  .  .  .\n",
      "  2  3  4  3  4  3  4  3  4  3  4  3  4  3  4  3  4  3  4  3  4  .  .  .  .  .  .  .  .  .  .  .  .  .  .  .  .  .  .  .  .  .  .  .\n",
      "  .  4  3  4  3  4  3  4  3  4  3  4  3  4  3  4  3  4  3  4  3  5  .  .  .  .  .  .  .  .  .  .  .  .  .  .  .  .  .  .  .  .  .  .\n",
      "  2  3  4  3  4  3  4  3  4  3  4  3  4  3  4  3  4  3  4  3  4  .  .  .  .  .  .  .  .  .  .  .  .  .  .  .  .  .  .  .  .  .  .  .\n",
      "  .  4  3  4  3  4  3  4  3  4  3  4  3  4  3  4  3  4  3  4  3  5  .  .  .  .  .  .  .  .  .  .  .  .  .  .  .  .  .  .  .  .  .  .\n",
      "  2  3  4  3  4  3  4  3  4  3  4  3  4  3  4  3  4  3  4  3  4  .  .  .  .  .  .  .  .  .  .  .  .  .  .  .  .  .  .  .  .  .  .  .\n",
      "  .  4  3  4  3  4  3  4  3  4  3  4  3  4  3  4  3  4  3  4  3  6  .  7  .  7  .  7  .  7  .  7  .  7  .  7  .  7  .  7  .  7  .  .\n",
      "  2  4  3  4  3  4  3  4  3  4  3  4  3  4  3  4  3  4  3  4  8  9  8  9  8  9  8  9  8  9  8  9  8  9  8  9  8  9  8  9  8  9  8 10\n",
      "  .  3  4  3  4  3  4  3  4  3  4  3  4  3  4  3  4  3  4  8  9  8  9  8  9  8  9  8  9  8  9  8  9  8  9  8  9  8  9  8  9  8  9  .\n",
      "  2  4  3  4  3  4  3  4  3  4  3  4  3  4  3  4  3  4  8  9  8  9  8  9  8  9  8  9  8  9  8  9  8  9  8  9  8  9  8  9  8  9  8 10\n",
      "  .  3  4  3  4  3  4  3  4  3  4  3  4  3  4  3  4  8  9  8  9  8  9  8  9  8  9  8  9  8  9  8  9  8  9  8  9  8  9  8  9  8  9  .\n",
      "  2  4  3  4  3  4  3  4  3  4  3  4  3  4  3  4  8  9  8  9  8  9  8  9  8  9  8  9  8  9  8  9  8  9  8  9  8  9  8  9  8  9  8 10\n",
      "  .  3  4  3  4  3  4  3  4  3  4  3  4  3  4  8  9  8  9  8  9  8  9  8  9  8  9  8  9  8  9  8  9  8  9  8  9  8  9  8  9  8  9  .\n",
      "  2  4  3  4  3  4  3  4  3  4  3  4  3  4  8  9  8  9  8  9  8  9  8  9  8  9  8  9  8  9  8  9  8  9  8  9  8  9  8  9  8  9  8 10\n",
      "  .  3  4  3  4  3  4  3  4  3  4  3  4  8  9  8  9  8  9  8  9  8  9  8  9  8  9  8  9  8  9  8  9  8  9  8  9  8  9  8  9  8  9  .\n",
      "  2  4  3  4  3  4  3  4  3  4  3  4  8  9  8  9  8  9  8  9  8  9  8  9  8  9  8  9  8  9  8  9  8  9  8  9  8  9  8  9  8  9  8 10\n",
      "  .  3  4  3  4  3  4  3  4  3  4  8  9  8  9  8  9  8  9  8  9  8  9  8  9  8  9  8  9  8  9  8  9  8  9  8  9  8  9  8  9  8  9  .\n",
      "  2  4  3  4  3  4  3  4  3  4  8  9  8  9  8  9  8  9  8  9  8  9  8  9  8  9  8  9  8  9  8  9  8  9  8  9  8  9  8  9  8  9  8 10\n",
      "  .  3  4  3  4  3  4  3  4  8  9  8  9  8  9  8  9  8  9  8  9  8  9  8  9  8  9  8  9  8  9  8  9  8  9  8  9  8  9  8  9  8  9  .\n",
      "  2  4  3  4  3  4  3  4  8  9  8  9  8  9  8  9  8  9  8  9  8  9  8  9  8  9  8  9  8  9  8  9  8  9  8  9  8  9  8  9  8  9  8 10\n",
      "  .  3  4  3  4  3  4  8  9  8  9  8  9  8  9  8  9  8  9  8  9  8  9  8  9  8  9  8  9  8  9  8  9  8  9  8  9  8  9  8  9  8  9  .\n",
      "  2  4  3  4  3  4  8  9  8  9  8  9  8  9  8  9  8  9  8  9  8  9  8  9  8  9  8  9  8  9  8  9  8  9  8  9  8  9  8  9  8  9  8 10\n",
      "  .  3  4  3  4  8  9  8  9  8  9  8  9  8  9  8  9  8  9  8  9  8  9  8  9  8  9  8  9  8  9  8  9  8  9  8  9  8  9  8  9  8  9  .\n",
      "  2  4  3  4  8  9  8  9  8  9  8  9  8  9  8  9  8  9  8  9  8  9  8  9  8  9  8  9  8  9  8  9  8  9  8  9  8  9  8  9  8  9  8 10\n",
      "  .  3  4  8  9  8  9  8  9  8  9  8  9  8  9  8  9  8  9  8  9  8  9  8  9  8  9  8  9  8  9  8  9  8  9  8  9  8  9  8  9  8  9  .\n",
      "  2  4  8  9  8  9  8  9  8  9  8  9  8  9  8  9  8  9  8  9  8  9  8  9  8  9  8  9  8  9  8  9  8  9  8  9  8  9  8  9  8  9  8 10\n",
      "  . 11  9  8  9  8  9  8  9  8  9  8  9  8  9  8  9  8  9  8  9  8  9  8  9  8  9  8  9  8  9  8  9  8  9  8  9  8  9  8  9  8  9  .\n",
      "  .  . 12  . 12  . 12  . 12  . 12  . 12  . 12  . 12  . 12  . 12  . 12  . 12  . 12  . 12  . 12  . 12  . 12  . 12  . 12  . 12  . 12  .\n"
     ]
    }
   ],
   "source": [
    "# Corner made of distance 21 (i.e., 20 plaquettes, i.e., k=20 in the line below) surface codes\n",
    "# This changes corner inplace\n",
    "corner.scale_to(10)\n",
    "print(f\"Corner size: {corner.shape}\")\n",
    "display_template(corner)"
   ]
  },
  {
   "cell_type": "markdown",
   "metadata": {},
   "source": [
    "## Scaling to large dimensions\n",
    "\n",
    "It is entirely possible to scale to large dimensions. Some limitations may appear when scaling to (very large) dimensions:\n",
    "- The underlying use of `cirq`, implemented in Python, will end up showing its limits. A more efficient quantum circuit library might solve this.\n",
    "- The representation of a scaled template as a 2-dimensional `numpy.ndarray` makes the memory cost grows as $\\text{dimension}^2$.\n",
    "\n",
    "But the above limitations are only noticeable at scales that will be very costly to simulate with `Stim` anyways, so they might not be as problematic as the above two points makes it sound.\n",
    "\n",
    "To show that, the following cell generates a corner with a dimensions of 5000. It only displays the shape of the resulting array, as displaying the whole array will take a large amount of time and will basically be unreadable."
   ]
  },
  {
   "cell_type": "code",
   "execution_count": 5,
   "metadata": {
    "vscode": {
     "languageId": "python"
    }
   },
   "outputs": [
    {
     "name": "stdout",
     "output_type": "stream",
     "text": [
      "(10004, 10004)\n",
      "(10004, 10004)\n"
     ]
    }
   ],
   "source": [
    "# The library can go quite high:\n",
    "corner.scale_to(2500)\n",
    "plaquette_indices = list(range(corner.expected_plaquettes_number))\n",
    "array = corner.instanciate(*plaquette_indices)\n",
    "print(array.shape)\n",
    "print(corner.shape)"
   ]
  }
 ],
 "metadata": {
  "kernelspec": {
   "display_name": "Python 3 [Tensorflow]",
   "language": "python",
   "name": "python3_tensorflow_uorhf3"
  }
 },
 "nbformat": 4,
 "nbformat_minor": 2
}
