{
 "cells": [
  {
   "cell_type": "markdown",
   "metadata": {},
   "source": [
    "# Example to generate a corner\n",
    "\n",
    "This notebook aims at showing how to generate a corner using the template approach.\n",
    "\n",
    "## Install the required packages \n",
    "\n",
    "We want to be sure that the `tqec` package is installed. All the dependencies should be handled automatically by `pip`. "
   ]
  },
  {
   "cell_type": "code",
   "execution_count": 6,
   "metadata": {
    "vscode": {
     "languageId": "shellscript"
    }
   },
   "outputs": [
    {
     "name": "stdout",
     "output_type": "stream",
     "text": [
      "Obtaining file:///Users/rickyyoung/GitHub/tqec-main\n",
      "  Preparing metadata (setup.py) ... \u001b[?25ldone\n",
      "\u001b[?25hCollecting matplotlib\n",
      "  Downloading matplotlib-3.8.2-cp39-cp39-macosx_11_0_arm64.whl (7.5 MB)\n",
      "\u001b[2K     \u001b[38;2;114;156;31m━━━━━━━━━━━━━━━━━━━━━━━━━━━━━━━━━━━━━━━━\u001b[0m \u001b[32m7.5/7.5 MB\u001b[0m \u001b[31m14.9 MB/s\u001b[0m eta \u001b[36m0:00:00\u001b[0mm eta \u001b[36m0:00:01\u001b[0m[36m0:00:01\u001b[0m\n",
      "\u001b[?25hCollecting numpy\n",
      "  Downloading numpy-1.26.3-cp39-cp39-macosx_11_0_arm64.whl (14.0 MB)\n",
      "\u001b[2K     \u001b[38;2;114;156;31m━━━━━━━━━━━━━━━━━━━━━━━━━━━━━━━━━━━━━━━━\u001b[0m \u001b[32m14.0/14.0 MB\u001b[0m \u001b[31m52.8 MB/s\u001b[0m eta \u001b[36m0:00:00\u001b[0mm eta \u001b[36m0:00:01\u001b[0m0:01\u001b[0m01\u001b[0m\n",
      "\u001b[?25hRequirement already satisfied: notebook in /Users/rickyyoung/opt/anaconda3/envs/jupyter/lib/python3.9/site-packages (from tqec==0.0.1) (6.5.3)\n",
      "Collecting networkx\n",
      "  Using cached networkx-3.2.1-py3-none-any.whl (1.6 MB)\n",
      "Collecting cirq\n",
      "  Using cached cirq-1.3.0-py3-none-any.whl (8.1 kB)\n",
      "Collecting stim\n",
      "  Downloading stim-1.12.1-cp39-cp39-macosx_11_0_arm64.whl (2.7 MB)\n",
      "\u001b[2K     \u001b[38;2;114;156;31m━━━━━━━━━━━━━━━━━━━━━━━━━━━━━━━━━━━━━━━━\u001b[0m \u001b[32m2.7/2.7 MB\u001b[0m \u001b[31m6.5 MB/s\u001b[0m eta \u001b[36m0:00:00\u001b[0m MB/s\u001b[0m eta \u001b[36m0:00:01\u001b[0m:01\u001b[0m\n",
      "\u001b[?25hCollecting stimcirq\n",
      "  Downloading stimcirq-1.12.1.tar.gz (28 kB)\n",
      "  Preparing metadata (setup.py) ... \u001b[?25ldone\n",
      "\u001b[?25h\u001b[31mERROR: Package 'tqec' requires a different Python: 3.9.16 not in '>=3.11.0'\u001b[0m\u001b[31m\n",
      "\u001b[0mNote: you may need to restart the kernel to use updated packages.\n"
     ]
    }
   ],
   "source": [
    "# Install the tqec package locally\n",
    "%pip install -e ../"
   ]
  },
  {
   "cell_type": "markdown",
   "metadata": {},
   "source": [
    "## Create the corner template\n",
    "\n",
    "The `tqec` package already includes a corner implementation in its template library. We can use that implementation to generate the corner template.\n",
    "\n",
    "For the `tqec` package, templates dimensions should be understood as the number of plaquettes composing the dimensions that should scale. This is different from the code distance. \n",
    "\n",
    "This choice of \"dimension\" is mostly a relicate from the early code, and so will likely be changed to something more meaningful in the future. "
   ]
  },
  {
   "cell_type": "code",
   "execution_count": 5,
   "metadata": {},
   "outputs": [
    {
     "name": "stdout",
     "output_type": "stream",
     "text": [
      "Corner size: (12, 12)\n",
      "  .  .  1  .  1  .  .  .  .  .  .  .\n",
      "  2  3  4  3  4  .  .  .  .  .  .  .\n",
      "  .  4  3  4  3  5  .  .  .  .  .  .\n",
      "  2  3  4  3  4  .  .  .  .  .  .  .\n",
      "  .  4  3  4  3  5  .  .  .  .  .  .\n",
      "  2  3  4  3  4  .  .  .  .  .  .  .\n",
      "  .  4  3  4  3  6  .  7  .  7  .  .\n",
      "  2  4  3  4  8  9  8  9  8  9  8 10\n",
      "  .  3  4  8  9  8  9  8  9  8  9  .\n",
      "  2  4  8  9  8  9  8  9  8  9  8 10\n",
      "  . 11  9  8  9  8  9  8  9  8  9  .\n",
      "  .  . 12  . 12  . 12  . 12  . 12  .\n"
     ]
    }
   ],
   "source": [
    "from tqec.constructions.corner import ScalableCorner\n",
    "from tqec.display import display_template\n",
    "\n",
    "# Corner made of distance 5 (i.e., 4 plaquettes, i.e., dim=4 in the line below) surface codes\n",
    "corner = ScalableCorner(4)\n",
    "print(f\"Corner size: {corner.shape}\")\n",
    "display_template(corner)"
   ]
  },
  {
   "cell_type": "markdown",
   "metadata": {},
   "source": [
    "## Scale the corner template\n",
    "\n",
    "The `corner` template instance created in the previous cell can be scaled up or down with the `scale_to` method. The following cells illustrate this with several scales."
   ]
  },
  {
   "cell_type": "code",
   "execution_count": 3,
   "metadata": {},
   "outputs": [
    {
     "name": "stdout",
     "output_type": "stream",
     "text": [
      "Corner size: (16, 16)\n",
      "  .  .  1  .  1  .  1  .  .  .  .  .  .  .  .  .\n",
      "  2  3  4  3  4  3  4  .  .  .  .  .  .  .  .  .\n",
      "  .  4  3  4  3  4  3  5  .  .  .  .  .  .  .  .\n",
      "  2  3  4  3  4  3  4  .  .  .  .  .  .  .  .  .\n",
      "  .  4  3  4  3  4  3  5  .  .  .  .  .  .  .  .\n",
      "  2  3  4  3  4  3  4  .  .  .  .  .  .  .  .  .\n",
      "  .  4  3  4  3  4  3  5  .  .  .  .  .  .  .  .\n",
      "  2  3  4  3  4  3  4  .  .  .  .  .  .  .  .  .\n",
      "  .  4  3  4  3  4  3  6  .  7  .  7  .  7  .  .\n",
      "  2  4  3  4  3  4  8  9  8  9  8  9  8  9  8 10\n",
      "  .  3  4  3  4  8  9  8  9  8  9  8  9  8  9  .\n",
      "  2  4  3  4  8  9  8  9  8  9  8  9  8  9  8 10\n",
      "  .  3  4  8  9  8  9  8  9  8  9  8  9  8  9  .\n",
      "  2  4  8  9  8  9  8  9  8  9  8  9  8  9  8 10\n",
      "  . 11  9  8  9  8  9  8  9  8  9  8  9  8  9  .\n",
      "  .  . 12  . 12  . 12  . 12  . 12  . 12  . 12  .\n"
     ]
    }
   ],
   "source": [
    "# Corner made of distance 7 (i.e., 6 plaquettes, i.e., k=6 in the line below) surface codes\n",
    "# This changes corner inplace\n",
    "corner.scale_to(6)\n",
    "print(f\"Corner size: {corner.shape}\")\n",
    "display_template(corner)"
   ]
  },
  {
   "cell_type": "code",
   "execution_count": 4,
   "metadata": {},
   "outputs": [
    {
     "name": "stdout",
     "output_type": "stream",
     "text": [
      "Corner size: (44, 44)\n",
      "  .  .  1  .  1  .  1  .  1  .  1  .  1  .  1  .  1  .  1  .  1  .  .  .  .  .  .  .  .  .  .  .  .  .  .  .  .  .  .  .  .  .  .  .\n",
      "  2  3  4  3  4  3  4  3  4  3  4  3  4  3  4  3  4  3  4  3  4  .  .  .  .  .  .  .  .  .  .  .  .  .  .  .  .  .  .  .  .  .  .  .\n",
      "  .  4  3  4  3  4  3  4  3  4  3  4  3  4  3  4  3  4  3  4  3  5  .  .  .  .  .  .  .  .  .  .  .  .  .  .  .  .  .  .  .  .  .  .\n",
      "  2  3  4  3  4  3  4  3  4  3  4  3  4  3  4  3  4  3  4  3  4  .  .  .  .  .  .  .  .  .  .  .  .  .  .  .  .  .  .  .  .  .  .  .\n",
      "  .  4  3  4  3  4  3  4  3  4  3  4  3  4  3  4  3  4  3  4  3  5  .  .  .  .  .  .  .  .  .  .  .  .  .  .  .  .  .  .  .  .  .  .\n",
      "  2  3  4  3  4  3  4  3  4  3  4  3  4  3  4  3  4  3  4  3  4  .  .  .  .  .  .  .  .  .  .  .  .  .  .  .  .  .  .  .  .  .  .  .\n",
      "  .  4  3  4  3  4  3  4  3  4  3  4  3  4  3  4  3  4  3  4  3  5  .  .  .  .  .  .  .  .  .  .  .  .  .  .  .  .  .  .  .  .  .  .\n",
      "  2  3  4  3  4  3  4  3  4  3  4  3  4  3  4  3  4  3  4  3  4  .  .  .  .  .  .  .  .  .  .  .  .  .  .  .  .  .  .  .  .  .  .  .\n",
      "  .  4  3  4  3  4  3  4  3  4  3  4  3  4  3  4  3  4  3  4  3  5  .  .  .  .  .  .  .  .  .  .  .  .  .  .  .  .  .  .  .  .  .  .\n",
      "  2  3  4  3  4  3  4  3  4  3  4  3  4  3  4  3  4  3  4  3  4  .  .  .  .  .  .  .  .  .  .  .  .  .  .  .  .  .  .  .  .  .  .  .\n",
      "  .  4  3  4  3  4  3  4  3  4  3  4  3  4  3  4  3  4  3  4  3  5  .  .  .  .  .  .  .  .  .  .  .  .  .  .  .  .  .  .  .  .  .  .\n",
      "  2  3  4  3  4  3  4  3  4  3  4  3  4  3  4  3  4  3  4  3  4  .  .  .  .  .  .  .  .  .  .  .  .  .  .  .  .  .  .  .  .  .  .  .\n",
      "  .  4  3  4  3  4  3  4  3  4  3  4  3  4  3  4  3  4  3  4  3  5  .  .  .  .  .  .  .  .  .  .  .  .  .  .  .  .  .  .  .  .  .  .\n",
      "  2  3  4  3  4  3  4  3  4  3  4  3  4  3  4  3  4  3  4  3  4  .  .  .  .  .  .  .  .  .  .  .  .  .  .  .  .  .  .  .  .  .  .  .\n",
      "  .  4  3  4  3  4  3  4  3  4  3  4  3  4  3  4  3  4  3  4  3  5  .  .  .  .  .  .  .  .  .  .  .  .  .  .  .  .  .  .  .  .  .  .\n",
      "  2  3  4  3  4  3  4  3  4  3  4  3  4  3  4  3  4  3  4  3  4  .  .  .  .  .  .  .  .  .  .  .  .  .  .  .  .  .  .  .  .  .  .  .\n",
      "  .  4  3  4  3  4  3  4  3  4  3  4  3  4  3  4  3  4  3  4  3  5  .  .  .  .  .  .  .  .  .  .  .  .  .  .  .  .  .  .  .  .  .  .\n",
      "  2  3  4  3  4  3  4  3  4  3  4  3  4  3  4  3  4  3  4  3  4  .  .  .  .  .  .  .  .  .  .  .  .  .  .  .  .  .  .  .  .  .  .  .\n",
      "  .  4  3  4  3  4  3  4  3  4  3  4  3  4  3  4  3  4  3  4  3  5  .  .  .  .  .  .  .  .  .  .  .  .  .  .  .  .  .  .  .  .  .  .\n",
      "  2  3  4  3  4  3  4  3  4  3  4  3  4  3  4  3  4  3  4  3  4  .  .  .  .  .  .  .  .  .  .  .  .  .  .  .  .  .  .  .  .  .  .  .\n",
      "  .  4  3  4  3  4  3  4  3  4  3  4  3  4  3  4  3  4  3  4  3  5  .  .  .  .  .  .  .  .  .  .  .  .  .  .  .  .  .  .  .  .  .  .\n",
      "  2  3  4  3  4  3  4  3  4  3  4  3  4  3  4  3  4  3  4  3  4  .  .  .  .  .  .  .  .  .  .  .  .  .  .  .  .  .  .  .  .  .  .  .\n",
      "  .  4  3  4  3  4  3  4  3  4  3  4  3  4  3  4  3  4  3  4  3  6  .  7  .  7  .  7  .  7  .  7  .  7  .  7  .  7  .  7  .  7  .  .\n",
      "  2  4  3  4  3  4  3  4  3  4  3  4  3  4  3  4  3  4  3  4  8  9  8  9  8  9  8  9  8  9  8  9  8  9  8  9  8  9  8  9  8  9  8 10\n",
      "  .  3  4  3  4  3  4  3  4  3  4  3  4  3  4  3  4  3  4  8  9  8  9  8  9  8  9  8  9  8  9  8  9  8  9  8  9  8  9  8  9  8  9  .\n",
      "  2  4  3  4  3  4  3  4  3  4  3  4  3  4  3  4  3  4  8  9  8  9  8  9  8  9  8  9  8  9  8  9  8  9  8  9  8  9  8  9  8  9  8 10\n",
      "  .  3  4  3  4  3  4  3  4  3  4  3  4  3  4  3  4  8  9  8  9  8  9  8  9  8  9  8  9  8  9  8  9  8  9  8  9  8  9  8  9  8  9  .\n",
      "  2  4  3  4  3  4  3  4  3  4  3  4  3  4  3  4  8  9  8  9  8  9  8  9  8  9  8  9  8  9  8  9  8  9  8  9  8  9  8  9  8  9  8 10\n",
      "  .  3  4  3  4  3  4  3  4  3  4  3  4  3  4  8  9  8  9  8  9  8  9  8  9  8  9  8  9  8  9  8  9  8  9  8  9  8  9  8  9  8  9  .\n",
      "  2  4  3  4  3  4  3  4  3  4  3  4  3  4  8  9  8  9  8  9  8  9  8  9  8  9  8  9  8  9  8  9  8  9  8  9  8  9  8  9  8  9  8 10\n",
      "  .  3  4  3  4  3  4  3  4  3  4  3  4  8  9  8  9  8  9  8  9  8  9  8  9  8  9  8  9  8  9  8  9  8  9  8  9  8  9  8  9  8  9  .\n",
      "  2  4  3  4  3  4  3  4  3  4  3  4  8  9  8  9  8  9  8  9  8  9  8  9  8  9  8  9  8  9  8  9  8  9  8  9  8  9  8  9  8  9  8 10\n",
      "  .  3  4  3  4  3  4  3  4  3  4  8  9  8  9  8  9  8  9  8  9  8  9  8  9  8  9  8  9  8  9  8  9  8  9  8  9  8  9  8  9  8  9  .\n",
      "  2  4  3  4  3  4  3  4  3  4  8  9  8  9  8  9  8  9  8  9  8  9  8  9  8  9  8  9  8  9  8  9  8  9  8  9  8  9  8  9  8  9  8 10\n",
      "  .  3  4  3  4  3  4  3  4  8  9  8  9  8  9  8  9  8  9  8  9  8  9  8  9  8  9  8  9  8  9  8  9  8  9  8  9  8  9  8  9  8  9  .\n",
      "  2  4  3  4  3  4  3  4  8  9  8  9  8  9  8  9  8  9  8  9  8  9  8  9  8  9  8  9  8  9  8  9  8  9  8  9  8  9  8  9  8  9  8 10\n",
      "  .  3  4  3  4  3  4  8  9  8  9  8  9  8  9  8  9  8  9  8  9  8  9  8  9  8  9  8  9  8  9  8  9  8  9  8  9  8  9  8  9  8  9  .\n",
      "  2  4  3  4  3  4  8  9  8  9  8  9  8  9  8  9  8  9  8  9  8  9  8  9  8  9  8  9  8  9  8  9  8  9  8  9  8  9  8  9  8  9  8 10\n",
      "  .  3  4  3  4  8  9  8  9  8  9  8  9  8  9  8  9  8  9  8  9  8  9  8  9  8  9  8  9  8  9  8  9  8  9  8  9  8  9  8  9  8  9  .\n",
      "  2  4  3  4  8  9  8  9  8  9  8  9  8  9  8  9  8  9  8  9  8  9  8  9  8  9  8  9  8  9  8  9  8  9  8  9  8  9  8  9  8  9  8 10\n",
      "  .  3  4  8  9  8  9  8  9  8  9  8  9  8  9  8  9  8  9  8  9  8  9  8  9  8  9  8  9  8  9  8  9  8  9  8  9  8  9  8  9  8  9  .\n",
      "  2  4  8  9  8  9  8  9  8  9  8  9  8  9  8  9  8  9  8  9  8  9  8  9  8  9  8  9  8  9  8  9  8  9  8  9  8  9  8  9  8  9  8 10\n",
      "  . 11  9  8  9  8  9  8  9  8  9  8  9  8  9  8  9  8  9  8  9  8  9  8  9  8  9  8  9  8  9  8  9  8  9  8  9  8  9  8  9  8  9  .\n",
      "  .  . 12  . 12  . 12  . 12  . 12  . 12  . 12  . 12  . 12  . 12  . 12  . 12  . 12  . 12  . 12  . 12  . 12  . 12  . 12  . 12  . 12  .\n"
     ]
    }
   ],
   "source": [
    "# Corner made of distance 21 (i.e., 20 plaquettes, i.e., k=20 in the line below) surface codes\n",
    "# This changes corner inplace\n",
    "corner.scale_to(20)\n",
    "print(f\"Corner size: {corner.shape}\")\n",
    "display_template(corner)"
   ]
  },
  {
   "cell_type": "markdown",
   "metadata": {},
   "source": [
    "## Scaling to large dimensions\n",
    "\n",
    "It is entirely possible to scale to large dimensions. Some limitations may appear when scaling to (very large) dimensions:\n",
    "- The underlying use of `cirq`, implemented in Python, will end up showing its limits. A more efficient quantum circuit library might solve this.\n",
    "- The representation of a scaled template as a 2-dimensional `numpy.ndarray` makes the memory cost grows as $\\text{dimension}^2$.\n",
    "\n",
    "But the above limitations are only noticeable at scales that will be very costly to simulate with `Stim` anyways, so they might not be as problematic as the above two points makes it sound.\n",
    "\n",
    "To show that, the following cell generates a corner with a dimensions of 5000. It only displays the shape of the resulting array, as displaying the whole array will take a large amount of time and will basically be unreadable."
   ]
  },
  {
   "cell_type": "code",
   "execution_count": 4,
   "metadata": {},
   "outputs": [
    {
     "name": "stdout",
     "output_type": "stream",
     "text": [
      "(10004, 10004)\n",
      "(10004, 10004)\n"
     ]
    }
   ],
   "source": [
    "# The library can go quite high:\n",
    "corner.scale_to(5000)\n",
    "plaquette_indices = list(range(corner.expected_plaquettes_number))\n",
    "array = corner.instanciate(*plaquette_indices)\n",
    "print(array.shape)\n",
    "print(corner.shape)"
   ]
  }
 ],
 "metadata": {
  "kernelspec": {
   "display_name": "qec",
   "language": "python",
   "name": "python3"
  },
  "language_info": {
   "codemirror_mode": {
    "name": "ipython",
    "version": 3
   },
   "file_extension": ".py",
   "mimetype": "text/x-python",
   "name": "python",
   "nbconvert_exporter": "python",
   "pygments_lexer": "ipython3",
   "version": "3.11.0"
  }
 },
 "nbformat": 4,
 "nbformat_minor": 2
}
