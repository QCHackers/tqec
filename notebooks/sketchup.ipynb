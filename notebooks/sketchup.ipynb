{
 "cells": [
  {
   "cell_type": "markdown",
   "metadata": {},
   "source": [
    "# Build a CNOT that can be used in SketchUp"
   ]
  },
  {
   "cell_type": "code",
   "execution_count": 1,
   "metadata": {},
   "outputs": [],
   "source": [
    "from tqec.sketchup.model import SketchUpModel\n",
    "from tqec.sketchup.block import BlockType"
   ]
  },
  {
   "cell_type": "markdown",
   "metadata": {},
   "source": [
    "## Build a model from scratch\n",
    "\n",
    "> Note that building the 3D model with scripts is not the target of the project."
   ]
  },
  {
   "cell_type": "code",
   "execution_count": 2,
   "metadata": {},
   "outputs": [],
   "source": [
    "model = SketchUpModel()\n",
    "\n",
    "zxz_cubes = [model.add_cube(BlockType.ZXZ) for _ in range(9)]\n",
    "zxx_cube = model.add_cube(BlockType.ZXX)\n",
    "for pair in [(0, 1), (1, 2), (2, 3), (5, 6), (6, 7), (7, 8)]:\n",
    "    model.add_connector(BlockType.ZXO, zxz_cubes[pair[0]], zxz_cubes[pair[1]])\n",
    "model.add_connector(BlockType.ZXO, zxx_cube, zxz_cubes[4])\n",
    "model.add_connector(BlockType.ZOX, zxz_cubes[1], zxx_cube)\n",
    "model.add_connector(BlockType.OXZ, zxz_cubes[4], zxz_cubes[7])\n",
    "model.write(\"cnot_from_scratch.dae\")"
   ]
  },
  {
   "cell_type": "markdown",
   "metadata": {},
   "source": [
    "## Load a model from a dae file"
   ]
  },
  {
   "cell_type": "code",
   "execution_count": 3,
   "metadata": {},
   "outputs": [],
   "source": [
    "model = SketchUpModel.from_dae_file(\"cnot_from_scratch.dae\")"
   ]
  },
  {
   "cell_type": "markdown",
   "metadata": {},
   "source": [
    "## Change the scale of connectors"
   ]
  },
  {
   "cell_type": "code",
   "execution_count": 6,
   "metadata": {},
   "outputs": [],
   "source": [
    "model.set_scale_for_all_connectors(0.5)\n",
    "model.write(\"cnot_from_scratch_half_scale.dae\")"
   ]
  },
  {
   "cell_type": "code",
   "execution_count": 7,
   "metadata": {},
   "outputs": [],
   "source": [
    "model.set_scale_for_all_connectors(2)\n",
    "model.write(\"cnot_from_scratch_twice_scale.dae\")"
   ]
  }
 ],
 "metadata": {
  "kernelspec": {
   "display_name": ".venv",
   "language": "python",
   "name": "python3"
  },
  "language_info": {
   "codemirror_mode": {
    "name": "ipython",
    "version": 3
   },
   "file_extension": ".py",
   "mimetype": "text/x-python",
   "name": "python",
   "nbconvert_exporter": "python",
   "pygments_lexer": "ipython3",
   "version": "3.11.7"
  }
 },
 "nbformat": 4,
 "nbformat_minor": 2
}
